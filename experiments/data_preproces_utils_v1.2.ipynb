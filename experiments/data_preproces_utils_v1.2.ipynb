{
 "nbformat": 4,
 "nbformat_minor": 0,
 "metadata": {
  "colab": {
   "provenance": [],
   "authorship_tag": "ABX9TyP4//2gy52wkz5ijU/4aw//",
   "include_colab_link": true
  },
  "kernelspec": {
   "name": "python3",
   "language": "python",
   "display_name": "Python 3 (ipykernel)"
  },
  "language_info": {
   "name": "python"
  }
 },
 "cells": [
  {
   "cell_type": "markdown",
   "metadata": {
    "id": "view-in-github",
    "colab_type": "text"
   },
   "source": [
    "<a href=\"https://colab.research.google.com/github/hornetio/sales_prediction/blob/main/experiments/data_preproces_utils.ipynb\" target=\"_parent\"><img src=\"https://colab.research.google.com/assets/colab-badge.svg\" alt=\"Open In Colab\"/></a>"
   ]
  },
  {
   "cell_type": "code",
   "source": [
    "import pandas as pd\n",
    "import numpy as np\n",
    "import matplotlib.pyplot as plt\n",
    "import seaborn as sns"
   ],
   "metadata": {
    "id": "J_RijViJvIuC",
    "ExecuteTime": {
     "end_time": "2024-08-24T09:26:40.737174900Z",
     "start_time": "2024-08-24T09:26:40.677307400Z"
    }
   },
   "execution_count": 4,
   "outputs": []
  },
  {
   "cell_type": "code",
   "source": [
    "test_df=pd.read_csv('D:/Valerian/Documents/OneDrive/Python/ДопОбр Анализ данных/Практика Нетодология/sales_prediction/Команда_11/test.csv', parse_dates=['Date'], low_memory=False)\n",
    "train_df=pd.read_csv('D:/Valerian/Documents/OneDrive/Python/ДопОбр Анализ данных/Практика Нетодология/sales_prediction/Команда_11/train.csv', parse_dates=['Date'], low_memory=False)\n",
    "add_df=pd.read_csv('D:/Valerian/Documents/OneDrive/Python/ДопОбр Анализ данных/Практика Нетодология/sales_prediction/Команда_11/store.csv', low_memory=False)"
   ],
   "metadata": {
    "colab": {
     "base_uri": "https://localhost:8080/"
    },
    "id": "znHi2YVHlxkF",
    "outputId": "f9c34a2f-0bfc-46a8-d295-bf73ba34d138",
    "ExecuteTime": {
     "end_time": "2024-08-24T09:26:41.504147300Z",
     "start_time": "2024-08-24T09:26:40.742176800Z"
    }
   },
   "execution_count": 5,
   "outputs": []
  },
  {
   "cell_type": "markdown",
   "source": [
    "# Первичная обработка NaN"
   ],
   "metadata": {
    "id": "xcwb5VQUvQWH"
   }
  },
  {
   "cell_type": "code",
   "source": [
    "add_df.isna().sum()"
   ],
   "metadata": {
    "colab": {
     "base_uri": "https://localhost:8080/",
     "height": 398
    },
    "id": "0gWPg1bXmNTV",
    "outputId": "94f742db-66cb-407d-e552-78f2f68d53cf",
    "ExecuteTime": {
     "end_time": "2024-08-24T09:26:41.520340500Z",
     "start_time": "2024-08-24T09:26:41.505140100Z"
    }
   },
   "execution_count": 6,
   "outputs": [
    {
     "data": {
      "text/plain": "Store                          0\nStoreType                      0\nAssortment                     0\nCompetitionDistance            3\nCompetitionOpenSinceMonth    354\nCompetitionOpenSinceYear     354\nPromo2                         0\nPromo2SinceWeek              544\nPromo2SinceYear              544\nPromoInterval                544\ndtype: int64"
     },
     "execution_count": 6,
     "metadata": {},
     "output_type": "execute_result"
    }
   ]
  },
  {
   "cell_type": "code",
   "source": [
    "add_df.loc[add_df['Promo2'] == 0, ['Promo2SinceWeek', 'Promo2SinceYear', 'PromoInterval']] = 0"
   ],
   "metadata": {
    "id": "utwKh3Ygmz0B",
    "ExecuteTime": {
     "end_time": "2024-08-24T09:26:41.528839400Z",
     "start_time": "2024-08-24T09:26:41.517338100Z"
    }
   },
   "execution_count": 7,
   "outputs": []
  },
  {
   "cell_type": "code",
   "source": [
    "from random import randint"
   ],
   "metadata": {
    "id": "HuZJ4bIysiNK",
    "ExecuteTime": {
     "end_time": "2024-08-24T09:26:41.551980Z",
     "start_time": "2024-08-24T09:26:41.528839400Z"
    }
   },
   "execution_count": 8,
   "outputs": []
  },
  {
   "cell_type": "code",
   "source": [
    "add_df['CompetitionDistance'].fillna(add_df['CompetitionDistance'].max()+randint(-200,200), inplace=True)\n",
    "add_df['CompetitionOpenSinceMonth'].fillna(int(add_df['CompetitionOpenSinceMonth'].mean()+randint(-2,2)), inplace=True)\n",
    "add_df['CompetitionOpenSinceYear'].fillna(int(add_df['CompetitionOpenSinceYear'].mean()+randint(-5,5)), inplace=True)"
   ],
   "metadata": {
    "id": "w3cXcA5muwbl",
    "ExecuteTime": {
     "end_time": "2024-08-24T09:26:41.552986600Z",
     "start_time": "2024-08-24T09:26:41.535364100Z"
    }
   },
   "execution_count": 9,
   "outputs": [
    {
     "name": "stderr",
     "output_type": "stream",
     "text": [
      "C:\\Users\\panfi\\AppData\\Local\\Temp\\ipykernel_18188\\3165722452.py:1: FutureWarning: A value is trying to be set on a copy of a DataFrame or Series through chained assignment using an inplace method.\n",
      "The behavior will change in pandas 3.0. This inplace method will never work because the intermediate object on which we are setting values always behaves as a copy.\n",
      "\n",
      "For example, when doing 'df[col].method(value, inplace=True)', try using 'df.method({col: value}, inplace=True)' or df[col] = df[col].method(value) instead, to perform the operation inplace on the original object.\n",
      "\n",
      "\n",
      "  add_df['CompetitionDistance'].fillna(add_df['CompetitionDistance'].max()+randint(-200,200), inplace=True)\n",
      "C:\\Users\\panfi\\AppData\\Local\\Temp\\ipykernel_18188\\3165722452.py:2: FutureWarning: A value is trying to be set on a copy of a DataFrame or Series through chained assignment using an inplace method.\n",
      "The behavior will change in pandas 3.0. This inplace method will never work because the intermediate object on which we are setting values always behaves as a copy.\n",
      "\n",
      "For example, when doing 'df[col].method(value, inplace=True)', try using 'df.method({col: value}, inplace=True)' or df[col] = df[col].method(value) instead, to perform the operation inplace on the original object.\n",
      "\n",
      "\n",
      "  add_df['CompetitionOpenSinceMonth'].fillna(int(add_df['CompetitionOpenSinceMonth'].mean()+randint(-2,2)), inplace=True)\n",
      "C:\\Users\\panfi\\AppData\\Local\\Temp\\ipykernel_18188\\3165722452.py:3: FutureWarning: A value is trying to be set on a copy of a DataFrame or Series through chained assignment using an inplace method.\n",
      "The behavior will change in pandas 3.0. This inplace method will never work because the intermediate object on which we are setting values always behaves as a copy.\n",
      "\n",
      "For example, when doing 'df[col].method(value, inplace=True)', try using 'df.method({col: value}, inplace=True)' or df[col] = df[col].method(value) instead, to perform the operation inplace on the original object.\n",
      "\n",
      "\n",
      "  add_df['CompetitionOpenSinceYear'].fillna(int(add_df['CompetitionOpenSinceYear'].mean()+randint(-5,5)), inplace=True)\n"
     ]
    }
   ]
  },
  {
   "cell_type": "code",
   "source": [
    "df = pd.merge(train_df, add_df, on='Store')"
   ],
   "metadata": {
    "id": "iFQBJul1S7LL",
    "ExecuteTime": {
     "end_time": "2024-08-24T09:26:41.703434400Z",
     "start_time": "2024-08-24T09:26:41.545980800Z"
    }
   },
   "execution_count": 10,
   "outputs": []
  },
  {
   "cell_type": "code",
   "source": [
    "df.info()"
   ],
   "metadata": {
    "colab": {
     "base_uri": "https://localhost:8080/"
    },
    "id": "nvXW4EQ5uahh",
    "outputId": "40da8249-2c7c-4455-a2dc-4644e3c9a11e",
    "ExecuteTime": {
     "end_time": "2024-08-24T09:26:41.880185200Z",
     "start_time": "2024-08-24T09:26:41.706441400Z"
    }
   },
   "execution_count": 11,
   "outputs": [
    {
     "name": "stdout",
     "output_type": "stream",
     "text": [
      "<class 'pandas.core.frame.DataFrame'>\n",
      "RangeIndex: 1017209 entries, 0 to 1017208\n",
      "Data columns (total 18 columns):\n",
      " #   Column                     Non-Null Count    Dtype         \n",
      "---  ------                     --------------    -----         \n",
      " 0   Store                      1017209 non-null  int64         \n",
      " 1   DayOfWeek                  1017209 non-null  int64         \n",
      " 2   Date                       1017209 non-null  datetime64[ns]\n",
      " 3   Sales                      1017209 non-null  int64         \n",
      " 4   Customers                  1017209 non-null  int64         \n",
      " 5   Open                       1017209 non-null  int64         \n",
      " 6   Promo                      1017209 non-null  int64         \n",
      " 7   StateHoliday               1017209 non-null  object        \n",
      " 8   SchoolHoliday              1017209 non-null  int64         \n",
      " 9   StoreType                  1017209 non-null  object        \n",
      " 10  Assortment                 1017209 non-null  object        \n",
      " 11  CompetitionDistance        1017209 non-null  float64       \n",
      " 12  CompetitionOpenSinceMonth  1017209 non-null  float64       \n",
      " 13  CompetitionOpenSinceYear   1017209 non-null  float64       \n",
      " 14  Promo2                     1017209 non-null  int64         \n",
      " 15  Promo2SinceWeek            1017209 non-null  float64       \n",
      " 16  Promo2SinceYear            1017209 non-null  float64       \n",
      " 17  PromoInterval              1017209 non-null  object        \n",
      "dtypes: datetime64[ns](1), float64(5), int64(8), object(4)\n",
      "memory usage: 139.7+ MB\n"
     ]
    }
   ]
  },
  {
   "cell_type": "code",
   "source": [
    "df.isnull().sum()"
   ],
   "metadata": {
    "colab": {
     "base_uri": "https://localhost:8080/",
     "height": 649
    },
    "id": "7u68sYfIuh8u",
    "outputId": "02fcc159-8461-4c1f-f092-bf20afae56cc",
    "ExecuteTime": {
     "end_time": "2024-08-24T09:26:42.041133100Z",
     "start_time": "2024-08-24T09:26:41.876187600Z"
    }
   },
   "execution_count": 12,
   "outputs": [
    {
     "data": {
      "text/plain": "Store                        0\nDayOfWeek                    0\nDate                         0\nSales                        0\nCustomers                    0\nOpen                         0\nPromo                        0\nStateHoliday                 0\nSchoolHoliday                0\nStoreType                    0\nAssortment                   0\nCompetitionDistance          0\nCompetitionOpenSinceMonth    0\nCompetitionOpenSinceYear     0\nPromo2                       0\nPromo2SinceWeek              0\nPromo2SinceYear              0\nPromoInterval                0\ndtype: int64"
     },
     "execution_count": 12,
     "metadata": {},
     "output_type": "execute_result"
    }
   ]
  },
  {
   "cell_type": "code",
   "source": [
    "df.describe()"
   ],
   "metadata": {
    "colab": {
     "base_uri": "https://localhost:8080/",
     "height": 320
    },
    "id": "ueeJQ1PLup2b",
    "outputId": "ba384aa8-1430-4332-d18b-2312aee4e27d",
    "ExecuteTime": {
     "end_time": "2024-08-24T09:26:42.628380200Z",
     "start_time": "2024-08-24T09:26:42.039135Z"
    }
   },
   "execution_count": 13,
   "outputs": [
    {
     "data": {
      "text/plain": "              Store     DayOfWeek                           Date  \\\ncount  1.017209e+06  1.017209e+06                        1017209   \nmean   5.584297e+02  3.998341e+00  2014-04-11 01:30:42.846061824   \nmin    1.000000e+00  1.000000e+00            2013-01-01 00:00:00   \n25%    2.800000e+02  2.000000e+00            2013-08-17 00:00:00   \n50%    5.580000e+02  4.000000e+00            2014-04-02 00:00:00   \n75%    8.380000e+02  6.000000e+00            2014-12-12 00:00:00   \nmax    1.115000e+03  7.000000e+00            2015-07-31 00:00:00   \nstd    3.219087e+02  1.997391e+00                            NaN   \n\n              Sales     Customers          Open         Promo  SchoolHoliday  \\\ncount  1.017209e+06  1.017209e+06  1.017209e+06  1.017209e+06   1.017209e+06   \nmean   5.773819e+03  6.331459e+02  8.301067e-01  3.815145e-01   1.786467e-01   \nmin    0.000000e+00  0.000000e+00  0.000000e+00  0.000000e+00   0.000000e+00   \n25%    3.727000e+03  4.050000e+02  1.000000e+00  0.000000e+00   0.000000e+00   \n50%    5.744000e+03  6.090000e+02  1.000000e+00  0.000000e+00   0.000000e+00   \n75%    7.856000e+03  8.370000e+02  1.000000e+00  1.000000e+00   0.000000e+00   \nmax    4.155100e+04  7.388000e+03  1.000000e+00  1.000000e+00   1.000000e+00   \nstd    3.849926e+03  4.644117e+02  3.755392e-01  4.857586e-01   3.830564e-01   \n\n       CompetitionDistance  CompetitionOpenSinceMonth  \\\ncount         1.017209e+06               1.017209e+06   \nmean          5.612637e+03               7.152022e+00   \nmin           2.000000e+01               1.000000e+00   \n25%           7.100000e+02               6.000000e+00   \n50%           2.330000e+03               7.000000e+00   \n75%           6.910000e+03               9.000000e+00   \nmax           7.586000e+04               1.200000e+01   \nstd           8.495228e+03               2.654703e+00   \n\n       CompetitionOpenSinceYear        Promo2  Promo2SinceWeek  \\\ncount              1.017209e+06  1.017209e+06     1.017209e+06   \nmean               2.007835e+03  5.005638e-01     1.164767e+01   \nmin                1.900000e+03  0.000000e+00     0.000000e+00   \n25%                2.006000e+03  0.000000e+00     0.000000e+00   \n50%                2.006000e+03  1.000000e+00     1.000000e+00   \n75%                2.011000e+03  1.000000e+00     2.200000e+01   \nmax                2.015000e+03  1.000000e+00     5.000000e+01   \nstd                5.105439e+00  4.999999e-01     1.532393e+01   \n\n       Promo2SinceYear  \ncount     1.017209e+06  \nmean      1.007011e+03  \nmin       0.000000e+00  \n25%       0.000000e+00  \n50%       2.009000e+03  \n75%       2.012000e+03  \nmax       2.015000e+03  \nstd       1.005877e+03  ",
      "text/html": "<div>\n<style scoped>\n    .dataframe tbody tr th:only-of-type {\n        vertical-align: middle;\n    }\n\n    .dataframe tbody tr th {\n        vertical-align: top;\n    }\n\n    .dataframe thead th {\n        text-align: right;\n    }\n</style>\n<table border=\"1\" class=\"dataframe\">\n  <thead>\n    <tr style=\"text-align: right;\">\n      <th></th>\n      <th>Store</th>\n      <th>DayOfWeek</th>\n      <th>Date</th>\n      <th>Sales</th>\n      <th>Customers</th>\n      <th>Open</th>\n      <th>Promo</th>\n      <th>SchoolHoliday</th>\n      <th>CompetitionDistance</th>\n      <th>CompetitionOpenSinceMonth</th>\n      <th>CompetitionOpenSinceYear</th>\n      <th>Promo2</th>\n      <th>Promo2SinceWeek</th>\n      <th>Promo2SinceYear</th>\n    </tr>\n  </thead>\n  <tbody>\n    <tr>\n      <th>count</th>\n      <td>1.017209e+06</td>\n      <td>1.017209e+06</td>\n      <td>1017209</td>\n      <td>1.017209e+06</td>\n      <td>1.017209e+06</td>\n      <td>1.017209e+06</td>\n      <td>1.017209e+06</td>\n      <td>1.017209e+06</td>\n      <td>1.017209e+06</td>\n      <td>1.017209e+06</td>\n      <td>1.017209e+06</td>\n      <td>1.017209e+06</td>\n      <td>1.017209e+06</td>\n      <td>1.017209e+06</td>\n    </tr>\n    <tr>\n      <th>mean</th>\n      <td>5.584297e+02</td>\n      <td>3.998341e+00</td>\n      <td>2014-04-11 01:30:42.846061824</td>\n      <td>5.773819e+03</td>\n      <td>6.331459e+02</td>\n      <td>8.301067e-01</td>\n      <td>3.815145e-01</td>\n      <td>1.786467e-01</td>\n      <td>5.612637e+03</td>\n      <td>7.152022e+00</td>\n      <td>2.007835e+03</td>\n      <td>5.005638e-01</td>\n      <td>1.164767e+01</td>\n      <td>1.007011e+03</td>\n    </tr>\n    <tr>\n      <th>min</th>\n      <td>1.000000e+00</td>\n      <td>1.000000e+00</td>\n      <td>2013-01-01 00:00:00</td>\n      <td>0.000000e+00</td>\n      <td>0.000000e+00</td>\n      <td>0.000000e+00</td>\n      <td>0.000000e+00</td>\n      <td>0.000000e+00</td>\n      <td>2.000000e+01</td>\n      <td>1.000000e+00</td>\n      <td>1.900000e+03</td>\n      <td>0.000000e+00</td>\n      <td>0.000000e+00</td>\n      <td>0.000000e+00</td>\n    </tr>\n    <tr>\n      <th>25%</th>\n      <td>2.800000e+02</td>\n      <td>2.000000e+00</td>\n      <td>2013-08-17 00:00:00</td>\n      <td>3.727000e+03</td>\n      <td>4.050000e+02</td>\n      <td>1.000000e+00</td>\n      <td>0.000000e+00</td>\n      <td>0.000000e+00</td>\n      <td>7.100000e+02</td>\n      <td>6.000000e+00</td>\n      <td>2.006000e+03</td>\n      <td>0.000000e+00</td>\n      <td>0.000000e+00</td>\n      <td>0.000000e+00</td>\n    </tr>\n    <tr>\n      <th>50%</th>\n      <td>5.580000e+02</td>\n      <td>4.000000e+00</td>\n      <td>2014-04-02 00:00:00</td>\n      <td>5.744000e+03</td>\n      <td>6.090000e+02</td>\n      <td>1.000000e+00</td>\n      <td>0.000000e+00</td>\n      <td>0.000000e+00</td>\n      <td>2.330000e+03</td>\n      <td>7.000000e+00</td>\n      <td>2.006000e+03</td>\n      <td>1.000000e+00</td>\n      <td>1.000000e+00</td>\n      <td>2.009000e+03</td>\n    </tr>\n    <tr>\n      <th>75%</th>\n      <td>8.380000e+02</td>\n      <td>6.000000e+00</td>\n      <td>2014-12-12 00:00:00</td>\n      <td>7.856000e+03</td>\n      <td>8.370000e+02</td>\n      <td>1.000000e+00</td>\n      <td>1.000000e+00</td>\n      <td>0.000000e+00</td>\n      <td>6.910000e+03</td>\n      <td>9.000000e+00</td>\n      <td>2.011000e+03</td>\n      <td>1.000000e+00</td>\n      <td>2.200000e+01</td>\n      <td>2.012000e+03</td>\n    </tr>\n    <tr>\n      <th>max</th>\n      <td>1.115000e+03</td>\n      <td>7.000000e+00</td>\n      <td>2015-07-31 00:00:00</td>\n      <td>4.155100e+04</td>\n      <td>7.388000e+03</td>\n      <td>1.000000e+00</td>\n      <td>1.000000e+00</td>\n      <td>1.000000e+00</td>\n      <td>7.586000e+04</td>\n      <td>1.200000e+01</td>\n      <td>2.015000e+03</td>\n      <td>1.000000e+00</td>\n      <td>5.000000e+01</td>\n      <td>2.015000e+03</td>\n    </tr>\n    <tr>\n      <th>std</th>\n      <td>3.219087e+02</td>\n      <td>1.997391e+00</td>\n      <td>NaN</td>\n      <td>3.849926e+03</td>\n      <td>4.644117e+02</td>\n      <td>3.755392e-01</td>\n      <td>4.857586e-01</td>\n      <td>3.830564e-01</td>\n      <td>8.495228e+03</td>\n      <td>2.654703e+00</td>\n      <td>5.105439e+00</td>\n      <td>4.999999e-01</td>\n      <td>1.532393e+01</td>\n      <td>1.005877e+03</td>\n    </tr>\n  </tbody>\n</table>\n</div>"
     },
     "execution_count": 13,
     "metadata": {},
     "output_type": "execute_result"
    }
   ]
  },
  {
   "cell_type": "markdown",
   "source": [
    "# Фичи из даты"
   ],
   "metadata": {
    "id": "KVVOTAWKvWN1"
   }
  },
  {
   "cell_type": "code",
   "source": [
    "df['Year'] = df['Date'].dt.year\n",
    "df['Month'] = df['Date'].dt.month\n",
    "df['Day'] = df['Date'].dt.day\n",
    "df['DayOfWeek'] = df['Date'].dt.dayofweek\n",
    "df['IsWeekend'] = df['DayOfWeek'].isin([5, 6]).astype(int)\n",
    "df['WeekOfYear'] = df['Date'].dt.isocalendar().week"
   ],
   "metadata": {
    "id": "1IV2pS57u3IF",
    "ExecuteTime": {
     "end_time": "2024-08-24T09:26:42.856846500Z",
     "start_time": "2024-08-24T09:26:42.621381900Z"
    }
   },
   "execution_count": 14,
   "outputs": []
  },
  {
   "cell_type": "markdown",
   "source": [
    "вариант преобразования даты в порядковое для некоторых моделей"
   ],
   "metadata": {
    "id": "egl5inTB7D0A"
   }
  },
  {
   "cell_type": "code",
   "source": [
    "df_cleaned = df.drop(columns=['Date'])"
   ],
   "metadata": {
    "id": "eMMC7j4s7Nu4",
    "ExecuteTime": {
     "end_time": "2024-08-24T09:26:42.921230100Z",
     "start_time": "2024-08-24T09:26:42.858846300Z"
    }
   },
   "execution_count": 15,
   "outputs": []
  },
  {
   "cell_type": "code",
   "source": [
    "df['DateOrdinal'] = df['Date'].map(pd.Timestamp.toordinal)"
   ],
   "metadata": {
    "id": "2ualDFid7ATy",
    "ExecuteTime": {
     "end_time": "2024-08-24T09:26:45.109519700Z",
     "start_time": "2024-08-24T09:26:42.922222600Z"
    }
   },
   "execution_count": 16,
   "outputs": []
  },
  {
   "cell_type": "markdown",
   "source": [
    "# Можно юзать лаговые и скользящие признаки"
   ],
   "metadata": {
    "id": "Kzm7zS8G7R2H"
   }
  },
  {
   "cell_type": "code",
   "source": [
    "df['Sales_Lag_1'] = df['Sales'].shift(1)\n",
    "df['Sales_Lag_7'] = df['Sales'].shift(7)\n",
    "df['Sales_MA_7'] = df['Sales'].rolling(window=7).mean()\n",
    "df['Sales_MA_30'] = df['Sales'].rolling(window=30).mean()\n",
    "df = df.dropna()"
   ],
   "metadata": {
    "id": "zXNKwNwG7XVa",
    "ExecuteTime": {
     "end_time": "2024-08-24T09:26:45.537401Z",
     "start_time": "2024-08-24T09:26:45.110519800Z"
    }
   },
   "execution_count": 17,
   "outputs": []
  },
  {
   "cell_type": "markdown",
   "source": [
    "# Сезонное декомпозирование"
   ],
   "metadata": {
    "id": "b4V0Xi-l7hmv"
   }
  },
  {
   "cell_type": "code",
   "source": [
    "from statsmodels.tsa.seasonal import seasonal_decompose\n",
    "result = seasonal_decompose(df['Sales'], model='additive', period=365)\n",
    "df['Trend'] = result.trend\n",
    "df['Seasonal'] = result.seasonal\n",
    "df['Residual'] = result.resid\n",
    "df = df.dropna()"
   ],
   "metadata": {
    "id": "ItsZTdCv7lEk",
    "ExecuteTime": {
     "end_time": "2024-08-24T09:27:21.873305900Z",
     "start_time": "2024-08-24T09:27:21.123496500Z"
    }
   },
   "execution_count": 19,
   "outputs": []
  },
  {
   "cell_type": "markdown",
   "source": [
    "# Нормализация с учетом временных данных (тут чисто пример от гптшки т.к. не успеваю дописать"
   ],
   "metadata": {
    "id": "IRXvXXOm7tFg"
   }
  },
  {
   "cell_type": "code",
   "source": [
    "from sklearn.preprocessing import StandardScaler\n",
    "df['Month'] = df['Month'].astype(str)\n",
    "scaler = StandardScaler()\n",
    "df_scaled = df.copy()\n",
    "for month in df['Month'].unique():\n",
    "    mask = df['Month'] == month\n",
    "    df_scaled.loc[mask, ['Sales']] = scaler.fit_transform(df.loc[mask, ['Sales']])\n",
    "df_scaled = df_scaled.drop(columns=['Month'])\n",
    "print(df_scaled.head())"
   ],
   "metadata": {
    "id": "obAvQ0hF7sqd",
    "ExecuteTime": {
     "end_time": "2024-08-24T09:27:29.220143600Z",
     "start_time": "2024-08-24T09:27:27.147840500Z"
    }
   },
   "execution_count": 20,
   "outputs": [
    {
     "name": "stderr",
     "output_type": "stream",
     "text": [
      "C:\\Users\\panfi\\AppData\\Local\\Temp\\ipykernel_18188\\2749990115.py:7: FutureWarning: Setting an item of incompatible dtype is deprecated and will raise an error in a future version of pandas. Value '[-2.76549202e-03  1.21569074e+00  1.38928505e+00 ...  7.72915392e-01\n",
      "  5.40502673e+00  3.97160630e-01]' has dtype incompatible with int64, please explicitly cast to a compatible dtype first.\n",
      "  df_scaled.loc[mask, ['Sales']] = scaler.fit_transform(df.loc[mask, ['Sales']])\n"
     ]
    },
    {
     "name": "stdout",
     "output_type": "stream",
     "text": [
      "     Store  DayOfWeek       Date     Sales  Customers  Open  Promo  \\\n",
      "211    212          4 2015-07-31 -0.002765        471     1      1   \n",
      "212    213          4 2015-07-31  1.215691        754     1      1   \n",
      "213    214          4 2015-07-31  1.389285        805     1      1   \n",
      "214    215          4 2015-07-31  0.989084        705     1      1   \n",
      "215    216          4 2015-07-31  1.151692       1077     1      1   \n",
      "\n",
      "    StateHoliday  SchoolHoliday StoreType  ... IsWeekend  WeekOfYear  \\\n",
      "211            0              1         a  ...         0          31   \n",
      "212            0              1         d  ...         0          31   \n",
      "213            0              1         d  ...         0          31   \n",
      "214            0              0         d  ...         0          31   \n",
      "215            0              1         c  ...         0          31   \n",
      "\n",
      "     DateOrdinal  Sales_Lag_1  Sales_Lag_7   Sales_MA_7  Sales_MA_30  \\\n",
      "211       735810      17286.0       8665.0  9261.000000  8723.000000   \n",
      "212       735810       6049.0      10354.0  9279.714286  8886.233333   \n",
      "213       735810      10485.0      13957.0  8874.000000  8983.800000   \n",
      "214       735810      11117.0       3994.0  9683.428571  9040.533333   \n",
      "215       735810       9660.0       8912.0  9874.857143  9217.033333   \n",
      "\n",
      "           Trend   Seasonal     Residual  \n",
      "211  9043.016438  94.517207 -3088.533646  \n",
      "212  9043.536986 -35.709970  1477.172983  \n",
      "213  9061.432877  23.405916  2032.161207  \n",
      "214  9066.186301 -75.088513   668.902212  \n",
      "215  9059.219178 -68.267422  1261.048244  \n",
      "\n",
      "[5 rows x 30 columns]\n"
     ]
    }
   ]
  },
  {
   "cell_type": "code",
   "outputs": [
    {
     "name": "stdout",
     "output_type": "stream",
     "text": [
      "<bound method DataFrame.info of          Store  DayOfWeek       Date  Sales  Customers  Open  Promo  \\\n",
      "211        212          4 2015-07-31   6049        471     1      1   \n",
      "212        213          4 2015-07-31  10485        754     1      1   \n",
      "213        214          4 2015-07-31  11117        805     1      1   \n",
      "214        215          4 2015-07-31   9660        705     1      1   \n",
      "215        216          4 2015-07-31  10252       1077     1      1   \n",
      "...        ...        ...        ...    ...        ...   ...    ...   \n",
      "1017022    928          1 2013-01-01      0          0     0      0   \n",
      "1017023    929          1 2013-01-01      0          0     0      0   \n",
      "1017024    930          1 2013-01-01      0          0     0      0   \n",
      "1017025    931          1 2013-01-01      0          0     0      0   \n",
      "1017026    932          1 2013-01-01      0          0     0      0   \n",
      "\n",
      "        StateHoliday  SchoolHoliday StoreType  ... IsWeekend  WeekOfYear  \\\n",
      "211                0              1         a  ...         0          31   \n",
      "212                0              1         d  ...         0          31   \n",
      "213                0              1         d  ...         0          31   \n",
      "214                0              0         d  ...         0          31   \n",
      "215                0              1         c  ...         0          31   \n",
      "...              ...            ...       ...  ...       ...         ...   \n",
      "1017022            a              1         d  ...         0           1   \n",
      "1017023            a              1         a  ...         0           1   \n",
      "1017024            a              1         a  ...         0           1   \n",
      "1017025            a              1         a  ...         0           1   \n",
      "1017026            a              1         a  ...         0           1   \n",
      "\n",
      "         DateOrdinal  Sales_Lag_1  Sales_Lag_7   Sales_MA_7  Sales_MA_30  \\\n",
      "211           735810      17286.0       8665.0  9261.000000  8723.000000   \n",
      "212           735810       6049.0      10354.0  9279.714286  8886.233333   \n",
      "213           735810      10485.0      13957.0  8874.000000  8983.800000   \n",
      "214           735810      11117.0       3994.0  9683.428571  9040.533333   \n",
      "215           735810       9660.0       8912.0  9874.857143  9217.033333   \n",
      "...              ...          ...          ...          ...          ...   \n",
      "1017022       734869          0.0          0.0     0.000000     0.000000   \n",
      "1017023       734869          0.0          0.0     0.000000     0.000000   \n",
      "1017024       734869          0.0          0.0     0.000000     0.000000   \n",
      "1017025       734869          0.0          0.0     0.000000     0.000000   \n",
      "1017026       734869          0.0          0.0     0.000000     0.000000   \n",
      "\n",
      "               Trend   Seasonal     Residual  \n",
      "211      9043.016438  94.517207 -3088.533646  \n",
      "212      9043.536986 -35.709970  1477.172983  \n",
      "213      9061.432877  23.405916  2032.161207  \n",
      "214      9066.186301 -75.088513   668.902212  \n",
      "215      9059.219178 -68.267422  1261.048244  \n",
      "...              ...        ...          ...  \n",
      "1017022    42.430137   5.217166   -47.647303  \n",
      "1017023    42.430137  -2.413130   -40.017007  \n",
      "1017024    42.430137 -88.582835    46.152698  \n",
      "1017025    42.430137 -21.045509   -21.384628  \n",
      "1017026    42.430137  82.383746  -124.813883  \n",
      "\n",
      "[1016816 rows x 31 columns]>\n"
     ]
    }
   ],
   "source": [
    "print(df.info)"
   ],
   "metadata": {
    "collapsed": false,
    "ExecuteTime": {
     "end_time": "2024-08-24T09:28:02.778742400Z",
     "start_time": "2024-08-24T09:28:02.534724600Z"
    }
   },
   "execution_count": 21
  },
  {
   "cell_type": "code",
   "outputs": [
    {
     "ename": "KeyError",
     "evalue": "\"['Store'] not found in axis\"",
     "output_type": "error",
     "traceback": [
      "\u001B[1;31m---------------------------------------------------------------------------\u001B[0m",
      "\u001B[1;31mKeyError\u001B[0m                                  Traceback (most recent call last)",
      "Cell \u001B[1;32mIn[24], line 1\u001B[0m\n\u001B[1;32m----> 1\u001B[0m df \u001B[38;5;241m=\u001B[39m \u001B[43mdf\u001B[49m\u001B[38;5;241;43m.\u001B[39;49m\u001B[43mdrop\u001B[49m\u001B[43m(\u001B[49m\u001B[43mcolumns\u001B[49m\u001B[38;5;241;43m=\u001B[39;49m\u001B[43m[\u001B[49m\u001B[38;5;124;43m\"\u001B[39;49m\u001B[38;5;124;43mStore\u001B[39;49m\u001B[38;5;124;43m\"\u001B[39;49m\u001B[43m]\u001B[49m\u001B[43m)\u001B[49m\n\u001B[0;32m      2\u001B[0m df \u001B[38;5;241m=\u001B[39m df\u001B[38;5;241m.\u001B[39mdrop(columns\u001B[38;5;241m=\u001B[39m[\u001B[38;5;124m'\u001B[39m\u001B[38;5;124mCustomers\u001B[39m\u001B[38;5;124m'\u001B[39m])\n\u001B[0;32m      3\u001B[0m df \u001B[38;5;241m=\u001B[39m df\u001B[38;5;241m.\u001B[39mdrop(columns\u001B[38;5;241m=\u001B[39m[\u001B[38;5;124m'\u001B[39m\u001B[38;5;124mSales_Lag_1\u001B[39m\u001B[38;5;124m'\u001B[39m])\n",
      "File \u001B[1;32mD:\\Valerian\\Documents\\OneDrive\\Python\\ДопОбр Анализ данных\\Практика Нетодология\\.venv\\Lib\\site-packages\\pandas\\core\\frame.py:5581\u001B[0m, in \u001B[0;36mDataFrame.drop\u001B[1;34m(self, labels, axis, index, columns, level, inplace, errors)\u001B[0m\n\u001B[0;32m   5433\u001B[0m \u001B[38;5;28;01mdef\u001B[39;00m \u001B[38;5;21mdrop\u001B[39m(\n\u001B[0;32m   5434\u001B[0m     \u001B[38;5;28mself\u001B[39m,\n\u001B[0;32m   5435\u001B[0m     labels: IndexLabel \u001B[38;5;241m|\u001B[39m \u001B[38;5;28;01mNone\u001B[39;00m \u001B[38;5;241m=\u001B[39m \u001B[38;5;28;01mNone\u001B[39;00m,\n\u001B[1;32m   (...)\u001B[0m\n\u001B[0;32m   5442\u001B[0m     errors: IgnoreRaise \u001B[38;5;241m=\u001B[39m \u001B[38;5;124m\"\u001B[39m\u001B[38;5;124mraise\u001B[39m\u001B[38;5;124m\"\u001B[39m,\n\u001B[0;32m   5443\u001B[0m ) \u001B[38;5;241m-\u001B[39m\u001B[38;5;241m>\u001B[39m DataFrame \u001B[38;5;241m|\u001B[39m \u001B[38;5;28;01mNone\u001B[39;00m:\n\u001B[0;32m   5444\u001B[0m \u001B[38;5;250m    \u001B[39m\u001B[38;5;124;03m\"\"\"\u001B[39;00m\n\u001B[0;32m   5445\u001B[0m \u001B[38;5;124;03m    Drop specified labels from rows or columns.\u001B[39;00m\n\u001B[0;32m   5446\u001B[0m \n\u001B[1;32m   (...)\u001B[0m\n\u001B[0;32m   5579\u001B[0m \u001B[38;5;124;03m            weight  1.0     0.8\u001B[39;00m\n\u001B[0;32m   5580\u001B[0m \u001B[38;5;124;03m    \"\"\"\u001B[39;00m\n\u001B[1;32m-> 5581\u001B[0m     \u001B[38;5;28;01mreturn\u001B[39;00m \u001B[38;5;28;43msuper\u001B[39;49m\u001B[43m(\u001B[49m\u001B[43m)\u001B[49m\u001B[38;5;241;43m.\u001B[39;49m\u001B[43mdrop\u001B[49m\u001B[43m(\u001B[49m\n\u001B[0;32m   5582\u001B[0m \u001B[43m        \u001B[49m\u001B[43mlabels\u001B[49m\u001B[38;5;241;43m=\u001B[39;49m\u001B[43mlabels\u001B[49m\u001B[43m,\u001B[49m\n\u001B[0;32m   5583\u001B[0m \u001B[43m        \u001B[49m\u001B[43maxis\u001B[49m\u001B[38;5;241;43m=\u001B[39;49m\u001B[43maxis\u001B[49m\u001B[43m,\u001B[49m\n\u001B[0;32m   5584\u001B[0m \u001B[43m        \u001B[49m\u001B[43mindex\u001B[49m\u001B[38;5;241;43m=\u001B[39;49m\u001B[43mindex\u001B[49m\u001B[43m,\u001B[49m\n\u001B[0;32m   5585\u001B[0m \u001B[43m        \u001B[49m\u001B[43mcolumns\u001B[49m\u001B[38;5;241;43m=\u001B[39;49m\u001B[43mcolumns\u001B[49m\u001B[43m,\u001B[49m\n\u001B[0;32m   5586\u001B[0m \u001B[43m        \u001B[49m\u001B[43mlevel\u001B[49m\u001B[38;5;241;43m=\u001B[39;49m\u001B[43mlevel\u001B[49m\u001B[43m,\u001B[49m\n\u001B[0;32m   5587\u001B[0m \u001B[43m        \u001B[49m\u001B[43minplace\u001B[49m\u001B[38;5;241;43m=\u001B[39;49m\u001B[43minplace\u001B[49m\u001B[43m,\u001B[49m\n\u001B[0;32m   5588\u001B[0m \u001B[43m        \u001B[49m\u001B[43merrors\u001B[49m\u001B[38;5;241;43m=\u001B[39;49m\u001B[43merrors\u001B[49m\u001B[43m,\u001B[49m\n\u001B[0;32m   5589\u001B[0m \u001B[43m    \u001B[49m\u001B[43m)\u001B[49m\n",
      "File \u001B[1;32mD:\\Valerian\\Documents\\OneDrive\\Python\\ДопОбр Анализ данных\\Практика Нетодология\\.venv\\Lib\\site-packages\\pandas\\core\\generic.py:4788\u001B[0m, in \u001B[0;36mNDFrame.drop\u001B[1;34m(self, labels, axis, index, columns, level, inplace, errors)\u001B[0m\n\u001B[0;32m   4786\u001B[0m \u001B[38;5;28;01mfor\u001B[39;00m axis, labels \u001B[38;5;129;01min\u001B[39;00m axes\u001B[38;5;241m.\u001B[39mitems():\n\u001B[0;32m   4787\u001B[0m     \u001B[38;5;28;01mif\u001B[39;00m labels \u001B[38;5;129;01mis\u001B[39;00m \u001B[38;5;129;01mnot\u001B[39;00m \u001B[38;5;28;01mNone\u001B[39;00m:\n\u001B[1;32m-> 4788\u001B[0m         obj \u001B[38;5;241m=\u001B[39m \u001B[43mobj\u001B[49m\u001B[38;5;241;43m.\u001B[39;49m\u001B[43m_drop_axis\u001B[49m\u001B[43m(\u001B[49m\u001B[43mlabels\u001B[49m\u001B[43m,\u001B[49m\u001B[43m \u001B[49m\u001B[43maxis\u001B[49m\u001B[43m,\u001B[49m\u001B[43m \u001B[49m\u001B[43mlevel\u001B[49m\u001B[38;5;241;43m=\u001B[39;49m\u001B[43mlevel\u001B[49m\u001B[43m,\u001B[49m\u001B[43m \u001B[49m\u001B[43merrors\u001B[49m\u001B[38;5;241;43m=\u001B[39;49m\u001B[43merrors\u001B[49m\u001B[43m)\u001B[49m\n\u001B[0;32m   4790\u001B[0m \u001B[38;5;28;01mif\u001B[39;00m inplace:\n\u001B[0;32m   4791\u001B[0m     \u001B[38;5;28mself\u001B[39m\u001B[38;5;241m.\u001B[39m_update_inplace(obj)\n",
      "File \u001B[1;32mD:\\Valerian\\Documents\\OneDrive\\Python\\ДопОбр Анализ данных\\Практика Нетодология\\.venv\\Lib\\site-packages\\pandas\\core\\generic.py:4830\u001B[0m, in \u001B[0;36mNDFrame._drop_axis\u001B[1;34m(self, labels, axis, level, errors, only_slice)\u001B[0m\n\u001B[0;32m   4828\u001B[0m         new_axis \u001B[38;5;241m=\u001B[39m axis\u001B[38;5;241m.\u001B[39mdrop(labels, level\u001B[38;5;241m=\u001B[39mlevel, errors\u001B[38;5;241m=\u001B[39merrors)\n\u001B[0;32m   4829\u001B[0m     \u001B[38;5;28;01melse\u001B[39;00m:\n\u001B[1;32m-> 4830\u001B[0m         new_axis \u001B[38;5;241m=\u001B[39m \u001B[43maxis\u001B[49m\u001B[38;5;241;43m.\u001B[39;49m\u001B[43mdrop\u001B[49m\u001B[43m(\u001B[49m\u001B[43mlabels\u001B[49m\u001B[43m,\u001B[49m\u001B[43m \u001B[49m\u001B[43merrors\u001B[49m\u001B[38;5;241;43m=\u001B[39;49m\u001B[43merrors\u001B[49m\u001B[43m)\u001B[49m\n\u001B[0;32m   4831\u001B[0m     indexer \u001B[38;5;241m=\u001B[39m axis\u001B[38;5;241m.\u001B[39mget_indexer(new_axis)\n\u001B[0;32m   4833\u001B[0m \u001B[38;5;66;03m# Case for non-unique axis\u001B[39;00m\n\u001B[0;32m   4834\u001B[0m \u001B[38;5;28;01melse\u001B[39;00m:\n",
      "File \u001B[1;32mD:\\Valerian\\Documents\\OneDrive\\Python\\ДопОбр Анализ данных\\Практика Нетодология\\.venv\\Lib\\site-packages\\pandas\\core\\indexes\\base.py:7070\u001B[0m, in \u001B[0;36mIndex.drop\u001B[1;34m(self, labels, errors)\u001B[0m\n\u001B[0;32m   7068\u001B[0m \u001B[38;5;28;01mif\u001B[39;00m mask\u001B[38;5;241m.\u001B[39many():\n\u001B[0;32m   7069\u001B[0m     \u001B[38;5;28;01mif\u001B[39;00m errors \u001B[38;5;241m!=\u001B[39m \u001B[38;5;124m\"\u001B[39m\u001B[38;5;124mignore\u001B[39m\u001B[38;5;124m\"\u001B[39m:\n\u001B[1;32m-> 7070\u001B[0m         \u001B[38;5;28;01mraise\u001B[39;00m \u001B[38;5;167;01mKeyError\u001B[39;00m(\u001B[38;5;124mf\u001B[39m\u001B[38;5;124m\"\u001B[39m\u001B[38;5;132;01m{\u001B[39;00mlabels[mask]\u001B[38;5;241m.\u001B[39mtolist()\u001B[38;5;132;01m}\u001B[39;00m\u001B[38;5;124m not found in axis\u001B[39m\u001B[38;5;124m\"\u001B[39m)\n\u001B[0;32m   7071\u001B[0m     indexer \u001B[38;5;241m=\u001B[39m indexer[\u001B[38;5;241m~\u001B[39mmask]\n\u001B[0;32m   7072\u001B[0m \u001B[38;5;28;01mreturn\u001B[39;00m \u001B[38;5;28mself\u001B[39m\u001B[38;5;241m.\u001B[39mdelete(indexer)\n",
      "\u001B[1;31mKeyError\u001B[0m: \"['Store'] not found in axis\""
     ]
    }
   ],
   "source": [
    "df = df.drop(columns=[\"Store\"])\n",
    "df = df.drop(columns=['Customers'])\n",
    "df = df.drop(columns=['Sales_Lag_1'])\n",
    "df = df.drop(columns=['Sales_Lag_7'])\n",
    "df = df.drop(columns=['Sales_MA_7'])\n",
    "df = df.drop(columns=['Sales_MA_30'])\n",
    "df = df.drop(columns=['Residual'])\n",
    "df = df.drop(columns=['StoreType']) \n",
    "df = df.drop(columns=['Seasonal']) \n",
    "df = df.drop(columns=['Trend']) \n",
    "# Приведение всех столбцов к числовым значениям\n",
    "for col in df.columns:\n",
    "    df[col] = pd.to_numeric(df[col], errors='coerce')"
   ],
   "metadata": {
    "collapsed": false,
    "ExecuteTime": {
     "end_time": "2024-08-24T09:33:24.209657Z",
     "start_time": "2024-08-24T09:33:23.136884100Z"
    }
   },
   "execution_count": 24
  },
  {
   "cell_type": "code",
   "outputs": [
    {
     "name": "stdout",
     "output_type": "stream",
     "text": [
      "<bound method DataFrame.info of          DayOfWeek                 Date  Sales  Open  Promo  StateHoliday  \\\n",
      "211              4  1438300800000000000   6049     1      1           0.0   \n",
      "212              4  1438300800000000000  10485     1      1           0.0   \n",
      "213              4  1438300800000000000  11117     1      1           0.0   \n",
      "214              4  1438300800000000000   9660     1      1           0.0   \n",
      "215              4  1438300800000000000  10252     1      1           0.0   \n",
      "...            ...                  ...    ...   ...    ...           ...   \n",
      "1017022          1  1356998400000000000      0     0      0           NaN   \n",
      "1017023          1  1356998400000000000      0     0      0           NaN   \n",
      "1017024          1  1356998400000000000      0     0      0           NaN   \n",
      "1017025          1  1356998400000000000      0     0      0           NaN   \n",
      "1017026          1  1356998400000000000      0     0      0           NaN   \n",
      "\n",
      "         SchoolHoliday  Assortment  CompetitionDistance  \\\n",
      "211                  1         NaN              15050.0   \n",
      "212                  1         NaN               4030.0   \n",
      "213                  1         NaN               8650.0   \n",
      "214                  0         NaN                150.0   \n",
      "215                  1         NaN                190.0   \n",
      "...                ...         ...                  ...   \n",
      "1017022              1         NaN               1090.0   \n",
      "1017023              1         NaN               4820.0   \n",
      "1017024              1         NaN                 70.0   \n",
      "1017025              1         NaN               1480.0   \n",
      "1017026              1         NaN              15700.0   \n",
      "\n",
      "         CompetitionOpenSinceMonth  ...  Promo2SinceYear  PromoInterval  Year  \\\n",
      "211                            9.0  ...              0.0            0.0  2015   \n",
      "212                            3.0  ...           2014.0            NaN  2015   \n",
      "213                            7.0  ...           2014.0            NaN  2015   \n",
      "214                            7.0  ...           2009.0            NaN  2015   \n",
      "215                            7.0  ...           2009.0            NaN  2015   \n",
      "...                            ...  ...              ...            ...   ...   \n",
      "1017022                        7.0  ...           2013.0            NaN  2013   \n",
      "1017023                        9.0  ...              0.0            0.0  2013   \n",
      "1017024                        7.0  ...              0.0            0.0  2013   \n",
      "1017025                        9.0  ...           2012.0            NaN  2013   \n",
      "1017026                        7.0  ...           2010.0            NaN  2013   \n",
      "\n",
      "         Month  Day  IsWeekend  WeekOfYear  DateOrdinal        Trend  \\\n",
      "211          7   31          0          31       735810  9043.016438   \n",
      "212          7   31          0          31       735810  9043.536986   \n",
      "213          7   31          0          31       735810  9061.432877   \n",
      "214          7   31          0          31       735810  9066.186301   \n",
      "215          7   31          0          31       735810  9059.219178   \n",
      "...        ...  ...        ...         ...          ...          ...   \n",
      "1017022      1    1          0           1       734869    42.430137   \n",
      "1017023      1    1          0           1       734869    42.430137   \n",
      "1017024      1    1          0           1       734869    42.430137   \n",
      "1017025      1    1          0           1       734869    42.430137   \n",
      "1017026      1    1          0           1       734869    42.430137   \n",
      "\n",
      "          Seasonal  \n",
      "211      94.517207  \n",
      "212     -35.709970  \n",
      "213      23.405916  \n",
      "214     -75.088513  \n",
      "215     -68.267422  \n",
      "...            ...  \n",
      "1017022   5.217166  \n",
      "1017023  -2.413130  \n",
      "1017024 -88.582835  \n",
      "1017025 -21.045509  \n",
      "1017026  82.383746  \n",
      "\n",
      "[1016816 rows x 23 columns]>\n"
     ]
    }
   ],
   "source": [
    "print(df.info)\n"
   ],
   "metadata": {
    "collapsed": false,
    "ExecuteTime": {
     "end_time": "2024-08-24T09:33:25.246529600Z",
     "start_time": "2024-08-24T09:33:25.086985Z"
    }
   },
   "execution_count": 25
  },
  {
   "cell_type": "code",
   "outputs": [
    {
     "name": "stdout",
     "output_type": "stream",
     "text": [
      "Index(['DayOfWeek', 'Date', 'Open', 'Promo', 'StateHoliday', 'SchoolHoliday',\n",
      "       'Assortment', 'CompetitionDistance', 'CompetitionOpenSinceMonth',\n",
      "       'CompetitionOpenSinceYear', 'Promo2', 'Promo2SinceWeek',\n",
      "       'Promo2SinceYear', 'PromoInterval', 'Year', 'Month', 'Day', 'IsWeekend',\n",
      "       'WeekOfYear', 'DateOrdinal', 'Trend', 'Seasonal'],\n",
      "      dtype='object')\n",
      "962236     3490\n",
      "283388     4311\n",
      "952320     6533\n",
      "295478     6579\n",
      "68602         0\n",
      "          ...  \n",
      "783028     8916\n",
      "721100     5607\n",
      "709042     4337\n",
      "36405     17934\n",
      "381406     5029\n",
      "Name: Sales, Length: 813452, dtype: int64\n"
     ]
    }
   ],
   "source": [
    "from sklearn.model_selection import train_test_split\n",
    "\n",
    "# Определяем целевую переменную (в данном случае, допустим, что 'Sales' - это целевая переменная)\n",
    "target = 'Sales'\n",
    "\n",
    "# Разделяем признаки (X) и целевую переменную (y)\n",
    "X = df.drop(columns=[target])\n",
    "Y = df[target]\n",
    "\n",
    "# Разделяем данные на тренировочный и тестовый наборы\n",
    "# Например, тестовый набор составит 20% от всех данных\n",
    "train_points, test_points, train_values, test_values = train_test_split(X, Y, test_size = 0.2)\n",
    "print(train_points.columns)\n",
    "print(train_values)"
   ],
   "metadata": {
    "collapsed": false,
    "ExecuteTime": {
     "end_time": "2024-08-24T09:33:50.684157500Z",
     "start_time": "2024-08-24T09:33:49.541712900Z"
    }
   },
   "execution_count": 26
  },
  {
   "cell_type": "code",
   "outputs": [
    {
     "name": "stdout",
     "output_type": "stream",
     "text": [
      "Среднее абсолютное отклонение (MAE) на тестовых данных (RandomForest): 1412.4703657658977\n",
      "Среднеквадратичная ошибка (MSE) на тестовых данных (RandomForest): 4472409.399550748\n",
      "Корень средней квадратичной ошибки (RMSE) на тестовых данных (RandomForest): 2114.807177865336\n",
      "Коэффициент детерминации (R^2) на тестовых данных (RandomForest): 0.6974376703806044\n"
     ]
    }
   ],
   "source": [
    "import pandas as pd\n",
    "from sklearn.model_selection import train_test_split\n",
    "from sklearn.ensemble import RandomForestRegressor\n",
    "from sklearn.metrics import mean_absolute_error, mean_squared_error, r2_score\n",
    "\n",
    "# Предположим, что ваши данные уже подготовлены и содержат колонки с лагами и скользящими средними\n",
    "# Например: df содержит 'Sales_Lag_1', 'Sales_Lag_7', 'Sales_MA_7', 'Sales_MA_30' и другие признаки\n",
    "\n",
    "\n",
    "    \n",
    "\n",
    "# Разделение на признаки (X) и целевую переменную (y)\n",
    "X = df.drop(columns=['Sales'])  # Все колонки кроме 'Sales' являются признаками\n",
    "y = df['Sales']\n",
    "\n",
    "# Разделение данных на обучающую и тестовую выборки\n",
    "X_train, X_test, y_train, y_test = train_test_split(X, y, test_size=0.2, random_state=42)\n",
    "\n",
    "\n",
    "# Создаем модель случайного леса с оптимизированными параметрами\n",
    "model = RandomForestRegressor(\n",
    "    n_estimators=50,  \n",
    "    max_depth=10,  # Ограничение глубины деревьев для ускорения обучения\n",
    "    n_jobs=-1,  # все доступные ядра процессора\n",
    "    random_state=42\n",
    ")\n",
    "\n",
    "# Обучение модели\n",
    "model.fit(X_train, y_train)\n",
    "\n",
    "# Прогнозирование\n",
    "y_pred = model.predict(X_test)\n",
    "\n",
    "# Вычисление метрик\n",
    "mae_rf = mean_absolute_error(y_test, y_pred)\n",
    "mse_rf = mean_squared_error(y_test, y_pred)\n",
    "rmse_rf = mse_rf ** 0.5\n",
    "r2_rf = r2_score(y_test, y_pred)\n",
    "\n",
    "# Вывод значений метрик\n",
    "print(f\"Среднее абсолютное отклонение (MAE) на тестовых данных (RandomForest): {mae_rf}\")\n",
    "print(f\"Среднеквадратичная ошибка (MSE) на тестовых данных (RandomForest): {mse_rf}\")\n",
    "print(f\"Корень средней квадратичной ошибки (RMSE) на тестовых данных (RandomForest): {rmse_rf}\")\n",
    "print(f\"Коэффициент детерминации (R^2) на тестовых данных (RandomForest): {r2_rf}\")\n"
   ],
   "metadata": {
    "collapsed": false,
    "ExecuteTime": {
     "end_time": "2024-08-24T09:34:56.023443800Z",
     "start_time": "2024-08-24T09:33:59.161636300Z"
    }
   },
   "execution_count": 27
  },
  {
   "cell_type": "code",
   "outputs": [],
   "source": [],
   "metadata": {
    "collapsed": false
   }
  }
 ]
}
