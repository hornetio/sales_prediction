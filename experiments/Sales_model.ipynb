{
 "nbformat": 4,
 "nbformat_minor": 0,
 "metadata": {
  "colab": {
   "provenance": [],
   "authorship_tag": "ABX9TyOXwdrrPSVetoSbT4g/2Z9V",
   "include_colab_link": true
  },
  "kernelspec": {
   "name": "python3",
   "language": "python",
   "display_name": "Python 3 (ipykernel)"
  },
  "language_info": {
   "name": "python"
  }
 },
 "cells": [
  {
   "cell_type": "markdown",
   "metadata": {
    "id": "view-in-github",
    "colab_type": "text"
   },
   "source": [
    "<a href=\"https://colab.research.google.com/github/hornetio/sales_prediction/blob/main/Sales_model.ipynb\" target=\"_parent\"><img src=\"https://colab.research.google.com/assets/colab-badge.svg\" alt=\"Open In Colab\"/></a>"
   ]
  },
  {
   "cell_type": "markdown",
   "source": [
    "#Загрузка данных"
   ],
   "metadata": {
    "id": "hR8ieYfMFy2_"
   }
  },
  {
   "cell_type": "code",
   "execution_count": 57,
   "metadata": {
    "id": "XrfMDdIElflC",
    "ExecuteTime": {
     "end_time": "2024-08-24T12:35:53.355142600Z",
     "start_time": "2024-08-24T12:35:53.048348600Z"
    }
   },
   "outputs": [],
   "source": [
    "import pandas as pd"
   ]
  },
  {
   "cell_type": "code",
   "source": [
    "test_df = pd.read_csv('D:/Valerian/Documents/OneDrive/Python/ДопОбр Анализ данных/Практика Нетодология/sales_prediction/Команда_11/test.csv', encoding='iso-8859-1',na_values=[''], keep_default_na=False)\n",
    "\n",
    "train_df = pd.read_csv('D:/Valerian/Documents/OneDrive/Python/ДопОбр Анализ данных/Практика Нетодология/sales_prediction/Команда_11/train.csv', parse_dates=['Date'], low_memory=False, na_values=[''], keep_default_na=False)\n",
    "\n",
    "# Загрузка данных из файла store.csv\n",
    "add_df = pd.read_csv('D:/Valerian/Documents/OneDrive/Python/ДопОбр Анализ данных/Практика Нетодология/sales_prediction/Команда_11/store.csv', encoding='iso-8859-1',na_values=[''], keep_default_na=False)\n"
   ],
   "metadata": {
    "colab": {
     "base_uri": "https://localhost:8080/"
    },
    "id": "znHi2YVHlxkF",
    "outputId": "40ec95bb-b156-4659-ec6a-91104303ef38",
    "ExecuteTime": {
     "end_time": "2024-08-24T12:35:54.249947Z",
     "start_time": "2024-08-24T12:35:53.358149700Z"
    }
   },
   "execution_count": 58,
   "outputs": []
  },
  {
   "cell_type": "markdown",
   "source": [
    "#Чищу NaN"
   ],
   "metadata": {
    "id": "nIA79KeOFELg"
   }
  },
  {
   "cell_type": "code",
   "source": [
    "train_df.isna().sum()"
   ],
   "metadata": {
    "colab": {
     "base_uri": "https://localhost:8080/",
     "height": 366
    },
    "id": "q5yUQkGNmJTT",
    "outputId": "0b719377-06f3-4f61-bd56-d5fbaa4833c4",
    "ExecuteTime": {
     "end_time": "2024-08-24T12:35:54.299678Z",
     "start_time": "2024-08-24T12:35:54.251952400Z"
    }
   },
   "execution_count": 59,
   "outputs": [
    {
     "data": {
      "text/plain": "Store            0\nDayOfWeek        0\nDate             0\nSales            0\nCustomers        0\nOpen             0\nPromo            0\nStateHoliday     0\nSchoolHoliday    0\ndtype: int64"
     },
     "execution_count": 59,
     "metadata": {},
     "output_type": "execute_result"
    }
   ]
  },
  {
   "cell_type": "code",
   "source": [
    "test_df.isna().sum()"
   ],
   "metadata": {
    "colab": {
     "base_uri": "https://localhost:8080/",
     "height": 335
    },
    "id": "NAWAsuUXV2ls",
    "outputId": "12034695-6856-4e72-ea39-da6abd710b3a",
    "ExecuteTime": {
     "end_time": "2024-08-24T12:35:54.310730400Z",
     "start_time": "2024-08-24T12:35:54.299678Z"
    }
   },
   "execution_count": 60,
   "outputs": [
    {
     "data": {
      "text/plain": "Id                0\nStore             0\nDayOfWeek         0\nDate              0\nOpen             11\nPromo             0\nStateHoliday      0\nSchoolHoliday     0\ndtype: int64"
     },
     "execution_count": 60,
     "metadata": {},
     "output_type": "execute_result"
    }
   ]
  },
  {
   "cell_type": "code",
   "source": [
    "test_df.fillna(0,inplace=True)"
   ],
   "metadata": {
    "id": "k4UjTZZBQX0j",
    "ExecuteTime": {
     "end_time": "2024-08-24T12:35:54.329882400Z",
     "start_time": "2024-08-24T12:35:54.311729200Z"
    }
   },
   "execution_count": 61,
   "outputs": []
  },
  {
   "cell_type": "code",
   "source": [
    "add_df.isna().sum()"
   ],
   "metadata": {
    "colab": {
     "base_uri": "https://localhost:8080/",
     "height": 398
    },
    "id": "0gWPg1bXmNTV",
    "outputId": "016e9b70-eaec-4f9e-fe1f-a85fb9404ef6",
    "ExecuteTime": {
     "end_time": "2024-08-24T12:35:54.333882800Z",
     "start_time": "2024-08-24T12:35:54.321617100Z"
    }
   },
   "execution_count": 62,
   "outputs": [
    {
     "data": {
      "text/plain": "Store                          0\nStoreType                      0\nAssortment                     0\nCompetitionDistance            3\nCompetitionOpenSinceMonth    354\nCompetitionOpenSinceYear     354\nPromo2                         0\nPromo2SinceWeek              544\nPromo2SinceYear              544\nPromoInterval                544\ndtype: int64"
     },
     "execution_count": 62,
     "metadata": {},
     "output_type": "execute_result"
    }
   ]
  },
  {
   "cell_type": "code",
   "source": [
    "add_df.loc[add_df['Promo2'] == 0, ['Promo2SinceWeek', 'Promo2SinceYear', 'PromoInterval']] = 0"
   ],
   "metadata": {
    "id": "utwKh3Ygmz0B",
    "ExecuteTime": {
     "end_time": "2024-08-24T12:35:54.340991800Z",
     "start_time": "2024-08-24T12:35:54.332882900Z"
    }
   },
   "execution_count": 63,
   "outputs": []
  },
  {
   "cell_type": "code",
   "source": [
    "add_df['CompetitionDistance'].fillna(add_df['CompetitionDistance'].mean(), inplace=True)\n",
    "add_df['CompetitionOpenSinceMonth'].fillna(int(add_df['CompetitionOpenSinceMonth'].mean()), inplace=True)\n",
    "add_df['CompetitionOpenSinceYear'].fillna(int(add_df['CompetitionOpenSinceYear'].mean()), inplace=True)"
   ],
   "metadata": {
    "id": "w3cXcA5muwbl",
    "ExecuteTime": {
     "end_time": "2024-08-24T12:35:54.354679300Z",
     "start_time": "2024-08-24T12:35:54.343001400Z"
    }
   },
   "execution_count": 64,
   "outputs": [
    {
     "name": "stderr",
     "output_type": "stream",
     "text": [
      "C:\\Users\\panfi\\AppData\\Local\\Temp\\ipykernel_24564\\1350760453.py:1: FutureWarning: A value is trying to be set on a copy of a DataFrame or Series through chained assignment using an inplace method.\n",
      "The behavior will change in pandas 3.0. This inplace method will never work because the intermediate object on which we are setting values always behaves as a copy.\n",
      "\n",
      "For example, when doing 'df[col].method(value, inplace=True)', try using 'df.method({col: value}, inplace=True)' or df[col] = df[col].method(value) instead, to perform the operation inplace on the original object.\n",
      "\n",
      "\n",
      "  add_df['CompetitionDistance'].fillna(add_df['CompetitionDistance'].mean(), inplace=True)\n",
      "C:\\Users\\panfi\\AppData\\Local\\Temp\\ipykernel_24564\\1350760453.py:2: FutureWarning: A value is trying to be set on a copy of a DataFrame or Series through chained assignment using an inplace method.\n",
      "The behavior will change in pandas 3.0. This inplace method will never work because the intermediate object on which we are setting values always behaves as a copy.\n",
      "\n",
      "For example, when doing 'df[col].method(value, inplace=True)', try using 'df.method({col: value}, inplace=True)' or df[col] = df[col].method(value) instead, to perform the operation inplace on the original object.\n",
      "\n",
      "\n",
      "  add_df['CompetitionOpenSinceMonth'].fillna(int(add_df['CompetitionOpenSinceMonth'].mean()), inplace=True)\n",
      "C:\\Users\\panfi\\AppData\\Local\\Temp\\ipykernel_24564\\1350760453.py:3: FutureWarning: A value is trying to be set on a copy of a DataFrame or Series through chained assignment using an inplace method.\n",
      "The behavior will change in pandas 3.0. This inplace method will never work because the intermediate object on which we are setting values always behaves as a copy.\n",
      "\n",
      "For example, when doing 'df[col].method(value, inplace=True)', try using 'df.method({col: value}, inplace=True)' or df[col] = df[col].method(value) instead, to perform the operation inplace on the original object.\n",
      "\n",
      "\n",
      "  add_df['CompetitionOpenSinceYear'].fillna(int(add_df['CompetitionOpenSinceYear'].mean()), inplace=True)\n"
     ]
    }
   ]
  },
  {
   "cell_type": "markdown",
   "source": [
    "#Мерджим данные"
   ],
   "metadata": {
    "id": "eX8JLKr_SzwP"
   }
  },
  {
   "cell_type": "code",
   "source": [
    "merged_test = pd.merge(test_df, add_df, on='Store')"
   ],
   "metadata": {
    "id": "xmFpP6bMSx_n",
    "ExecuteTime": {
     "end_time": "2024-08-24T12:35:54.363894300Z",
     "start_time": "2024-08-24T12:35:54.353677600Z"
    }
   },
   "execution_count": 65,
   "outputs": []
  },
  {
   "cell_type": "code",
   "source": [
    "merged_train = pd.merge(train_df, add_df, on='Store')"
   ],
   "metadata": {
    "id": "iFQBJul1S7LL",
    "ExecuteTime": {
     "end_time": "2024-08-24T12:35:54.505778800Z",
     "start_time": "2024-08-24T12:35:54.364887900Z"
    }
   },
   "execution_count": 66,
   "outputs": []
  },
  {
   "cell_type": "code",
   "outputs": [],
   "source": [],
   "metadata": {
    "collapsed": false,
    "ExecuteTime": {
     "end_time": "2024-08-24T12:35:54.511858700Z",
     "start_time": "2024-08-24T12:35:54.508339400Z"
    }
   },
   "execution_count": 66
  },
  {
   "cell_type": "code",
   "outputs": [],
   "source": [],
   "metadata": {
    "collapsed": false,
    "ExecuteTime": {
     "end_time": "2024-08-24T12:35:54.515799100Z",
     "start_time": "2024-08-24T12:35:54.512269900Z"
    }
   },
   "execution_count": 66
  },
  {
   "cell_type": "code",
   "source": [
    "merged_test"
   ],
   "metadata": {
    "colab": {
     "base_uri": "https://localhost:8080/",
     "height": 444
    },
    "id": "zcu6VaDHVTZx",
    "outputId": "46d5825a-c74d-4a4c-f4c9-f5c3dca675bc",
    "ExecuteTime": {
     "end_time": "2024-08-24T12:35:54.539654300Z",
     "start_time": "2024-08-24T12:35:54.527797300Z"
    }
   },
   "execution_count": 67,
   "outputs": [
    {
     "data": {
      "text/plain": "          Id  Store  DayOfWeek        Date  Open  Promo StateHoliday  \\\n0          1      1          4  2015-09-17   1.0      1            0   \n1          2      3          4  2015-09-17   1.0      1            0   \n2          3      7          4  2015-09-17   1.0      1            0   \n3          4      8          4  2015-09-17   1.0      1            0   \n4          5      9          4  2015-09-17   1.0      1            0   \n...      ...    ...        ...         ...   ...    ...          ...   \n41083  41084   1111          6  2015-08-01   1.0      0            0   \n41084  41085   1112          6  2015-08-01   1.0      0            0   \n41085  41086   1113          6  2015-08-01   1.0      0            0   \n41086  41087   1114          6  2015-08-01   1.0      0            0   \n41087  41088   1115          6  2015-08-01   1.0      0            0   \n\n       SchoolHoliday StoreType Assortment  CompetitionDistance  \\\n0                  0         c          a               1270.0   \n1                  0         a          a              14130.0   \n2                  0         a          c              24000.0   \n3                  0         a          a               7520.0   \n4                  0         a          c               2030.0   \n...              ...       ...        ...                  ...   \n41083              0         a          a               1900.0   \n41084              0         c          c               1880.0   \n41085              0         a          c               9260.0   \n41086              0         a          c                870.0   \n41087              1         d          c               5350.0   \n\n       CompetitionOpenSinceMonth  CompetitionOpenSinceYear  Promo2  \\\n0                            9.0                    2008.0       0   \n1                           12.0                    2006.0       1   \n2                            4.0                    2013.0       0   \n3                           10.0                    2014.0       0   \n4                            8.0                    2000.0       0   \n...                          ...                       ...     ...   \n41083                        6.0                    2014.0       1   \n41084                        4.0                    2006.0       0   \n41085                        7.0                    2008.0       0   \n41086                        7.0                    2008.0       0   \n41087                        7.0                    2008.0       1   \n\n       Promo2SinceWeek  Promo2SinceYear     PromoInterval  \n0                  0.0              0.0                 0  \n1                 14.0           2011.0   Jan,Apr,Jul,Oct  \n2                  0.0              0.0                 0  \n3                  0.0              0.0                 0  \n4                  0.0              0.0                 0  \n...                ...              ...               ...  \n41083             31.0           2013.0   Jan,Apr,Jul,Oct  \n41084              0.0              0.0                 0  \n41085              0.0              0.0                 0  \n41086              0.0              0.0                 0  \n41087             22.0           2012.0  Mar,Jun,Sept,Dec  \n\n[41088 rows x 17 columns]",
      "text/html": "<div>\n<style scoped>\n    .dataframe tbody tr th:only-of-type {\n        vertical-align: middle;\n    }\n\n    .dataframe tbody tr th {\n        vertical-align: top;\n    }\n\n    .dataframe thead th {\n        text-align: right;\n    }\n</style>\n<table border=\"1\" class=\"dataframe\">\n  <thead>\n    <tr style=\"text-align: right;\">\n      <th></th>\n      <th>Id</th>\n      <th>Store</th>\n      <th>DayOfWeek</th>\n      <th>Date</th>\n      <th>Open</th>\n      <th>Promo</th>\n      <th>StateHoliday</th>\n      <th>SchoolHoliday</th>\n      <th>StoreType</th>\n      <th>Assortment</th>\n      <th>CompetitionDistance</th>\n      <th>CompetitionOpenSinceMonth</th>\n      <th>CompetitionOpenSinceYear</th>\n      <th>Promo2</th>\n      <th>Promo2SinceWeek</th>\n      <th>Promo2SinceYear</th>\n      <th>PromoInterval</th>\n    </tr>\n  </thead>\n  <tbody>\n    <tr>\n      <th>0</th>\n      <td>1</td>\n      <td>1</td>\n      <td>4</td>\n      <td>2015-09-17</td>\n      <td>1.0</td>\n      <td>1</td>\n      <td>0</td>\n      <td>0</td>\n      <td>c</td>\n      <td>a</td>\n      <td>1270.0</td>\n      <td>9.0</td>\n      <td>2008.0</td>\n      <td>0</td>\n      <td>0.0</td>\n      <td>0.0</td>\n      <td>0</td>\n    </tr>\n    <tr>\n      <th>1</th>\n      <td>2</td>\n      <td>3</td>\n      <td>4</td>\n      <td>2015-09-17</td>\n      <td>1.0</td>\n      <td>1</td>\n      <td>0</td>\n      <td>0</td>\n      <td>a</td>\n      <td>a</td>\n      <td>14130.0</td>\n      <td>12.0</td>\n      <td>2006.0</td>\n      <td>1</td>\n      <td>14.0</td>\n      <td>2011.0</td>\n      <td>Jan,Apr,Jul,Oct</td>\n    </tr>\n    <tr>\n      <th>2</th>\n      <td>3</td>\n      <td>7</td>\n      <td>4</td>\n      <td>2015-09-17</td>\n      <td>1.0</td>\n      <td>1</td>\n      <td>0</td>\n      <td>0</td>\n      <td>a</td>\n      <td>c</td>\n      <td>24000.0</td>\n      <td>4.0</td>\n      <td>2013.0</td>\n      <td>0</td>\n      <td>0.0</td>\n      <td>0.0</td>\n      <td>0</td>\n    </tr>\n    <tr>\n      <th>3</th>\n      <td>4</td>\n      <td>8</td>\n      <td>4</td>\n      <td>2015-09-17</td>\n      <td>1.0</td>\n      <td>1</td>\n      <td>0</td>\n      <td>0</td>\n      <td>a</td>\n      <td>a</td>\n      <td>7520.0</td>\n      <td>10.0</td>\n      <td>2014.0</td>\n      <td>0</td>\n      <td>0.0</td>\n      <td>0.0</td>\n      <td>0</td>\n    </tr>\n    <tr>\n      <th>4</th>\n      <td>5</td>\n      <td>9</td>\n      <td>4</td>\n      <td>2015-09-17</td>\n      <td>1.0</td>\n      <td>1</td>\n      <td>0</td>\n      <td>0</td>\n      <td>a</td>\n      <td>c</td>\n      <td>2030.0</td>\n      <td>8.0</td>\n      <td>2000.0</td>\n      <td>0</td>\n      <td>0.0</td>\n      <td>0.0</td>\n      <td>0</td>\n    </tr>\n    <tr>\n      <th>...</th>\n      <td>...</td>\n      <td>...</td>\n      <td>...</td>\n      <td>...</td>\n      <td>...</td>\n      <td>...</td>\n      <td>...</td>\n      <td>...</td>\n      <td>...</td>\n      <td>...</td>\n      <td>...</td>\n      <td>...</td>\n      <td>...</td>\n      <td>...</td>\n      <td>...</td>\n      <td>...</td>\n      <td>...</td>\n    </tr>\n    <tr>\n      <th>41083</th>\n      <td>41084</td>\n      <td>1111</td>\n      <td>6</td>\n      <td>2015-08-01</td>\n      <td>1.0</td>\n      <td>0</td>\n      <td>0</td>\n      <td>0</td>\n      <td>a</td>\n      <td>a</td>\n      <td>1900.0</td>\n      <td>6.0</td>\n      <td>2014.0</td>\n      <td>1</td>\n      <td>31.0</td>\n      <td>2013.0</td>\n      <td>Jan,Apr,Jul,Oct</td>\n    </tr>\n    <tr>\n      <th>41084</th>\n      <td>41085</td>\n      <td>1112</td>\n      <td>6</td>\n      <td>2015-08-01</td>\n      <td>1.0</td>\n      <td>0</td>\n      <td>0</td>\n      <td>0</td>\n      <td>c</td>\n      <td>c</td>\n      <td>1880.0</td>\n      <td>4.0</td>\n      <td>2006.0</td>\n      <td>0</td>\n      <td>0.0</td>\n      <td>0.0</td>\n      <td>0</td>\n    </tr>\n    <tr>\n      <th>41085</th>\n      <td>41086</td>\n      <td>1113</td>\n      <td>6</td>\n      <td>2015-08-01</td>\n      <td>1.0</td>\n      <td>0</td>\n      <td>0</td>\n      <td>0</td>\n      <td>a</td>\n      <td>c</td>\n      <td>9260.0</td>\n      <td>7.0</td>\n      <td>2008.0</td>\n      <td>0</td>\n      <td>0.0</td>\n      <td>0.0</td>\n      <td>0</td>\n    </tr>\n    <tr>\n      <th>41086</th>\n      <td>41087</td>\n      <td>1114</td>\n      <td>6</td>\n      <td>2015-08-01</td>\n      <td>1.0</td>\n      <td>0</td>\n      <td>0</td>\n      <td>0</td>\n      <td>a</td>\n      <td>c</td>\n      <td>870.0</td>\n      <td>7.0</td>\n      <td>2008.0</td>\n      <td>0</td>\n      <td>0.0</td>\n      <td>0.0</td>\n      <td>0</td>\n    </tr>\n    <tr>\n      <th>41087</th>\n      <td>41088</td>\n      <td>1115</td>\n      <td>6</td>\n      <td>2015-08-01</td>\n      <td>1.0</td>\n      <td>0</td>\n      <td>0</td>\n      <td>1</td>\n      <td>d</td>\n      <td>c</td>\n      <td>5350.0</td>\n      <td>7.0</td>\n      <td>2008.0</td>\n      <td>1</td>\n      <td>22.0</td>\n      <td>2012.0</td>\n      <td>Mar,Jun,Sept,Dec</td>\n    </tr>\n  </tbody>\n</table>\n<p>41088 rows × 17 columns</p>\n</div>"
     },
     "execution_count": 67,
     "metadata": {},
     "output_type": "execute_result"
    }
   ]
  },
  {
   "cell_type": "code",
   "source": [
    "merged_train"
   ],
   "metadata": {
    "colab": {
     "base_uri": "https://localhost:8080/",
     "height": 444
    },
    "id": "B5dUZTXNVViG",
    "outputId": "b0b45211-e35e-4d65-8c24-2a2fee3c1cb1",
    "ExecuteTime": {
     "end_time": "2024-08-24T12:35:54.555879200Z",
     "start_time": "2024-08-24T12:35:54.539654300Z"
    }
   },
   "execution_count": 68,
   "outputs": [
    {
     "data": {
      "text/plain": "         Store  DayOfWeek       Date  Sales  Customers  Open  Promo  \\\n0            1          5 2015-07-31   5263        555     1      1   \n1            2          5 2015-07-31   6064        625     1      1   \n2            3          5 2015-07-31   8314        821     1      1   \n3            4          5 2015-07-31  13995       1498     1      1   \n4            5          5 2015-07-31   4822        559     1      1   \n...        ...        ...        ...    ...        ...   ...    ...   \n1017204   1111          2 2013-01-01      0          0     0      0   \n1017205   1112          2 2013-01-01      0          0     0      0   \n1017206   1113          2 2013-01-01      0          0     0      0   \n1017207   1114          2 2013-01-01      0          0     0      0   \n1017208   1115          2 2013-01-01      0          0     0      0   \n\n        StateHoliday  SchoolHoliday StoreType Assortment  CompetitionDistance  \\\n0                  0              1         c          a               1270.0   \n1                  0              1         a          a                570.0   \n2                  0              1         a          a              14130.0   \n3                  0              1         c          c                620.0   \n4                  0              1         a          a              29910.0   \n...              ...            ...       ...        ...                  ...   \n1017204            a              1         a          a               1900.0   \n1017205            a              1         c          c               1880.0   \n1017206            a              1         a          c               9260.0   \n1017207            a              1         a          c                870.0   \n1017208            a              1         d          c               5350.0   \n\n         CompetitionOpenSinceMonth  CompetitionOpenSinceYear  Promo2  \\\n0                              9.0                    2008.0       0   \n1                             11.0                    2007.0       1   \n2                             12.0                    2006.0       1   \n3                              9.0                    2009.0       0   \n4                              4.0                    2015.0       0   \n...                            ...                       ...     ...   \n1017204                        6.0                    2014.0       1   \n1017205                        4.0                    2006.0       0   \n1017206                        7.0                    2008.0       0   \n1017207                        7.0                    2008.0       0   \n1017208                        7.0                    2008.0       1   \n\n         Promo2SinceWeek  Promo2SinceYear     PromoInterval  \n0                    0.0              0.0                 0  \n1                   13.0           2010.0   Jan,Apr,Jul,Oct  \n2                   14.0           2011.0   Jan,Apr,Jul,Oct  \n3                    0.0              0.0                 0  \n4                    0.0              0.0                 0  \n...                  ...              ...               ...  \n1017204             31.0           2013.0   Jan,Apr,Jul,Oct  \n1017205              0.0              0.0                 0  \n1017206              0.0              0.0                 0  \n1017207              0.0              0.0                 0  \n1017208             22.0           2012.0  Mar,Jun,Sept,Dec  \n\n[1017209 rows x 18 columns]",
      "text/html": "<div>\n<style scoped>\n    .dataframe tbody tr th:only-of-type {\n        vertical-align: middle;\n    }\n\n    .dataframe tbody tr th {\n        vertical-align: top;\n    }\n\n    .dataframe thead th {\n        text-align: right;\n    }\n</style>\n<table border=\"1\" class=\"dataframe\">\n  <thead>\n    <tr style=\"text-align: right;\">\n      <th></th>\n      <th>Store</th>\n      <th>DayOfWeek</th>\n      <th>Date</th>\n      <th>Sales</th>\n      <th>Customers</th>\n      <th>Open</th>\n      <th>Promo</th>\n      <th>StateHoliday</th>\n      <th>SchoolHoliday</th>\n      <th>StoreType</th>\n      <th>Assortment</th>\n      <th>CompetitionDistance</th>\n      <th>CompetitionOpenSinceMonth</th>\n      <th>CompetitionOpenSinceYear</th>\n      <th>Promo2</th>\n      <th>Promo2SinceWeek</th>\n      <th>Promo2SinceYear</th>\n      <th>PromoInterval</th>\n    </tr>\n  </thead>\n  <tbody>\n    <tr>\n      <th>0</th>\n      <td>1</td>\n      <td>5</td>\n      <td>2015-07-31</td>\n      <td>5263</td>\n      <td>555</td>\n      <td>1</td>\n      <td>1</td>\n      <td>0</td>\n      <td>1</td>\n      <td>c</td>\n      <td>a</td>\n      <td>1270.0</td>\n      <td>9.0</td>\n      <td>2008.0</td>\n      <td>0</td>\n      <td>0.0</td>\n      <td>0.0</td>\n      <td>0</td>\n    </tr>\n    <tr>\n      <th>1</th>\n      <td>2</td>\n      <td>5</td>\n      <td>2015-07-31</td>\n      <td>6064</td>\n      <td>625</td>\n      <td>1</td>\n      <td>1</td>\n      <td>0</td>\n      <td>1</td>\n      <td>a</td>\n      <td>a</td>\n      <td>570.0</td>\n      <td>11.0</td>\n      <td>2007.0</td>\n      <td>1</td>\n      <td>13.0</td>\n      <td>2010.0</td>\n      <td>Jan,Apr,Jul,Oct</td>\n    </tr>\n    <tr>\n      <th>2</th>\n      <td>3</td>\n      <td>5</td>\n      <td>2015-07-31</td>\n      <td>8314</td>\n      <td>821</td>\n      <td>1</td>\n      <td>1</td>\n      <td>0</td>\n      <td>1</td>\n      <td>a</td>\n      <td>a</td>\n      <td>14130.0</td>\n      <td>12.0</td>\n      <td>2006.0</td>\n      <td>1</td>\n      <td>14.0</td>\n      <td>2011.0</td>\n      <td>Jan,Apr,Jul,Oct</td>\n    </tr>\n    <tr>\n      <th>3</th>\n      <td>4</td>\n      <td>5</td>\n      <td>2015-07-31</td>\n      <td>13995</td>\n      <td>1498</td>\n      <td>1</td>\n      <td>1</td>\n      <td>0</td>\n      <td>1</td>\n      <td>c</td>\n      <td>c</td>\n      <td>620.0</td>\n      <td>9.0</td>\n      <td>2009.0</td>\n      <td>0</td>\n      <td>0.0</td>\n      <td>0.0</td>\n      <td>0</td>\n    </tr>\n    <tr>\n      <th>4</th>\n      <td>5</td>\n      <td>5</td>\n      <td>2015-07-31</td>\n      <td>4822</td>\n      <td>559</td>\n      <td>1</td>\n      <td>1</td>\n      <td>0</td>\n      <td>1</td>\n      <td>a</td>\n      <td>a</td>\n      <td>29910.0</td>\n      <td>4.0</td>\n      <td>2015.0</td>\n      <td>0</td>\n      <td>0.0</td>\n      <td>0.0</td>\n      <td>0</td>\n    </tr>\n    <tr>\n      <th>...</th>\n      <td>...</td>\n      <td>...</td>\n      <td>...</td>\n      <td>...</td>\n      <td>...</td>\n      <td>...</td>\n      <td>...</td>\n      <td>...</td>\n      <td>...</td>\n      <td>...</td>\n      <td>...</td>\n      <td>...</td>\n      <td>...</td>\n      <td>...</td>\n      <td>...</td>\n      <td>...</td>\n      <td>...</td>\n      <td>...</td>\n    </tr>\n    <tr>\n      <th>1017204</th>\n      <td>1111</td>\n      <td>2</td>\n      <td>2013-01-01</td>\n      <td>0</td>\n      <td>0</td>\n      <td>0</td>\n      <td>0</td>\n      <td>a</td>\n      <td>1</td>\n      <td>a</td>\n      <td>a</td>\n      <td>1900.0</td>\n      <td>6.0</td>\n      <td>2014.0</td>\n      <td>1</td>\n      <td>31.0</td>\n      <td>2013.0</td>\n      <td>Jan,Apr,Jul,Oct</td>\n    </tr>\n    <tr>\n      <th>1017205</th>\n      <td>1112</td>\n      <td>2</td>\n      <td>2013-01-01</td>\n      <td>0</td>\n      <td>0</td>\n      <td>0</td>\n      <td>0</td>\n      <td>a</td>\n      <td>1</td>\n      <td>c</td>\n      <td>c</td>\n      <td>1880.0</td>\n      <td>4.0</td>\n      <td>2006.0</td>\n      <td>0</td>\n      <td>0.0</td>\n      <td>0.0</td>\n      <td>0</td>\n    </tr>\n    <tr>\n      <th>1017206</th>\n      <td>1113</td>\n      <td>2</td>\n      <td>2013-01-01</td>\n      <td>0</td>\n      <td>0</td>\n      <td>0</td>\n      <td>0</td>\n      <td>a</td>\n      <td>1</td>\n      <td>a</td>\n      <td>c</td>\n      <td>9260.0</td>\n      <td>7.0</td>\n      <td>2008.0</td>\n      <td>0</td>\n      <td>0.0</td>\n      <td>0.0</td>\n      <td>0</td>\n    </tr>\n    <tr>\n      <th>1017207</th>\n      <td>1114</td>\n      <td>2</td>\n      <td>2013-01-01</td>\n      <td>0</td>\n      <td>0</td>\n      <td>0</td>\n      <td>0</td>\n      <td>a</td>\n      <td>1</td>\n      <td>a</td>\n      <td>c</td>\n      <td>870.0</td>\n      <td>7.0</td>\n      <td>2008.0</td>\n      <td>0</td>\n      <td>0.0</td>\n      <td>0.0</td>\n      <td>0</td>\n    </tr>\n    <tr>\n      <th>1017208</th>\n      <td>1115</td>\n      <td>2</td>\n      <td>2013-01-01</td>\n      <td>0</td>\n      <td>0</td>\n      <td>0</td>\n      <td>0</td>\n      <td>a</td>\n      <td>1</td>\n      <td>d</td>\n      <td>c</td>\n      <td>5350.0</td>\n      <td>7.0</td>\n      <td>2008.0</td>\n      <td>1</td>\n      <td>22.0</td>\n      <td>2012.0</td>\n      <td>Mar,Jun,Sept,Dec</td>\n    </tr>\n  </tbody>\n</table>\n<p>1017209 rows × 18 columns</p>\n</div>"
     },
     "execution_count": 68,
     "metadata": {},
     "output_type": "execute_result"
    }
   ]
  },
  {
   "cell_type": "markdown",
   "source": [
    "Тут я заметил, наличие customers в train и отсутствие в test поэтому в голову пришла идея сначала обучить предиктор для количества клиентов, а затем для объема продаж, + думаю нужно будет посмотреть всякие корелляции итд, но пока впадлу"
   ],
   "metadata": {
    "id": "jN-ZvMlnZHII"
   }
  },
  {
   "cell_type": "markdown",
   "source": [
    "#Начинаю делать простые модельки"
   ],
   "metadata": {
    "id": "I0AwraEwZA1f"
   }
  },
  {
   "cell_type": "code",
   "source": [
    "!pip install catboost"
   ],
   "metadata": {
    "colab": {
     "base_uri": "https://localhost:8080/"
    },
    "id": "CoLgBgA2j-PO",
    "outputId": "4597d281-f075-4c4c-bcb7-5e1d6a116920",
    "ExecuteTime": {
     "end_time": "2024-08-24T12:35:59.129350100Z",
     "start_time": "2024-08-24T12:35:54.552879800Z"
    }
   },
   "execution_count": 69,
   "outputs": [
    {
     "name": "stdout",
     "output_type": "stream",
     "text": [
      "Requirement already satisfied: catboost in d:\\users\\panfi\\miniconda3\\lib\\site-packages (1.2.5)\n",
      "Requirement already satisfied: graphviz in d:\\users\\panfi\\miniconda3\\lib\\site-packages (from catboost) (0.20.3)\n",
      "Requirement already satisfied: matplotlib in d:\\users\\panfi\\miniconda3\\lib\\site-packages (from catboost) (3.9.2)\n",
      "Requirement already satisfied: numpy>=1.16.0 in d:\\users\\panfi\\miniconda3\\lib\\site-packages (from catboost) (2.1.0)\n",
      "Requirement already satisfied: pandas>=0.24 in d:\\users\\panfi\\miniconda3\\lib\\site-packages (from catboost) (2.2.2)\n",
      "Requirement already satisfied: scipy in d:\\users\\panfi\\miniconda3\\lib\\site-packages (from catboost) (1.14.1)\n",
      "Requirement already satisfied: plotly in d:\\users\\panfi\\miniconda3\\lib\\site-packages (from catboost) (5.23.0)\n",
      "Requirement already satisfied: six in c:\\users\\panfi\\appdata\\roaming\\python\\python312\\site-packages (from catboost) (1.16.0)\n",
      "Requirement already satisfied: python-dateutil>=2.8.2 in c:\\users\\panfi\\appdata\\roaming\\python\\python312\\site-packages (from pandas>=0.24->catboost) (2.9.0.post0)\n",
      "Requirement already satisfied: pytz>=2020.1 in d:\\users\\panfi\\miniconda3\\lib\\site-packages (from pandas>=0.24->catboost) (2024.1)\n",
      "Requirement already satisfied: tzdata>=2022.7 in d:\\users\\panfi\\miniconda3\\lib\\site-packages (from pandas>=0.24->catboost) (2024.1)\n",
      "Requirement already satisfied: contourpy>=1.0.1 in d:\\users\\panfi\\miniconda3\\lib\\site-packages (from matplotlib->catboost) (1.2.1)\n",
      "Requirement already satisfied: cycler>=0.10 in d:\\users\\panfi\\miniconda3\\lib\\site-packages (from matplotlib->catboost) (0.12.1)\n",
      "Requirement already satisfied: fonttools>=4.22.0 in d:\\users\\panfi\\miniconda3\\lib\\site-packages (from matplotlib->catboost) (4.53.1)\n",
      "Requirement already satisfied: kiwisolver>=1.3.1 in d:\\users\\panfi\\miniconda3\\lib\\site-packages (from matplotlib->catboost) (1.4.5)\n",
      "Requirement already satisfied: packaging>=20.0 in c:\\users\\panfi\\appdata\\roaming\\python\\python312\\site-packages (from matplotlib->catboost) (24.0)\n",
      "Requirement already satisfied: pillow>=8 in d:\\users\\panfi\\miniconda3\\lib\\site-packages (from matplotlib->catboost) (10.4.0)\n",
      "Requirement already satisfied: pyparsing>=2.3.1 in d:\\users\\panfi\\miniconda3\\lib\\site-packages (from matplotlib->catboost) (3.1.2)\n",
      "Requirement already satisfied: tenacity>=6.2.0 in d:\\users\\panfi\\miniconda3\\lib\\site-packages (from plotly->catboost) (9.0.0)\n"
     ]
    }
   ]
  },
  {
   "cell_type": "code",
   "source": [
    "from sklearn.model_selection import train_test_split\n",
    "from catboost import CatBoostRegressor"
   ],
   "metadata": {
    "id": "EJbfyiFPj6Ns",
    "ExecuteTime": {
     "end_time": "2024-08-24T12:35:59.134932400Z",
     "start_time": "2024-08-24T12:35:59.131410800Z"
    }
   },
   "execution_count": 70,
   "outputs": []
  },
  {
   "cell_type": "code",
   "source": [
    "merged_train['Date'] = pd.to_datetime(merged_train['Date'])\n",
    "merged_train = merged_train.sort_values(by='Date')"
   ],
   "metadata": {
    "id": "4--a_7uzaRw2",
    "ExecuteTime": {
     "end_time": "2024-08-24T12:35:59.298820300Z",
     "start_time": "2024-08-24T12:35:59.134932400Z"
    }
   },
   "execution_count": 71,
   "outputs": []
  },
  {
   "cell_type": "code",
   "source": [
    "merged_train['Year'] = merged_train['Date'].dt.year\n",
    "merged_train['Month'] = merged_train['Date'].dt.month\n",
    "merged_train['Day'] = merged_train['Date'].dt.day"
   ],
   "metadata": {
    "id": "Rjl1Oy_Sgar2",
    "ExecuteTime": {
     "end_time": "2024-08-24T12:35:59.406645Z",
     "start_time": "2024-08-24T12:35:59.299814200Z"
    }
   },
   "execution_count": 72,
   "outputs": []
  },
  {
   "cell_type": "code",
   "source": [
    "merged_train=merged_train.drop(['Date'],axis=1)"
   ],
   "metadata": {
    "id": "kTJ8Fvx4glRt",
    "ExecuteTime": {
     "end_time": "2024-08-24T12:35:59.522749100Z",
     "start_time": "2024-08-24T12:35:59.407641800Z"
    }
   },
   "execution_count": 73,
   "outputs": []
  },
  {
   "cell_type": "code",
   "source": [
    "merged_train"
   ],
   "metadata": {
    "colab": {
     "base_uri": "https://localhost:8080/",
     "height": 444
    },
    "id": "qN9072rLgmfp",
    "outputId": "749b7064-39d3-4357-ac2a-c1c4ba97c9b8",
    "ExecuteTime": {
     "end_time": "2024-08-24T12:35:59.540767700Z",
     "start_time": "2024-08-24T12:35:59.511756600Z"
    }
   },
   "execution_count": 74,
   "outputs": [
    {
     "data": {
      "text/plain": "         Store  DayOfWeek  Sales  Customers  Open  Promo StateHoliday  \\\n1017208   1115          2      0          0     0      0            a   \n1016473    379          2      0          0     0      0            a   \n1016472    378          2      0          0     0      0            a   \n1016471    377          2      0          0     0      0            a   \n1016470    376          2      0          0     0      0            a   \n...        ...        ...    ...        ...   ...    ...          ...   \n745        746          5   9082        638     1      1            0   \n746        747          5  10708        826     1      1            0   \n747        748          5   7481        578     1      1            0   \n741        742          5  10460       1016     1      1            0   \n0            1          5   5263        555     1      1            0   \n\n         SchoolHoliday StoreType Assortment  CompetitionDistance  \\\n1017208              1         d          c               5350.0   \n1016473              1         d          a               6630.0   \n1016472              1         a          c               2140.0   \n1016471              1         a          c                100.0   \n1016470              1         a          a                160.0   \n...                ...       ...        ...                  ...   \n745                  1         d          c               4330.0   \n746                  1         c          c              45740.0   \n747                  1         d          a               2380.0   \n741                  1         d          c               4380.0   \n0                    1         c          a               1270.0   \n\n         CompetitionOpenSinceMonth  CompetitionOpenSinceYear  Promo2  \\\n1017208                        7.0                    2008.0       1   \n1016473                        7.0                    2008.0       0   \n1016472                        8.0                    2012.0       0   \n1016471                        6.0                    2010.0       1   \n1016470                        8.0                    2012.0       0   \n...                            ...                       ...     ...   \n745                            2.0                    2011.0       1   \n746                            8.0                    2008.0       0   \n747                            3.0                    2010.0       1   \n741                            7.0                    2008.0       0   \n0                              9.0                    2008.0       0   \n\n         Promo2SinceWeek  Promo2SinceYear     PromoInterval  Year  Month  Day  \n1017208             22.0           2012.0  Mar,Jun,Sept,Dec  2013      1    1  \n1016473              0.0              0.0                 0  2013      1    1  \n1016472              0.0              0.0                 0  2013      1    1  \n1016471             18.0           2010.0   Feb,May,Aug,Nov  2013      1    1  \n1016470              0.0              0.0                 0  2013      1    1  \n...                  ...              ...               ...   ...    ...  ...  \n745                 35.0           2011.0  Mar,Jun,Sept,Dec  2015      7   31  \n746                  0.0              0.0                 0  2015      7   31  \n747                 14.0           2011.0   Jan,Apr,Jul,Oct  2015      7   31  \n741                  0.0              0.0                 0  2015      7   31  \n0                    0.0              0.0                 0  2015      7   31  \n\n[1017209 rows x 20 columns]",
      "text/html": "<div>\n<style scoped>\n    .dataframe tbody tr th:only-of-type {\n        vertical-align: middle;\n    }\n\n    .dataframe tbody tr th {\n        vertical-align: top;\n    }\n\n    .dataframe thead th {\n        text-align: right;\n    }\n</style>\n<table border=\"1\" class=\"dataframe\">\n  <thead>\n    <tr style=\"text-align: right;\">\n      <th></th>\n      <th>Store</th>\n      <th>DayOfWeek</th>\n      <th>Sales</th>\n      <th>Customers</th>\n      <th>Open</th>\n      <th>Promo</th>\n      <th>StateHoliday</th>\n      <th>SchoolHoliday</th>\n      <th>StoreType</th>\n      <th>Assortment</th>\n      <th>CompetitionDistance</th>\n      <th>CompetitionOpenSinceMonth</th>\n      <th>CompetitionOpenSinceYear</th>\n      <th>Promo2</th>\n      <th>Promo2SinceWeek</th>\n      <th>Promo2SinceYear</th>\n      <th>PromoInterval</th>\n      <th>Year</th>\n      <th>Month</th>\n      <th>Day</th>\n    </tr>\n  </thead>\n  <tbody>\n    <tr>\n      <th>1017208</th>\n      <td>1115</td>\n      <td>2</td>\n      <td>0</td>\n      <td>0</td>\n      <td>0</td>\n      <td>0</td>\n      <td>a</td>\n      <td>1</td>\n      <td>d</td>\n      <td>c</td>\n      <td>5350.0</td>\n      <td>7.0</td>\n      <td>2008.0</td>\n      <td>1</td>\n      <td>22.0</td>\n      <td>2012.0</td>\n      <td>Mar,Jun,Sept,Dec</td>\n      <td>2013</td>\n      <td>1</td>\n      <td>1</td>\n    </tr>\n    <tr>\n      <th>1016473</th>\n      <td>379</td>\n      <td>2</td>\n      <td>0</td>\n      <td>0</td>\n      <td>0</td>\n      <td>0</td>\n      <td>a</td>\n      <td>1</td>\n      <td>d</td>\n      <td>a</td>\n      <td>6630.0</td>\n      <td>7.0</td>\n      <td>2008.0</td>\n      <td>0</td>\n      <td>0.0</td>\n      <td>0.0</td>\n      <td>0</td>\n      <td>2013</td>\n      <td>1</td>\n      <td>1</td>\n    </tr>\n    <tr>\n      <th>1016472</th>\n      <td>378</td>\n      <td>2</td>\n      <td>0</td>\n      <td>0</td>\n      <td>0</td>\n      <td>0</td>\n      <td>a</td>\n      <td>1</td>\n      <td>a</td>\n      <td>c</td>\n      <td>2140.0</td>\n      <td>8.0</td>\n      <td>2012.0</td>\n      <td>0</td>\n      <td>0.0</td>\n      <td>0.0</td>\n      <td>0</td>\n      <td>2013</td>\n      <td>1</td>\n      <td>1</td>\n    </tr>\n    <tr>\n      <th>1016471</th>\n      <td>377</td>\n      <td>2</td>\n      <td>0</td>\n      <td>0</td>\n      <td>0</td>\n      <td>0</td>\n      <td>a</td>\n      <td>1</td>\n      <td>a</td>\n      <td>c</td>\n      <td>100.0</td>\n      <td>6.0</td>\n      <td>2010.0</td>\n      <td>1</td>\n      <td>18.0</td>\n      <td>2010.0</td>\n      <td>Feb,May,Aug,Nov</td>\n      <td>2013</td>\n      <td>1</td>\n      <td>1</td>\n    </tr>\n    <tr>\n      <th>1016470</th>\n      <td>376</td>\n      <td>2</td>\n      <td>0</td>\n      <td>0</td>\n      <td>0</td>\n      <td>0</td>\n      <td>a</td>\n      <td>1</td>\n      <td>a</td>\n      <td>a</td>\n      <td>160.0</td>\n      <td>8.0</td>\n      <td>2012.0</td>\n      <td>0</td>\n      <td>0.0</td>\n      <td>0.0</td>\n      <td>0</td>\n      <td>2013</td>\n      <td>1</td>\n      <td>1</td>\n    </tr>\n    <tr>\n      <th>...</th>\n      <td>...</td>\n      <td>...</td>\n      <td>...</td>\n      <td>...</td>\n      <td>...</td>\n      <td>...</td>\n      <td>...</td>\n      <td>...</td>\n      <td>...</td>\n      <td>...</td>\n      <td>...</td>\n      <td>...</td>\n      <td>...</td>\n      <td>...</td>\n      <td>...</td>\n      <td>...</td>\n      <td>...</td>\n      <td>...</td>\n      <td>...</td>\n      <td>...</td>\n    </tr>\n    <tr>\n      <th>745</th>\n      <td>746</td>\n      <td>5</td>\n      <td>9082</td>\n      <td>638</td>\n      <td>1</td>\n      <td>1</td>\n      <td>0</td>\n      <td>1</td>\n      <td>d</td>\n      <td>c</td>\n      <td>4330.0</td>\n      <td>2.0</td>\n      <td>2011.0</td>\n      <td>1</td>\n      <td>35.0</td>\n      <td>2011.0</td>\n      <td>Mar,Jun,Sept,Dec</td>\n      <td>2015</td>\n      <td>7</td>\n      <td>31</td>\n    </tr>\n    <tr>\n      <th>746</th>\n      <td>747</td>\n      <td>5</td>\n      <td>10708</td>\n      <td>826</td>\n      <td>1</td>\n      <td>1</td>\n      <td>0</td>\n      <td>1</td>\n      <td>c</td>\n      <td>c</td>\n      <td>45740.0</td>\n      <td>8.0</td>\n      <td>2008.0</td>\n      <td>0</td>\n      <td>0.0</td>\n      <td>0.0</td>\n      <td>0</td>\n      <td>2015</td>\n      <td>7</td>\n      <td>31</td>\n    </tr>\n    <tr>\n      <th>747</th>\n      <td>748</td>\n      <td>5</td>\n      <td>7481</td>\n      <td>578</td>\n      <td>1</td>\n      <td>1</td>\n      <td>0</td>\n      <td>1</td>\n      <td>d</td>\n      <td>a</td>\n      <td>2380.0</td>\n      <td>3.0</td>\n      <td>2010.0</td>\n      <td>1</td>\n      <td>14.0</td>\n      <td>2011.0</td>\n      <td>Jan,Apr,Jul,Oct</td>\n      <td>2015</td>\n      <td>7</td>\n      <td>31</td>\n    </tr>\n    <tr>\n      <th>741</th>\n      <td>742</td>\n      <td>5</td>\n      <td>10460</td>\n      <td>1016</td>\n      <td>1</td>\n      <td>1</td>\n      <td>0</td>\n      <td>1</td>\n      <td>d</td>\n      <td>c</td>\n      <td>4380.0</td>\n      <td>7.0</td>\n      <td>2008.0</td>\n      <td>0</td>\n      <td>0.0</td>\n      <td>0.0</td>\n      <td>0</td>\n      <td>2015</td>\n      <td>7</td>\n      <td>31</td>\n    </tr>\n    <tr>\n      <th>0</th>\n      <td>1</td>\n      <td>5</td>\n      <td>5263</td>\n      <td>555</td>\n      <td>1</td>\n      <td>1</td>\n      <td>0</td>\n      <td>1</td>\n      <td>c</td>\n      <td>a</td>\n      <td>1270.0</td>\n      <td>9.0</td>\n      <td>2008.0</td>\n      <td>0</td>\n      <td>0.0</td>\n      <td>0.0</td>\n      <td>0</td>\n      <td>2015</td>\n      <td>7</td>\n      <td>31</td>\n    </tr>\n  </tbody>\n</table>\n<p>1017209 rows × 20 columns</p>\n</div>"
     },
     "execution_count": 74,
     "metadata": {},
     "output_type": "execute_result"
    }
   ]
  },
  {
   "cell_type": "code",
   "source": [
    "customer_df=merged_train.drop(['Sales'],axis=1)"
   ],
   "metadata": {
    "id": "KYhYPVPjh4N6",
    "ExecuteTime": {
     "end_time": "2024-08-24T12:35:59.652780Z",
     "start_time": "2024-08-24T12:35:59.538770200Z"
    }
   },
   "execution_count": 75,
   "outputs": []
  },
  {
   "cell_type": "code",
   "source": [
    "customer_df[[   'CompetitionOpenSinceMonth',\n",
    "       'Promo2SinceWeek']] = customer_df[['CompetitionOpenSinceMonth',\n",
    "       'Promo2SinceWeek']].astype(int)"
   ],
   "metadata": {
    "id": "DGsbwXzAoRvj",
    "ExecuteTime": {
     "end_time": "2024-08-24T12:35:59.655780300Z",
     "start_time": "2024-08-24T12:35:59.631663700Z"
    }
   },
   "execution_count": 76,
   "outputs": []
  },
  {
   "cell_type": "code",
   "source": [
    "cat_features=['Store', 'DayOfWeek', 'Open', 'Promo', 'StateHoliday',\n",
    "       'SchoolHoliday', 'StoreType', 'Assortment','CompetitionOpenSinceMonth', 'Promo2',\n",
    "       'Promo2SinceWeek', 'PromoInterval', 'Month',]"
   ],
   "metadata": {
    "id": "xrGfxApCiuFC",
    "ExecuteTime": {
     "end_time": "2024-08-24T12:35:59.699155700Z",
     "start_time": "2024-08-24T12:35:59.656632Z"
    }
   },
   "execution_count": 77,
   "outputs": []
  },
  {
   "cell_type": "code",
   "outputs": [],
   "source": [
    "X=customer_df.drop(['Customers'],axis=1)\n",
    "y=customer_df['Customers']\n",
    "X_train, X_test, y_train, y_test = train_test_split(X, y, test_size=0.2, random_state=42)"
   ],
   "metadata": {
    "collapsed": false,
    "ExecuteTime": {
     "end_time": "2024-08-24T12:36:00.595491900Z",
     "start_time": "2024-08-24T12:35:59.664166200Z"
    }
   },
   "execution_count": 78
  },
  {
   "cell_type": "markdown",
   "source": [
    "Вычитал, что has_time в катбусте при сортировке по времени не мешает данные и позволяет лучше работать с временными рядами, что нам и надо) P.S. потом надо попробовать грид серч и побольше пообучать модельку"
   ],
   "metadata": {
    "id": "kuA404qup08A"
   }
  },
  {
   "cell_type": "code",
   "source": [
    "model = CatBoostRegressor(iterations=100,\n",
    "                          learning_rate=0.1,\n",
    "                          depth=10,\n",
    "                          cat_features=cat_features,\n",
    "                          random_seed=42,\n",
    "                          verbose=100,\n",
    "                          has_time=True)\n",
    "\n",
    "model.fit(X_train, y_train, eval_set=(X_test, y_test), use_best_model=True)"
   ],
   "metadata": {
    "colab": {
     "base_uri": "https://localhost:8080/"
    },
    "id": "aSBa8Vn9jwDc",
    "outputId": "ae7307e2-11cd-4cec-a5fe-47fe8f48efa6",
    "ExecuteTime": {
     "end_time": "2024-08-24T12:36:30.061012400Z",
     "start_time": "2024-08-24T12:36:00.596484300Z"
    }
   },
   "execution_count": 79,
   "outputs": [
    {
     "name": "stdout",
     "output_type": "stream",
     "text": [
      "0:\tlearn: 434.1184183\ttest: 434.0387035\tbest: 434.0387035 (0)\ttotal: 331ms\tremaining: 32.8s\n",
      "99:\tlearn: 131.6956581\ttest: 128.8259580\tbest: 128.8259580 (99)\ttotal: 24.1s\tremaining: 0us\n",
      "\n",
      "bestTest = 128.825958\n",
      "bestIteration = 99\n"
     ]
    },
    {
     "data": {
      "text/plain": "<catboost.core.CatBoostRegressor at 0x1589db5d950>"
     },
     "execution_count": 79,
     "metadata": {},
     "output_type": "execute_result"
    }
   ]
  },
  {
   "cell_type": "code",
   "source": [
    "import numpy as np\n",
    "y_pred = model.predict(X_test)\n",
    "from sklearn.metrics import mean_squared_error\n",
    "rmse = np.sqrt(mean_squared_error(y_test, y_pred))\n",
    "print(f'RMSE: {rmse}')"
   ],
   "metadata": {
    "colab": {
     "base_uri": "https://localhost:8080/"
    },
    "id": "C_PkW6wkrAuf",
    "outputId": "72286dc0-95bc-4638-a086-e4c4d893daed",
    "ExecuteTime": {
     "end_time": "2024-08-24T12:36:31.228921100Z",
     "start_time": "2024-08-24T12:36:30.374064500Z"
    }
   },
   "execution_count": 80,
   "outputs": [
    {
     "name": "stdout",
     "output_type": "stream",
     "text": [
      "RMSE: 128.82595802848638\n"
     ]
    }
   ]
  },
  {
   "cell_type": "markdown",
   "source": [
    "#Теперь предиктим для тестового датасета число посетителей"
   ],
   "metadata": {
    "id": "A6GPCFYJpkLa"
   }
  },
  {
   "cell_type": "code",
   "source": [
    "merged_test[[   'CompetitionOpenSinceMonth',\n",
    "       'Promo2SinceWeek','Open']] = merged_test[['CompetitionOpenSinceMonth',\n",
    "       'Promo2SinceWeek','Open']].astype(int)"
   ],
   "metadata": {
    "id": "eUyLyB5crn4A",
    "ExecuteTime": {
     "end_time": "2024-08-24T12:36:31.257398600Z",
     "start_time": "2024-08-24T12:36:31.231918300Z"
    }
   },
   "execution_count": 81,
   "outputs": []
  },
  {
   "cell_type": "code",
   "source": [
    "merged_test=merged_test.drop('Id',axis=1)"
   ],
   "metadata": {
    "id": "Yt9TKanwuHF3",
    "ExecuteTime": {
     "end_time": "2024-08-24T12:36:31.293818200Z",
     "start_time": "2024-08-24T12:36:31.244170300Z"
    }
   },
   "execution_count": 82,
   "outputs": []
  },
  {
   "cell_type": "code",
   "source": [
    "merged_test['Date'] = pd.to_datetime(merged_test['Date'])\n",
    "merged_test = merged_test.sort_values(by='Date')"
   ],
   "metadata": {
    "id": "eeCPn1qkwLKQ",
    "ExecuteTime": {
     "end_time": "2024-08-24T12:36:31.299817900Z",
     "start_time": "2024-08-24T12:36:31.261535500Z"
    }
   },
   "execution_count": 83,
   "outputs": []
  },
  {
   "cell_type": "code",
   "source": [
    "merged_test['Year'] = merged_test['Date'].dt.year\n",
    "merged_test['Month'] = merged_test['Date'].dt.month\n",
    "merged_test['Day'] = merged_test['Date'].dt.day"
   ],
   "metadata": {
    "id": "gbLp1lprwLKV",
    "ExecuteTime": {
     "end_time": "2024-08-24T12:36:31.339521700Z",
     "start_time": "2024-08-24T12:36:31.284074500Z"
    }
   },
   "execution_count": 84,
   "outputs": []
  },
  {
   "cell_type": "code",
   "source": [
    "merged_test=merged_test.drop(['Date'],axis=1)"
   ],
   "metadata": {
    "id": "rHh3PLzywLKY",
    "ExecuteTime": {
     "end_time": "2024-08-24T12:36:31.357519300Z",
     "start_time": "2024-08-24T12:36:31.298811300Z"
    }
   },
   "execution_count": 85,
   "outputs": []
  },
  {
   "cell_type": "code",
   "source": [
    "merged_test"
   ],
   "metadata": {
    "colab": {
     "base_uri": "https://localhost:8080/",
     "height": 444
    },
    "id": "LUVVn3ATwcrt",
    "outputId": "36176add-7c57-4b26-efc3-b87881c8932f",
    "ExecuteTime": {
     "end_time": "2024-08-24T12:36:31.372538Z",
     "start_time": "2024-08-24T12:36:31.321749500Z"
    }
   },
   "execution_count": 86,
   "outputs": [
    {
     "data": {
      "text/plain": "       Store  DayOfWeek  Open  Promo StateHoliday  SchoolHoliday StoreType  \\\n41087   1115          6     1      0            0              1         d   \n40522    378          6     1      0            0              0         a   \n40521    377          6     1      0            0              0         a   \n40520    373          6     1      0            0              0         d   \n40519    372          6     1      0            0              0         d   \n...      ...        ...   ...    ...          ...            ...       ...   \n566      732          4     1      1            0              0         a   \n565      731          4     1      1            0              0         a   \n564      729          4     1      1            0              0         c   \n562      727          4     1      1            0              0         a   \n0          1          4     1      1            0              0         c   \n\n      Assortment  CompetitionDistance  CompetitionOpenSinceMonth  \\\n41087          c               5350.0                          7   \n40522          c               2140.0                          8   \n40521          c                100.0                          6   \n40520          c              11120.0                          7   \n40519          c               4880.0                          8   \n...          ...                  ...                        ...   \n566            c              35280.0                          7   \n565            a              15270.0                          7   \n564            c               8980.0                          6   \n562            a               2050.0                          3   \n0              a               1270.0                          9   \n\n       CompetitionOpenSinceYear  Promo2  Promo2SinceWeek  Promo2SinceYear  \\\n41087                    2008.0       1               22           2012.0   \n40522                    2012.0       0                0              0.0   \n40521                    2010.0       1               18           2010.0   \n40520                    2008.0       1               22           2012.0   \n40519                    2010.0       1               18           2014.0   \n...                         ...     ...              ...              ...   \n566                      2008.0       0                0              0.0   \n565                      2008.0       1               10           2014.0   \n564                      2011.0       0                0              0.0   \n562                      2007.0       0                0              0.0   \n0                        2008.0       0                0              0.0   \n\n          PromoInterval  Year  Month  Day  \n41087  Mar,Jun,Sept,Dec  2015      8    1  \n40522                 0  2015      8    1  \n40521   Feb,May,Aug,Nov  2015      8    1  \n40520   Jan,Apr,Jul,Oct  2015      8    1  \n40519   Jan,Apr,Jul,Oct  2015      8    1  \n...                 ...   ...    ...  ...  \n566                   0  2015      9   17  \n565     Jan,Apr,Jul,Oct  2015      9   17  \n564                   0  2015      9   17  \n562                   0  2015      9   17  \n0                     0  2015      9   17  \n\n[41088 rows x 18 columns]",
      "text/html": "<div>\n<style scoped>\n    .dataframe tbody tr th:only-of-type {\n        vertical-align: middle;\n    }\n\n    .dataframe tbody tr th {\n        vertical-align: top;\n    }\n\n    .dataframe thead th {\n        text-align: right;\n    }\n</style>\n<table border=\"1\" class=\"dataframe\">\n  <thead>\n    <tr style=\"text-align: right;\">\n      <th></th>\n      <th>Store</th>\n      <th>DayOfWeek</th>\n      <th>Open</th>\n      <th>Promo</th>\n      <th>StateHoliday</th>\n      <th>SchoolHoliday</th>\n      <th>StoreType</th>\n      <th>Assortment</th>\n      <th>CompetitionDistance</th>\n      <th>CompetitionOpenSinceMonth</th>\n      <th>CompetitionOpenSinceYear</th>\n      <th>Promo2</th>\n      <th>Promo2SinceWeek</th>\n      <th>Promo2SinceYear</th>\n      <th>PromoInterval</th>\n      <th>Year</th>\n      <th>Month</th>\n      <th>Day</th>\n    </tr>\n  </thead>\n  <tbody>\n    <tr>\n      <th>41087</th>\n      <td>1115</td>\n      <td>6</td>\n      <td>1</td>\n      <td>0</td>\n      <td>0</td>\n      <td>1</td>\n      <td>d</td>\n      <td>c</td>\n      <td>5350.0</td>\n      <td>7</td>\n      <td>2008.0</td>\n      <td>1</td>\n      <td>22</td>\n      <td>2012.0</td>\n      <td>Mar,Jun,Sept,Dec</td>\n      <td>2015</td>\n      <td>8</td>\n      <td>1</td>\n    </tr>\n    <tr>\n      <th>40522</th>\n      <td>378</td>\n      <td>6</td>\n      <td>1</td>\n      <td>0</td>\n      <td>0</td>\n      <td>0</td>\n      <td>a</td>\n      <td>c</td>\n      <td>2140.0</td>\n      <td>8</td>\n      <td>2012.0</td>\n      <td>0</td>\n      <td>0</td>\n      <td>0.0</td>\n      <td>0</td>\n      <td>2015</td>\n      <td>8</td>\n      <td>1</td>\n    </tr>\n    <tr>\n      <th>40521</th>\n      <td>377</td>\n      <td>6</td>\n      <td>1</td>\n      <td>0</td>\n      <td>0</td>\n      <td>0</td>\n      <td>a</td>\n      <td>c</td>\n      <td>100.0</td>\n      <td>6</td>\n      <td>2010.0</td>\n      <td>1</td>\n      <td>18</td>\n      <td>2010.0</td>\n      <td>Feb,May,Aug,Nov</td>\n      <td>2015</td>\n      <td>8</td>\n      <td>1</td>\n    </tr>\n    <tr>\n      <th>40520</th>\n      <td>373</td>\n      <td>6</td>\n      <td>1</td>\n      <td>0</td>\n      <td>0</td>\n      <td>0</td>\n      <td>d</td>\n      <td>c</td>\n      <td>11120.0</td>\n      <td>7</td>\n      <td>2008.0</td>\n      <td>1</td>\n      <td>22</td>\n      <td>2012.0</td>\n      <td>Jan,Apr,Jul,Oct</td>\n      <td>2015</td>\n      <td>8</td>\n      <td>1</td>\n    </tr>\n    <tr>\n      <th>40519</th>\n      <td>372</td>\n      <td>6</td>\n      <td>1</td>\n      <td>0</td>\n      <td>0</td>\n      <td>0</td>\n      <td>d</td>\n      <td>c</td>\n      <td>4880.0</td>\n      <td>8</td>\n      <td>2010.0</td>\n      <td>1</td>\n      <td>18</td>\n      <td>2014.0</td>\n      <td>Jan,Apr,Jul,Oct</td>\n      <td>2015</td>\n      <td>8</td>\n      <td>1</td>\n    </tr>\n    <tr>\n      <th>...</th>\n      <td>...</td>\n      <td>...</td>\n      <td>...</td>\n      <td>...</td>\n      <td>...</td>\n      <td>...</td>\n      <td>...</td>\n      <td>...</td>\n      <td>...</td>\n      <td>...</td>\n      <td>...</td>\n      <td>...</td>\n      <td>...</td>\n      <td>...</td>\n      <td>...</td>\n      <td>...</td>\n      <td>...</td>\n      <td>...</td>\n    </tr>\n    <tr>\n      <th>566</th>\n      <td>732</td>\n      <td>4</td>\n      <td>1</td>\n      <td>1</td>\n      <td>0</td>\n      <td>0</td>\n      <td>a</td>\n      <td>c</td>\n      <td>35280.0</td>\n      <td>7</td>\n      <td>2008.0</td>\n      <td>0</td>\n      <td>0</td>\n      <td>0.0</td>\n      <td>0</td>\n      <td>2015</td>\n      <td>9</td>\n      <td>17</td>\n    </tr>\n    <tr>\n      <th>565</th>\n      <td>731</td>\n      <td>4</td>\n      <td>1</td>\n      <td>1</td>\n      <td>0</td>\n      <td>0</td>\n      <td>a</td>\n      <td>a</td>\n      <td>15270.0</td>\n      <td>7</td>\n      <td>2008.0</td>\n      <td>1</td>\n      <td>10</td>\n      <td>2014.0</td>\n      <td>Jan,Apr,Jul,Oct</td>\n      <td>2015</td>\n      <td>9</td>\n      <td>17</td>\n    </tr>\n    <tr>\n      <th>564</th>\n      <td>729</td>\n      <td>4</td>\n      <td>1</td>\n      <td>1</td>\n      <td>0</td>\n      <td>0</td>\n      <td>c</td>\n      <td>c</td>\n      <td>8980.0</td>\n      <td>6</td>\n      <td>2011.0</td>\n      <td>0</td>\n      <td>0</td>\n      <td>0.0</td>\n      <td>0</td>\n      <td>2015</td>\n      <td>9</td>\n      <td>17</td>\n    </tr>\n    <tr>\n      <th>562</th>\n      <td>727</td>\n      <td>4</td>\n      <td>1</td>\n      <td>1</td>\n      <td>0</td>\n      <td>0</td>\n      <td>a</td>\n      <td>a</td>\n      <td>2050.0</td>\n      <td>3</td>\n      <td>2007.0</td>\n      <td>0</td>\n      <td>0</td>\n      <td>0.0</td>\n      <td>0</td>\n      <td>2015</td>\n      <td>9</td>\n      <td>17</td>\n    </tr>\n    <tr>\n      <th>0</th>\n      <td>1</td>\n      <td>4</td>\n      <td>1</td>\n      <td>1</td>\n      <td>0</td>\n      <td>0</td>\n      <td>c</td>\n      <td>a</td>\n      <td>1270.0</td>\n      <td>9</td>\n      <td>2008.0</td>\n      <td>0</td>\n      <td>0</td>\n      <td>0.0</td>\n      <td>0</td>\n      <td>2015</td>\n      <td>9</td>\n      <td>17</td>\n    </tr>\n  </tbody>\n</table>\n<p>41088 rows × 18 columns</p>\n</div>"
     },
     "execution_count": 86,
     "metadata": {},
     "output_type": "execute_result"
    }
   ]
  },
  {
   "cell_type": "code",
   "source": [
    "merged_test['Customers']=model.predict(merged_test)"
   ],
   "metadata": {
    "id": "m1X-XckNkWio",
    "ExecuteTime": {
     "end_time": "2024-08-24T12:36:31.615674200Z",
     "start_time": "2024-08-24T12:36:31.328529800Z"
    }
   },
   "execution_count": 87,
   "outputs": []
  },
  {
   "cell_type": "markdown",
   "source": [
    "#Обучаю еще 1 модель на продажи уже с учетом Customers"
   ],
   "metadata": {
    "id": "xPWKjrh0wpQW"
   }
  },
  {
   "cell_type": "code",
   "source": [
    "sales_df=merged_train"
   ],
   "metadata": {
    "id": "9H0nJaXWwvV9",
    "ExecuteTime": {
     "end_time": "2024-08-24T12:36:31.632219300Z",
     "start_time": "2024-08-24T12:36:31.603812600Z"
    }
   },
   "execution_count": 88,
   "outputs": []
  },
  {
   "cell_type": "code",
   "source": [
    "sales_df[[   'CompetitionOpenSinceMonth',\n",
    "       'Promo2SinceWeek']] = sales_df[['CompetitionOpenSinceMonth',\n",
    "       'Promo2SinceWeek']].astype(int)"
   ],
   "metadata": {
    "id": "Hk4H7cVgxObi",
    "ExecuteTime": {
     "end_time": "2024-08-24T12:36:31.664110900Z",
     "start_time": "2024-08-24T12:36:31.611677Z"
    }
   },
   "execution_count": 89,
   "outputs": []
  },
  {
   "cell_type": "code",
   "source": [
    "X=sales_df.drop(['Sales'],axis=1)\n",
    "y=sales_df['Sales']"
   ],
   "metadata": {
    "id": "3kNrLuXRw0pG",
    "ExecuteTime": {
     "end_time": "2024-08-24T12:36:31.766743500Z",
     "start_time": "2024-08-24T12:36:31.643087400Z"
    }
   },
   "execution_count": 90,
   "outputs": []
  },
  {
   "cell_type": "code",
   "source": [
    "X_train, X_test, y_train, y_test = train_test_split(X, y, test_size=0.2, random_state=42)"
   ],
   "metadata": {
    "id": "fPfZzkr4w2oZ",
    "ExecuteTime": {
     "end_time": "2024-08-24T12:36:33.330971200Z",
     "start_time": "2024-08-24T12:36:31.763744Z"
    }
   },
   "execution_count": 91,
   "outputs": []
  },
  {
   "cell_type": "code",
   "source": [
    "model = CatBoostRegressor(iterations=100,\n",
    "                          learning_rate=0.1,\n",
    "                          depth=10,\n",
    "                          cat_features=cat_features,\n",
    "                          random_seed=42,\n",
    "                          verbose=100,\n",
    "                          has_time=True)\n",
    "\n",
    "model.fit(X_train, y_train, eval_set=(X_test, y_test), use_best_model=True)"
   ],
   "metadata": {
    "colab": {
     "base_uri": "https://localhost:8080/"
    },
    "id": "UbZkphLJxZhF",
    "outputId": "36833dfe-c7bf-49c6-ba0a-d6291c444c47",
    "ExecuteTime": {
     "end_time": "2024-08-24T12:37:02.148256300Z",
     "start_time": "2024-08-24T12:36:33.331974700Z"
    }
   },
   "execution_count": 92,
   "outputs": [
    {
     "name": "stdout",
     "output_type": "stream",
     "text": [
      "0:\tlearn: 3517.3081203\ttest: 3514.6906228\tbest: 3514.6906228 (0)\ttotal: 341ms\tremaining: 33.8s\n",
      "99:\tlearn: 670.9490161\ttest: 664.4731396\tbest: 664.4731396 (99)\ttotal: 23.9s\tremaining: 0us\n",
      "\n",
      "bestTest = 664.4731396\n",
      "bestIteration = 99\n"
     ]
    },
    {
     "data": {
      "text/plain": "<catboost.core.CatBoostRegressor at 0x1589da3a990>"
     },
     "execution_count": 92,
     "metadata": {},
     "output_type": "execute_result"
    }
   ]
  },
  {
   "cell_type": "code",
   "source": [
    "import numpy as np\n",
    "y_pred = model.predict(X_test)\n",
    "from sklearn.metrics import mean_squared_error\n",
    "rmse = np.sqrt(mean_squared_error(y_test, y_pred))\n",
    "print(f'RMSE: {rmse}')"
   ],
   "metadata": {
    "colab": {
     "base_uri": "https://localhost:8080/"
    },
    "id": "iyNie090xeGY",
    "outputId": "08fe7f00-91f2-4587-d7da-b2dea70cded8",
    "ExecuteTime": {
     "end_time": "2024-08-24T12:37:03.058788900Z",
     "start_time": "2024-08-24T12:37:02.149252900Z"
    }
   },
   "execution_count": 93,
   "outputs": [
    {
     "name": "stdout",
     "output_type": "stream",
     "text": [
      "RMSE: 664.4731395872956\n"
     ]
    }
   ]
  },
  {
   "cell_type": "code",
   "source": [
    "sales_df.columns"
   ],
   "metadata": {
    "colab": {
     "base_uri": "https://localhost:8080/"
    },
    "id": "_ZjVrJJjyzQ3",
    "outputId": "5e1f9d4b-fd38-4329-aa68-1a441809ca34",
    "ExecuteTime": {
     "end_time": "2024-08-24T12:37:03.059779300Z",
     "start_time": "2024-08-24T12:37:03.052795Z"
    }
   },
   "execution_count": 94,
   "outputs": [
    {
     "data": {
      "text/plain": "Index(['Store', 'DayOfWeek', 'Sales', 'Customers', 'Open', 'Promo',\n       'StateHoliday', 'SchoolHoliday', 'StoreType', 'Assortment',\n       'CompetitionDistance', 'CompetitionOpenSinceMonth',\n       'CompetitionOpenSinceYear', 'Promo2', 'Promo2SinceWeek',\n       'Promo2SinceYear', 'PromoInterval', 'Year', 'Month', 'Day'],\n      dtype='object')"
     },
     "execution_count": 94,
     "metadata": {},
     "output_type": "execute_result"
    }
   ]
  },
  {
   "cell_type": "code",
   "source": [
    "final=merged_test[['Store', 'DayOfWeek', 'Customers', 'Open', 'Promo',\n",
    "       'StateHoliday', 'SchoolHoliday', 'StoreType', 'Assortment',\n",
    "       'CompetitionDistance', 'CompetitionOpenSinceMonth',\n",
    "       'CompetitionOpenSinceYear', 'Promo2', 'Promo2SinceWeek',\n",
    "       'Promo2SinceYear', 'PromoInterval', 'Year', 'Month', 'Day']]"
   ],
   "metadata": {
    "id": "Lowx2o0Nya26",
    "ExecuteTime": {
     "end_time": "2024-08-24T12:37:03.071957900Z",
     "start_time": "2024-08-24T12:37:03.058788900Z"
    }
   },
   "execution_count": 95,
   "outputs": []
  },
  {
   "cell_type": "code",
   "source": [
    "final['Sales']=model.predict(final)"
   ],
   "metadata": {
    "colab": {
     "base_uri": "https://localhost:8080/"
    },
    "id": "7cIzxDtgxjsh",
    "outputId": "04707d41-2ace-4f8e-f93d-15489b3fa482",
    "ExecuteTime": {
     "end_time": "2024-08-24T12:37:03.270827500Z",
     "start_time": "2024-08-24T12:37:03.067963900Z"
    }
   },
   "execution_count": 96,
   "outputs": [
    {
     "name": "stderr",
     "output_type": "stream",
     "text": [
      "C:\\Users\\panfi\\AppData\\Local\\Temp\\ipykernel_24564\\1268740168.py:1: SettingWithCopyWarning: \n",
      "A value is trying to be set on a copy of a slice from a DataFrame.\n",
      "Try using .loc[row_indexer,col_indexer] = value instead\n",
      "\n",
      "See the caveats in the documentation: https://pandas.pydata.org/pandas-docs/stable/user_guide/indexing.html#returning-a-view-versus-a-copy\n",
      "  final['Sales']=model.predict(final)\n"
     ]
    }
   ]
  },
  {
   "cell_type": "code",
   "source": [
    "final"
   ],
   "metadata": {
    "colab": {
     "base_uri": "https://localhost:8080/",
     "height": 444
    },
    "id": "j7zjgcJUyWHH",
    "outputId": "dd0a78cb-e98c-4456-e729-ccb9f4c62bef",
    "ExecuteTime": {
     "end_time": "2024-08-24T12:37:03.284657100Z",
     "start_time": "2024-08-24T12:37:03.266816Z"
    }
   },
   "execution_count": 97,
   "outputs": [
    {
     "data": {
      "text/plain": "       Store  DayOfWeek    Customers  Open  Promo StateHoliday  SchoolHoliday  \\\n41087   1115          6   474.214363     1      0            0              1   \n40522    378          6  1096.932504     1      0            0              0   \n40521    377          6  1010.418002     1      0            0              0   \n40520    373          6   476.985566     1      0            0              0   \n40519    372          6   819.794077     1      0            0              0   \n...      ...        ...          ...   ...    ...          ...            ...   \n566      732          4   717.289766     1      1            0              0   \n565      731          4   978.470803     1      1            0              0   \n564      729          4  1033.557009     1      1            0              0   \n562      727          4   454.615902     1      1            0              0   \n0          1          4   584.101955     1      1            0              0   \n\n      StoreType Assortment  CompetitionDistance  CompetitionOpenSinceMonth  \\\n41087         d          c               5350.0                          7   \n40522         a          c               2140.0                          8   \n40521         a          c                100.0                          6   \n40520         d          c              11120.0                          7   \n40519         d          c               4880.0                          8   \n...         ...        ...                  ...                        ...   \n566           a          c              35280.0                          7   \n565           a          a              15270.0                          7   \n564           c          c               8980.0                          6   \n562           a          a               2050.0                          3   \n0             c          a               1270.0                          9   \n\n       CompetitionOpenSinceYear  Promo2  Promo2SinceWeek  Promo2SinceYear  \\\n41087                    2008.0       1               22           2012.0   \n40522                    2012.0       0                0              0.0   \n40521                    2010.0       1               18           2010.0   \n40520                    2008.0       1               22           2012.0   \n40519                    2010.0       1               18           2014.0   \n...                         ...     ...              ...              ...   \n566                      2008.0       0                0              0.0   \n565                      2008.0       1               10           2014.0   \n564                      2011.0       0                0              0.0   \n562                      2007.0       0                0              0.0   \n0                        2008.0       0                0              0.0   \n\n          PromoInterval  Year  Month  Day         Sales  \n41087  Mar,Jun,Sept,Dec  2015      8    1   5632.580667  \n40522                 0  2015      8    1   8423.256603  \n40521   Feb,May,Aug,Nov  2015      8    1   8319.020372  \n40520   Jan,Apr,Jul,Oct  2015      8    1   5420.934501  \n40519   Jan,Apr,Jul,Oct  2015      8    1   9734.565890  \n...                 ...   ...    ...  ...           ...  \n566                   0  2015      9   17   6389.420544  \n565     Jan,Apr,Jul,Oct  2015      9   17  10168.878123  \n564                   0  2015      9   17  10247.505047  \n562                   0  2015      9   17   4388.298278  \n0                     0  2015      9   17   5015.425632  \n\n[41088 rows x 20 columns]",
      "text/html": "<div>\n<style scoped>\n    .dataframe tbody tr th:only-of-type {\n        vertical-align: middle;\n    }\n\n    .dataframe tbody tr th {\n        vertical-align: top;\n    }\n\n    .dataframe thead th {\n        text-align: right;\n    }\n</style>\n<table border=\"1\" class=\"dataframe\">\n  <thead>\n    <tr style=\"text-align: right;\">\n      <th></th>\n      <th>Store</th>\n      <th>DayOfWeek</th>\n      <th>Customers</th>\n      <th>Open</th>\n      <th>Promo</th>\n      <th>StateHoliday</th>\n      <th>SchoolHoliday</th>\n      <th>StoreType</th>\n      <th>Assortment</th>\n      <th>CompetitionDistance</th>\n      <th>CompetitionOpenSinceMonth</th>\n      <th>CompetitionOpenSinceYear</th>\n      <th>Promo2</th>\n      <th>Promo2SinceWeek</th>\n      <th>Promo2SinceYear</th>\n      <th>PromoInterval</th>\n      <th>Year</th>\n      <th>Month</th>\n      <th>Day</th>\n      <th>Sales</th>\n    </tr>\n  </thead>\n  <tbody>\n    <tr>\n      <th>41087</th>\n      <td>1115</td>\n      <td>6</td>\n      <td>474.214363</td>\n      <td>1</td>\n      <td>0</td>\n      <td>0</td>\n      <td>1</td>\n      <td>d</td>\n      <td>c</td>\n      <td>5350.0</td>\n      <td>7</td>\n      <td>2008.0</td>\n      <td>1</td>\n      <td>22</td>\n      <td>2012.0</td>\n      <td>Mar,Jun,Sept,Dec</td>\n      <td>2015</td>\n      <td>8</td>\n      <td>1</td>\n      <td>5632.580667</td>\n    </tr>\n    <tr>\n      <th>40522</th>\n      <td>378</td>\n      <td>6</td>\n      <td>1096.932504</td>\n      <td>1</td>\n      <td>0</td>\n      <td>0</td>\n      <td>0</td>\n      <td>a</td>\n      <td>c</td>\n      <td>2140.0</td>\n      <td>8</td>\n      <td>2012.0</td>\n      <td>0</td>\n      <td>0</td>\n      <td>0.0</td>\n      <td>0</td>\n      <td>2015</td>\n      <td>8</td>\n      <td>1</td>\n      <td>8423.256603</td>\n    </tr>\n    <tr>\n      <th>40521</th>\n      <td>377</td>\n      <td>6</td>\n      <td>1010.418002</td>\n      <td>1</td>\n      <td>0</td>\n      <td>0</td>\n      <td>0</td>\n      <td>a</td>\n      <td>c</td>\n      <td>100.0</td>\n      <td>6</td>\n      <td>2010.0</td>\n      <td>1</td>\n      <td>18</td>\n      <td>2010.0</td>\n      <td>Feb,May,Aug,Nov</td>\n      <td>2015</td>\n      <td>8</td>\n      <td>1</td>\n      <td>8319.020372</td>\n    </tr>\n    <tr>\n      <th>40520</th>\n      <td>373</td>\n      <td>6</td>\n      <td>476.985566</td>\n      <td>1</td>\n      <td>0</td>\n      <td>0</td>\n      <td>0</td>\n      <td>d</td>\n      <td>c</td>\n      <td>11120.0</td>\n      <td>7</td>\n      <td>2008.0</td>\n      <td>1</td>\n      <td>22</td>\n      <td>2012.0</td>\n      <td>Jan,Apr,Jul,Oct</td>\n      <td>2015</td>\n      <td>8</td>\n      <td>1</td>\n      <td>5420.934501</td>\n    </tr>\n    <tr>\n      <th>40519</th>\n      <td>372</td>\n      <td>6</td>\n      <td>819.794077</td>\n      <td>1</td>\n      <td>0</td>\n      <td>0</td>\n      <td>0</td>\n      <td>d</td>\n      <td>c</td>\n      <td>4880.0</td>\n      <td>8</td>\n      <td>2010.0</td>\n      <td>1</td>\n      <td>18</td>\n      <td>2014.0</td>\n      <td>Jan,Apr,Jul,Oct</td>\n      <td>2015</td>\n      <td>8</td>\n      <td>1</td>\n      <td>9734.565890</td>\n    </tr>\n    <tr>\n      <th>...</th>\n      <td>...</td>\n      <td>...</td>\n      <td>...</td>\n      <td>...</td>\n      <td>...</td>\n      <td>...</td>\n      <td>...</td>\n      <td>...</td>\n      <td>...</td>\n      <td>...</td>\n      <td>...</td>\n      <td>...</td>\n      <td>...</td>\n      <td>...</td>\n      <td>...</td>\n      <td>...</td>\n      <td>...</td>\n      <td>...</td>\n      <td>...</td>\n      <td>...</td>\n    </tr>\n    <tr>\n      <th>566</th>\n      <td>732</td>\n      <td>4</td>\n      <td>717.289766</td>\n      <td>1</td>\n      <td>1</td>\n      <td>0</td>\n      <td>0</td>\n      <td>a</td>\n      <td>c</td>\n      <td>35280.0</td>\n      <td>7</td>\n      <td>2008.0</td>\n      <td>0</td>\n      <td>0</td>\n      <td>0.0</td>\n      <td>0</td>\n      <td>2015</td>\n      <td>9</td>\n      <td>17</td>\n      <td>6389.420544</td>\n    </tr>\n    <tr>\n      <th>565</th>\n      <td>731</td>\n      <td>4</td>\n      <td>978.470803</td>\n      <td>1</td>\n      <td>1</td>\n      <td>0</td>\n      <td>0</td>\n      <td>a</td>\n      <td>a</td>\n      <td>15270.0</td>\n      <td>7</td>\n      <td>2008.0</td>\n      <td>1</td>\n      <td>10</td>\n      <td>2014.0</td>\n      <td>Jan,Apr,Jul,Oct</td>\n      <td>2015</td>\n      <td>9</td>\n      <td>17</td>\n      <td>10168.878123</td>\n    </tr>\n    <tr>\n      <th>564</th>\n      <td>729</td>\n      <td>4</td>\n      <td>1033.557009</td>\n      <td>1</td>\n      <td>1</td>\n      <td>0</td>\n      <td>0</td>\n      <td>c</td>\n      <td>c</td>\n      <td>8980.0</td>\n      <td>6</td>\n      <td>2011.0</td>\n      <td>0</td>\n      <td>0</td>\n      <td>0.0</td>\n      <td>0</td>\n      <td>2015</td>\n      <td>9</td>\n      <td>17</td>\n      <td>10247.505047</td>\n    </tr>\n    <tr>\n      <th>562</th>\n      <td>727</td>\n      <td>4</td>\n      <td>454.615902</td>\n      <td>1</td>\n      <td>1</td>\n      <td>0</td>\n      <td>0</td>\n      <td>a</td>\n      <td>a</td>\n      <td>2050.0</td>\n      <td>3</td>\n      <td>2007.0</td>\n      <td>0</td>\n      <td>0</td>\n      <td>0.0</td>\n      <td>0</td>\n      <td>2015</td>\n      <td>9</td>\n      <td>17</td>\n      <td>4388.298278</td>\n    </tr>\n    <tr>\n      <th>0</th>\n      <td>1</td>\n      <td>4</td>\n      <td>584.101955</td>\n      <td>1</td>\n      <td>1</td>\n      <td>0</td>\n      <td>0</td>\n      <td>c</td>\n      <td>a</td>\n      <td>1270.0</td>\n      <td>9</td>\n      <td>2008.0</td>\n      <td>0</td>\n      <td>0</td>\n      <td>0.0</td>\n      <td>0</td>\n      <td>2015</td>\n      <td>9</td>\n      <td>17</td>\n      <td>5015.425632</td>\n    </tr>\n  </tbody>\n</table>\n<p>41088 rows × 20 columns</p>\n</div>"
     },
     "execution_count": 97,
     "metadata": {},
     "output_type": "execute_result"
    }
   ]
  },
  {
   "cell_type": "code",
   "source": [
    "import pickle\n",
    "\n",
    "# Сохраните модель в файл\n",
    "with open('model.pkl', 'wb') as file:\n",
    "    pickle.dump(model, file)"
   ],
   "metadata": {
    "id": "04ymmaO1zOAC",
    "ExecuteTime": {
     "end_time": "2024-08-24T12:37:03.319160Z",
     "start_time": "2024-08-24T12:37:03.281655400Z"
    }
   },
   "execution_count": 98,
   "outputs": []
  },
  {
   "cell_type": "code",
   "outputs": [],
   "source": [],
   "metadata": {
    "collapsed": false,
    "ExecuteTime": {
     "end_time": "2024-08-24T12:37:03.346165900Z",
     "start_time": "2024-08-24T12:37:03.303888300Z"
    }
   },
   "execution_count": 98
  },
  {
   "cell_type": "code",
   "outputs": [],
   "source": [],
   "metadata": {
    "collapsed": false,
    "ExecuteTime": {
     "end_time": "2024-08-24T12:37:03.347161200Z",
     "start_time": "2024-08-24T12:37:03.307135900Z"
    }
   },
   "execution_count": 98
  }
 ]
}
