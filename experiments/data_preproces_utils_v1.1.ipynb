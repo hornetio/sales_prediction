{
 "nbformat": 4,
 "nbformat_minor": 0,
 "metadata": {
  "colab": {
   "provenance": [],
   "authorship_tag": "ABX9TyP4//2gy52wkz5ijU/4aw//",
   "include_colab_link": true
  },
  "kernelspec": {
   "name": "python3",
   "language": "python",
   "display_name": "Python 3 (ipykernel)"
  },
  "language_info": {
   "name": "python"
  }
 },
 "cells": [
  {
   "cell_type": "markdown",
   "metadata": {
    "id": "view-in-github",
    "colab_type": "text"
   },
   "source": [
    "<a href=\"https://colab.research.google.com/github/hornetio/sales_prediction/blob/main/experiments/data_preproces_utils.ipynb\" target=\"_parent\"><img src=\"https://colab.research.google.com/assets/colab-badge.svg\" alt=\"Open In Colab\"/></a>"
   ]
  },
  {
   "cell_type": "code",
   "source": [
    "import pandas as pd\n",
    "import numpy as np\n",
    "import matplotlib.pyplot as plt\n",
    "import seaborn as sns"
   ],
   "metadata": {
    "id": "J_RijViJvIuC",
    "ExecuteTime": {
     "end_time": "2024-08-22T19:14:32.914553400Z",
     "start_time": "2024-08-22T19:14:32.648258600Z"
    }
   },
   "execution_count": 260,
   "outputs": []
  },
  {
   "cell_type": "code",
   "source": [
    "test_df=pd.read_csv('D:/Valerian/Documents/OneDrive/Python/ДопОбр Анализ данных/Практика Нетодология/sales_prediction/Команда_11/test.csv', parse_dates=['Date'], low_memory=False)\n",
    "train_df=pd.read_csv('D:/Valerian/Documents/OneDrive/Python/ДопОбр Анализ данных/Практика Нетодология/sales_prediction/Команда_11/train.csv', parse_dates=['Date'], low_memory=False)\n",
    "add_df=pd.read_csv('D:/Valerian/Documents/OneDrive/Python/ДопОбр Анализ данных/Практика Нетодология/sales_prediction/Команда_11/store.csv', low_memory=False)"
   ],
   "metadata": {
    "colab": {
     "base_uri": "https://localhost:8080/"
    },
    "id": "znHi2YVHlxkF",
    "outputId": "f9c34a2f-0bfc-46a8-d295-bf73ba34d138",
    "ExecuteTime": {
     "end_time": "2024-08-22T19:14:33.586048600Z",
     "start_time": "2024-08-22T19:14:32.882680500Z"
    }
   },
   "execution_count": 261,
   "outputs": []
  },
  {
   "cell_type": "markdown",
   "source": [
    "# Первичная обработка NaN"
   ],
   "metadata": {
    "id": "xcwb5VQUvQWH"
   }
  },
  {
   "cell_type": "code",
   "source": [
    "add_df.isna().sum()"
   ],
   "metadata": {
    "colab": {
     "base_uri": "https://localhost:8080/",
     "height": 398
    },
    "id": "0gWPg1bXmNTV",
    "outputId": "94f742db-66cb-407d-e552-78f2f68d53cf",
    "ExecuteTime": {
     "end_time": "2024-08-22T19:14:33.597405900Z",
     "start_time": "2024-08-22T19:14:33.587065400Z"
    }
   },
   "execution_count": 262,
   "outputs": [
    {
     "data": {
      "text/plain": "Store                          0\nStoreType                      0\nAssortment                     0\nCompetitionDistance            3\nCompetitionOpenSinceMonth    354\nCompetitionOpenSinceYear     354\nPromo2                         0\nPromo2SinceWeek              544\nPromo2SinceYear              544\nPromoInterval                544\ndtype: int64"
     },
     "execution_count": 262,
     "metadata": {},
     "output_type": "execute_result"
    }
   ]
  },
  {
   "cell_type": "code",
   "source": [
    "add_df.loc[add_df['Promo2'] == 0, ['Promo2SinceWeek', 'Promo2SinceYear', 'PromoInterval']] = 0"
   ],
   "metadata": {
    "id": "utwKh3Ygmz0B",
    "ExecuteTime": {
     "end_time": "2024-08-22T19:14:33.610105200Z",
     "start_time": "2024-08-22T19:14:33.598405300Z"
    }
   },
   "execution_count": 263,
   "outputs": []
  },
  {
   "cell_type": "code",
   "source": [
    "from random import randint"
   ],
   "metadata": {
    "id": "HuZJ4bIysiNK",
    "ExecuteTime": {
     "end_time": "2024-08-22T19:14:33.611107Z",
     "start_time": "2024-08-22T19:14:33.606093400Z"
    }
   },
   "execution_count": 264,
   "outputs": []
  },
  {
   "cell_type": "code",
   "source": [
    "add_df['CompetitionDistance'].fillna(add_df['CompetitionDistance'].max()+randint(-200,200), inplace=True)\n",
    "add_df['CompetitionOpenSinceMonth'].fillna(int(add_df['CompetitionOpenSinceMonth'].mean()+randint(-2,2)), inplace=True)\n",
    "add_df['CompetitionOpenSinceYear'].fillna(int(add_df['CompetitionOpenSinceYear'].mean()+randint(-5,5)), inplace=True)"
   ],
   "metadata": {
    "id": "w3cXcA5muwbl",
    "ExecuteTime": {
     "end_time": "2024-08-22T19:14:33.648455700Z",
     "start_time": "2024-08-22T19:14:33.611107Z"
    }
   },
   "execution_count": 265,
   "outputs": [
    {
     "name": "stderr",
     "output_type": "stream",
     "text": [
      "C:\\Users\\panfi\\AppData\\Local\\Temp\\ipykernel_868\\3165722452.py:1: FutureWarning: A value is trying to be set on a copy of a DataFrame or Series through chained assignment using an inplace method.\n",
      "The behavior will change in pandas 3.0. This inplace method will never work because the intermediate object on which we are setting values always behaves as a copy.\n",
      "\n",
      "For example, when doing 'df[col].method(value, inplace=True)', try using 'df.method({col: value}, inplace=True)' or df[col] = df[col].method(value) instead, to perform the operation inplace on the original object.\n",
      "\n",
      "\n",
      "  add_df['CompetitionDistance'].fillna(add_df['CompetitionDistance'].max()+randint(-200,200), inplace=True)\n",
      "C:\\Users\\panfi\\AppData\\Local\\Temp\\ipykernel_868\\3165722452.py:2: FutureWarning: A value is trying to be set on a copy of a DataFrame or Series through chained assignment using an inplace method.\n",
      "The behavior will change in pandas 3.0. This inplace method will never work because the intermediate object on which we are setting values always behaves as a copy.\n",
      "\n",
      "For example, when doing 'df[col].method(value, inplace=True)', try using 'df.method({col: value}, inplace=True)' or df[col] = df[col].method(value) instead, to perform the operation inplace on the original object.\n",
      "\n",
      "\n",
      "  add_df['CompetitionOpenSinceMonth'].fillna(int(add_df['CompetitionOpenSinceMonth'].mean()+randint(-2,2)), inplace=True)\n",
      "C:\\Users\\panfi\\AppData\\Local\\Temp\\ipykernel_868\\3165722452.py:3: FutureWarning: A value is trying to be set on a copy of a DataFrame or Series through chained assignment using an inplace method.\n",
      "The behavior will change in pandas 3.0. This inplace method will never work because the intermediate object on which we are setting values always behaves as a copy.\n",
      "\n",
      "For example, when doing 'df[col].method(value, inplace=True)', try using 'df.method({col: value}, inplace=True)' or df[col] = df[col].method(value) instead, to perform the operation inplace on the original object.\n",
      "\n",
      "\n",
      "  add_df['CompetitionOpenSinceYear'].fillna(int(add_df['CompetitionOpenSinceYear'].mean()+randint(-5,5)), inplace=True)\n"
     ]
    }
   ]
  },
  {
   "cell_type": "code",
   "source": [
    "df = pd.merge(train_df, add_df, on='Store')"
   ],
   "metadata": {
    "id": "iFQBJul1S7LL",
    "ExecuteTime": {
     "end_time": "2024-08-22T19:14:33.767706200Z",
     "start_time": "2024-08-22T19:14:33.618567600Z"
    }
   },
   "execution_count": 266,
   "outputs": []
  },
  {
   "cell_type": "code",
   "source": [
    "df.info()"
   ],
   "metadata": {
    "colab": {
     "base_uri": "https://localhost:8080/"
    },
    "id": "nvXW4EQ5uahh",
    "outputId": "40da8249-2c7c-4455-a2dc-4644e3c9a11e",
    "ExecuteTime": {
     "end_time": "2024-08-22T19:14:33.947465900Z",
     "start_time": "2024-08-22T19:14:33.769704300Z"
    }
   },
   "execution_count": 267,
   "outputs": [
    {
     "name": "stdout",
     "output_type": "stream",
     "text": [
      "<class 'pandas.core.frame.DataFrame'>\n",
      "RangeIndex: 1017209 entries, 0 to 1017208\n",
      "Data columns (total 18 columns):\n",
      " #   Column                     Non-Null Count    Dtype         \n",
      "---  ------                     --------------    -----         \n",
      " 0   Store                      1017209 non-null  int64         \n",
      " 1   DayOfWeek                  1017209 non-null  int64         \n",
      " 2   Date                       1017209 non-null  datetime64[ns]\n",
      " 3   Sales                      1017209 non-null  int64         \n",
      " 4   Customers                  1017209 non-null  int64         \n",
      " 5   Open                       1017209 non-null  int64         \n",
      " 6   Promo                      1017209 non-null  int64         \n",
      " 7   StateHoliday               1017209 non-null  object        \n",
      " 8   SchoolHoliday              1017209 non-null  int64         \n",
      " 9   StoreType                  1017209 non-null  object        \n",
      " 10  Assortment                 1017209 non-null  object        \n",
      " 11  CompetitionDistance        1017209 non-null  float64       \n",
      " 12  CompetitionOpenSinceMonth  1017209 non-null  float64       \n",
      " 13  CompetitionOpenSinceYear   1017209 non-null  float64       \n",
      " 14  Promo2                     1017209 non-null  int64         \n",
      " 15  Promo2SinceWeek            1017209 non-null  float64       \n",
      " 16  Promo2SinceYear            1017209 non-null  float64       \n",
      " 17  PromoInterval              1017209 non-null  object        \n",
      "dtypes: datetime64[ns](1), float64(5), int64(8), object(4)\n",
      "memory usage: 139.7+ MB\n"
     ]
    }
   ]
  },
  {
   "cell_type": "code",
   "source": [
    "df.isnull().sum()"
   ],
   "metadata": {
    "colab": {
     "base_uri": "https://localhost:8080/",
     "height": 649
    },
    "id": "7u68sYfIuh8u",
    "outputId": "02fcc159-8461-4c1f-f092-bf20afae56cc",
    "ExecuteTime": {
     "end_time": "2024-08-22T19:14:34.144038500Z",
     "start_time": "2024-08-22T19:14:33.940385800Z"
    }
   },
   "execution_count": 268,
   "outputs": [
    {
     "data": {
      "text/plain": "Store                        0\nDayOfWeek                    0\nDate                         0\nSales                        0\nCustomers                    0\nOpen                         0\nPromo                        0\nStateHoliday                 0\nSchoolHoliday                0\nStoreType                    0\nAssortment                   0\nCompetitionDistance          0\nCompetitionOpenSinceMonth    0\nCompetitionOpenSinceYear     0\nPromo2                       0\nPromo2SinceWeek              0\nPromo2SinceYear              0\nPromoInterval                0\ndtype: int64"
     },
     "execution_count": 268,
     "metadata": {},
     "output_type": "execute_result"
    }
   ]
  },
  {
   "cell_type": "code",
   "source": [
    "df.describe()"
   ],
   "metadata": {
    "colab": {
     "base_uri": "https://localhost:8080/",
     "height": 320
    },
    "id": "ueeJQ1PLup2b",
    "outputId": "ba384aa8-1430-4332-d18b-2312aee4e27d",
    "ExecuteTime": {
     "end_time": "2024-08-22T19:14:34.590699700Z",
     "start_time": "2024-08-22T19:14:34.125692700Z"
    }
   },
   "execution_count": 269,
   "outputs": [
    {
     "data": {
      "text/plain": "              Store     DayOfWeek                           Date  \\\ncount  1.017209e+06  1.017209e+06                        1017209   \nmean   5.584297e+02  3.998341e+00  2014-04-11 01:30:42.846061824   \nmin    1.000000e+00  1.000000e+00            2013-01-01 00:00:00   \n25%    2.800000e+02  2.000000e+00            2013-08-17 00:00:00   \n50%    5.580000e+02  4.000000e+00            2014-04-02 00:00:00   \n75%    8.380000e+02  6.000000e+00            2014-12-12 00:00:00   \nmax    1.115000e+03  7.000000e+00            2015-07-31 00:00:00   \nstd    3.219087e+02  1.997391e+00                            NaN   \n\n              Sales     Customers          Open         Promo  SchoolHoliday  \\\ncount  1.017209e+06  1.017209e+06  1.017209e+06  1.017209e+06   1.017209e+06   \nmean   5.773819e+03  6.331459e+02  8.301067e-01  3.815145e-01   1.786467e-01   \nmin    0.000000e+00  0.000000e+00  0.000000e+00  0.000000e+00   0.000000e+00   \n25%    3.727000e+03  4.050000e+02  1.000000e+00  0.000000e+00   0.000000e+00   \n50%    5.744000e+03  6.090000e+02  1.000000e+00  0.000000e+00   0.000000e+00   \n75%    7.856000e+03  8.370000e+02  1.000000e+00  1.000000e+00   0.000000e+00   \nmax    4.155100e+04  7.388000e+03  1.000000e+00  1.000000e+00   1.000000e+00   \nstd    3.849926e+03  4.644117e+02  3.755392e-01  4.857586e-01   3.830564e-01   \n\n       CompetitionDistance  CompetitionOpenSinceMonth  \\\ncount         1.017209e+06               1.017209e+06   \nmean          5.613250e+03               7.469899e+00   \nmin           2.000000e+01               1.000000e+00   \n25%           7.100000e+02               6.000000e+00   \n50%           2.330000e+03               8.000000e+00   \n75%           6.910000e+03               9.000000e+00   \nmax           7.595100e+04               1.200000e+01   \nstd           8.500293e+03               2.677243e+00   \n\n       CompetitionOpenSinceYear        Promo2  Promo2SinceWeek  \\\ncount              1.017209e+06  1.017209e+06     1.017209e+06   \nmean               2.007199e+03  5.005638e-01     1.164767e+01   \nmin                1.900000e+03  0.000000e+00     0.000000e+00   \n25%                2.004000e+03  0.000000e+00     0.000000e+00   \n50%                2.006000e+03  1.000000e+00     1.000000e+00   \n75%                2.011000e+03  1.000000e+00     2.200000e+01   \nmax                2.015000e+03  1.000000e+00     5.000000e+01   \nstd                5.409818e+00  4.999999e-01     1.532393e+01   \n\n       Promo2SinceYear  \ncount     1.017209e+06  \nmean      1.007011e+03  \nmin       0.000000e+00  \n25%       0.000000e+00  \n50%       2.009000e+03  \n75%       2.012000e+03  \nmax       2.015000e+03  \nstd       1.005877e+03  ",
      "text/html": "<div>\n<style scoped>\n    .dataframe tbody tr th:only-of-type {\n        vertical-align: middle;\n    }\n\n    .dataframe tbody tr th {\n        vertical-align: top;\n    }\n\n    .dataframe thead th {\n        text-align: right;\n    }\n</style>\n<table border=\"1\" class=\"dataframe\">\n  <thead>\n    <tr style=\"text-align: right;\">\n      <th></th>\n      <th>Store</th>\n      <th>DayOfWeek</th>\n      <th>Date</th>\n      <th>Sales</th>\n      <th>Customers</th>\n      <th>Open</th>\n      <th>Promo</th>\n      <th>SchoolHoliday</th>\n      <th>CompetitionDistance</th>\n      <th>CompetitionOpenSinceMonth</th>\n      <th>CompetitionOpenSinceYear</th>\n      <th>Promo2</th>\n      <th>Promo2SinceWeek</th>\n      <th>Promo2SinceYear</th>\n    </tr>\n  </thead>\n  <tbody>\n    <tr>\n      <th>count</th>\n      <td>1.017209e+06</td>\n      <td>1.017209e+06</td>\n      <td>1017209</td>\n      <td>1.017209e+06</td>\n      <td>1.017209e+06</td>\n      <td>1.017209e+06</td>\n      <td>1.017209e+06</td>\n      <td>1.017209e+06</td>\n      <td>1.017209e+06</td>\n      <td>1.017209e+06</td>\n      <td>1.017209e+06</td>\n      <td>1.017209e+06</td>\n      <td>1.017209e+06</td>\n      <td>1.017209e+06</td>\n    </tr>\n    <tr>\n      <th>mean</th>\n      <td>5.584297e+02</td>\n      <td>3.998341e+00</td>\n      <td>2014-04-11 01:30:42.846061824</td>\n      <td>5.773819e+03</td>\n      <td>6.331459e+02</td>\n      <td>8.301067e-01</td>\n      <td>3.815145e-01</td>\n      <td>1.786467e-01</td>\n      <td>5.613250e+03</td>\n      <td>7.469899e+00</td>\n      <td>2.007199e+03</td>\n      <td>5.005638e-01</td>\n      <td>1.164767e+01</td>\n      <td>1.007011e+03</td>\n    </tr>\n    <tr>\n      <th>min</th>\n      <td>1.000000e+00</td>\n      <td>1.000000e+00</td>\n      <td>2013-01-01 00:00:00</td>\n      <td>0.000000e+00</td>\n      <td>0.000000e+00</td>\n      <td>0.000000e+00</td>\n      <td>0.000000e+00</td>\n      <td>0.000000e+00</td>\n      <td>2.000000e+01</td>\n      <td>1.000000e+00</td>\n      <td>1.900000e+03</td>\n      <td>0.000000e+00</td>\n      <td>0.000000e+00</td>\n      <td>0.000000e+00</td>\n    </tr>\n    <tr>\n      <th>25%</th>\n      <td>2.800000e+02</td>\n      <td>2.000000e+00</td>\n      <td>2013-08-17 00:00:00</td>\n      <td>3.727000e+03</td>\n      <td>4.050000e+02</td>\n      <td>1.000000e+00</td>\n      <td>0.000000e+00</td>\n      <td>0.000000e+00</td>\n      <td>7.100000e+02</td>\n      <td>6.000000e+00</td>\n      <td>2.004000e+03</td>\n      <td>0.000000e+00</td>\n      <td>0.000000e+00</td>\n      <td>0.000000e+00</td>\n    </tr>\n    <tr>\n      <th>50%</th>\n      <td>5.580000e+02</td>\n      <td>4.000000e+00</td>\n      <td>2014-04-02 00:00:00</td>\n      <td>5.744000e+03</td>\n      <td>6.090000e+02</td>\n      <td>1.000000e+00</td>\n      <td>0.000000e+00</td>\n      <td>0.000000e+00</td>\n      <td>2.330000e+03</td>\n      <td>8.000000e+00</td>\n      <td>2.006000e+03</td>\n      <td>1.000000e+00</td>\n      <td>1.000000e+00</td>\n      <td>2.009000e+03</td>\n    </tr>\n    <tr>\n      <th>75%</th>\n      <td>8.380000e+02</td>\n      <td>6.000000e+00</td>\n      <td>2014-12-12 00:00:00</td>\n      <td>7.856000e+03</td>\n      <td>8.370000e+02</td>\n      <td>1.000000e+00</td>\n      <td>1.000000e+00</td>\n      <td>0.000000e+00</td>\n      <td>6.910000e+03</td>\n      <td>9.000000e+00</td>\n      <td>2.011000e+03</td>\n      <td>1.000000e+00</td>\n      <td>2.200000e+01</td>\n      <td>2.012000e+03</td>\n    </tr>\n    <tr>\n      <th>max</th>\n      <td>1.115000e+03</td>\n      <td>7.000000e+00</td>\n      <td>2015-07-31 00:00:00</td>\n      <td>4.155100e+04</td>\n      <td>7.388000e+03</td>\n      <td>1.000000e+00</td>\n      <td>1.000000e+00</td>\n      <td>1.000000e+00</td>\n      <td>7.595100e+04</td>\n      <td>1.200000e+01</td>\n      <td>2.015000e+03</td>\n      <td>1.000000e+00</td>\n      <td>5.000000e+01</td>\n      <td>2.015000e+03</td>\n    </tr>\n    <tr>\n      <th>std</th>\n      <td>3.219087e+02</td>\n      <td>1.997391e+00</td>\n      <td>NaN</td>\n      <td>3.849926e+03</td>\n      <td>4.644117e+02</td>\n      <td>3.755392e-01</td>\n      <td>4.857586e-01</td>\n      <td>3.830564e-01</td>\n      <td>8.500293e+03</td>\n      <td>2.677243e+00</td>\n      <td>5.409818e+00</td>\n      <td>4.999999e-01</td>\n      <td>1.532393e+01</td>\n      <td>1.005877e+03</td>\n    </tr>\n  </tbody>\n</table>\n</div>"
     },
     "execution_count": 269,
     "metadata": {},
     "output_type": "execute_result"
    }
   ]
  },
  {
   "cell_type": "markdown",
   "source": [
    "# Фичи из даты"
   ],
   "metadata": {
    "id": "KVVOTAWKvWN1"
   }
  },
  {
   "cell_type": "code",
   "source": [
    "df['Year'] = df['Date'].dt.year - 2000\n",
    "df['Month'] = df['Date'].dt.month\n",
    "df['Day'] = df['Date'].dt.day\n",
    "df['DayOfWeek'] = df['Date'].dt.dayofweek\n",
    "df['IsWeekend'] = df['DayOfWeek'].isin([5, 6]).astype(int)\n",
    "df['CompetitionOpenSinceYear'] -= 2000"
   ],
   "metadata": {
    "id": "1IV2pS57u3IF",
    "ExecuteTime": {
     "end_time": "2024-08-22T19:14:34.778358800Z",
     "start_time": "2024-08-22T19:14:34.595430600Z"
    }
   },
   "execution_count": 270,
   "outputs": []
  },
  {
   "cell_type": "markdown",
   "source": [
    "вариант преобразования даты в порядковое для некоторых моделей"
   ],
   "metadata": {
    "id": "egl5inTB7D0A"
   }
  },
  {
   "cell_type": "code",
   "source": [
    "df_cleaned = df.drop(columns=['Date'])"
   ],
   "metadata": {
    "id": "eMMC7j4s7Nu4",
    "ExecuteTime": {
     "end_time": "2024-08-22T19:14:34.841712300Z",
     "start_time": "2024-08-22T19:14:34.767279200Z"
    }
   },
   "execution_count": 271,
   "outputs": []
  },
  {
   "cell_type": "code",
   "source": [
    "df['DateOrdinal'] = df['Date'].map(pd.Timestamp.toordinal)"
   ],
   "metadata": {
    "id": "2ualDFid7ATy",
    "ExecuteTime": {
     "end_time": "2024-08-22T19:14:36.473681200Z",
     "start_time": "2024-08-22T19:14:34.842711700Z"
    }
   },
   "execution_count": 272,
   "outputs": []
  },
  {
   "cell_type": "markdown",
   "source": [
    "# Можно юзать лаговые и скользящие признаки"
   ],
   "metadata": {
    "id": "Kzm7zS8G7R2H"
   }
  },
  {
   "cell_type": "code",
   "source": [
    "df['Sales_Lag_1'] = df['Sales'].shift(1)\n",
    "df['Sales_Lag_7'] = df['Sales'].shift(7)\n",
    "df['Sales_MA_7'] = df['Sales'].rolling(window=7).mean()\n",
    "df['Sales_MA_30'] = df['Sales'].rolling(window=30).mean()\n",
    "df = df.dropna()"
   ],
   "metadata": {
    "id": "zXNKwNwG7XVa",
    "ExecuteTime": {
     "end_time": "2024-08-22T19:14:36.823578500Z",
     "start_time": "2024-08-22T19:14:36.476470900Z"
    }
   },
   "execution_count": 273,
   "outputs": []
  },
  {
   "cell_type": "markdown",
   "source": [
    "# Сезонное декомпозирование"
   ],
   "metadata": {
    "id": "b4V0Xi-l7hmv"
   }
  },
  {
   "cell_type": "code",
   "source": [
    "\"\"\"from statsmodels.tsa.seasonal import seasonal_decompose\n",
    "result = seasonal_decompose(df['Sales'], model='additive', period=365)\n",
    "df['Trend'] = result.trend\n",
    "df['Seasonal'] = result.seasonal\n",
    "df['Residual'] = result.resid\n",
    "df = df.dropna()\n",
    "print(df.head())\"\"\""
   ],
   "metadata": {
    "id": "ItsZTdCv7lEk",
    "ExecuteTime": {
     "end_time": "2024-08-22T19:14:36.835476800Z",
     "start_time": "2024-08-22T19:14:36.825645Z"
    }
   },
   "execution_count": 274,
   "outputs": [
    {
     "data": {
      "text/plain": "\"from statsmodels.tsa.seasonal import seasonal_decompose\\nresult = seasonal_decompose(df['Sales'], model='additive', period=365)\\ndf['Trend'] = result.trend\\ndf['Seasonal'] = result.seasonal\\ndf['Residual'] = result.resid\\ndf = df.dropna()\\nprint(df.head())\""
     },
     "execution_count": 274,
     "metadata": {},
     "output_type": "execute_result"
    }
   ]
  },
  {
   "cell_type": "markdown",
   "source": [
    "Логарифмирование для экспонициальных и трендовых столбцов"
   ],
   "metadata": {
    "collapsed": false
   }
  },
  {
   "cell_type": "code",
   "outputs": [],
   "source": [
    "# Логарифмирование данных\n",
    "df['CompetitionDistance_log'] = np.log(df['CompetitionDistance'] + 1)\n",
    "df = df.drop(columns=['CompetitionDistance'])"
   ],
   "metadata": {
    "collapsed": false,
    "ExecuteTime": {
     "end_time": "2024-08-22T19:14:36.936454600Z",
     "start_time": "2024-08-22T19:14:36.831740900Z"
    }
   },
   "execution_count": 275
  },
  {
   "cell_type": "markdown",
   "source": [
    "# Нормализация с учетом временных данных (тут чисто пример от гптшки т.к. не успеваю дописать"
   ],
   "metadata": {
    "id": "IRXvXXOm7tFg"
   }
  },
  {
   "cell_type": "code",
   "source": [
    "import pandas as pd\n",
    "from sklearn.preprocessing import OneHotEncoder\n",
    "import numpy as np\n",
    "import matplotlib.pyplot as plt\n",
    "import seaborn as sns\n",
    "from sklearn.ensemble import RandomForestRegressor\n",
    "from sklearn.model_selection import train_test_split\n",
    "# 2. Обновление списка категориальных столбцов для кодирования\n",
    "categorical_column = ['StateHoliday']\n",
    "\n",
    "# Убедитесь, что все столбцы из списка есть в DataFrame\n",
    "categorical_column = [col for col in categorical_column if col in df.columns]\n",
    "\n",
    "# 3. Факторизация категориальных столбцов\n",
    "encoder = OneHotEncoder(sparse_output=False)\n",
    "encoded_df_list = []\n",
    "\n",
    "for name in categorical_column:\n",
    "    # Применение OneHotEncoder к целевому столбцу\n",
    "    encoded_columns = encoder.fit_transform(df[[name]])\n",
    "    # Преобразование закодированных данных в DataFrame\n",
    "    encoded_df = pd.DataFrame(encoded_columns, columns=encoder.get_feature_names_out([name]))\n",
    "    encoded_df_list.append(encoded_df)\n",
    "\n",
    "# Объединение закодированных столбцов с исходным DataFrame (удалив при этом исходные столбцы)\n",
    "df = df.drop(columns=categorical_column)\n",
    "df = pd.concat([df] + encoded_df_list, axis=1)\n",
    "\n",
    "# 4. Удаление столбца с датой перед моделированием и анализом корреляций\n",
    "df = df.drop(columns=['Date'])\n",
    "\n",
    "# Убедимся, что результат корректный\n",
    "print(df.head(10).to_string())\n"
   ],
   "metadata": {
    "id": "obAvQ0hF7sqd",
    "ExecuteTime": {
     "end_time": "2024-08-22T19:14:37.489694700Z",
     "start_time": "2024-08-22T19:14:36.962594100Z"
    }
   },
   "execution_count": 276,
   "outputs": [
    {
     "name": "stdout",
     "output_type": "stream",
     "text": [
      "    Store  DayOfWeek    Sales  Customers  Open  Promo  SchoolHoliday StoreType Assortment  CompetitionOpenSinceMonth  CompetitionOpenSinceYear  Promo2  Promo2SinceWeek  Promo2SinceYear     PromoInterval  Year  Month   Day  IsWeekend  DateOrdinal  Sales_Lag_1  Sales_Lag_7    Sales_MA_7  Sales_MA_30  CompetitionDistance_log  StateHoliday_0  StateHoliday_a  StateHoliday_b  StateHoliday_c\n",
      "29   30.0        4.0   4776.0      625.0   1.0    1.0            1.0         a          a                        2.0                      14.0     1.0             10.0           2014.0  Mar,Jun,Sept,Dec  15.0    7.0  31.0        0.0     735810.0       9411.0       7273.0  10127.000000  8948.966667                 3.713572             1.0             0.0             0.0             0.0\n",
      "30   31.0        4.0   7248.0      645.0   1.0    1.0            1.0         d          c                        7.0                      12.0     0.0              0.0              0.0                 0  15.0    7.0  31.0        0.0     735810.0       4776.0      14190.0   9135.285714  9015.133333                 9.190240             1.0             0.0             0.0             0.0\n",
      "31   32.0        4.0   6395.0      635.0   1.0    1.0            0.0         a          a                        8.0                       4.0     1.0             45.0           2009.0   Feb,May,Aug,Nov  15.0    7.0  31.0        0.0     735810.0       7248.0      14180.0   8023.142857  9026.166667                 7.976252             1.0             0.0             0.0             0.0\n",
      "32   33.0        4.0  10789.0      915.0   1.0    1.0            1.0         a          c                        5.0                      13.0     0.0              0.0              0.0                 0  15.0    7.0  31.0        0.0     735810.0       6395.0       7818.0   8447.571429  9108.666667                 7.186144             1.0             0.0             0.0             0.0\n",
      "33   34.0        4.0  11144.0     1162.0   1.0    1.0            1.0         c          a                        9.0                       9.0     0.0              0.0              0.0                 0  15.0    7.0  31.0        0.0     735810.0      10789.0      13213.0   8152.000000  9013.633333                 7.714677             1.0             0.0             0.0             0.0\n",
      "34   35.0        4.0  12412.0      777.0   1.0    1.0            1.0         d          c                       10.0                       0.0     1.0              1.0           2012.0   Jan,Apr,Jul,Oct  15.0    7.0  31.0        0.0     735810.0      11144.0       7301.0   8882.142857  9266.633333                 8.943898             1.0             0.0             0.0             0.0\n",
      "35   36.0        4.0  12422.0     1251.0   1.0    1.0            0.0         a          c                        6.0                       3.0     1.0             40.0           2014.0   Jan,Apr,Jul,Oct  15.0    7.0  31.0        0.0     735810.0      12412.0       9411.0   9312.285714  9492.333333                 6.293419             1.0             0.0             0.0             0.0\n",
      "36   37.0        4.0   9091.0      888.0   1.0    1.0            1.0         c          a                       12.0                      14.0     0.0              0.0              0.0                 0  15.0    7.0  31.0        0.0     735810.0      12422.0       4776.0   9928.714286  9283.900000                 8.350194             1.0             0.0             0.0             0.0\n",
      "37   38.0        4.0   7434.0      608.0   1.0    1.0            1.0         d          a                        4.0                       7.0     0.0              0.0              0.0                 0  15.0    7.0  31.0        0.0     735810.0       9091.0       7248.0   9955.285714  9248.633333                 6.994850             1.0             0.0             0.0             0.0\n",
      "38   39.0        4.0   8336.0      929.0   1.0    1.0            1.0         a          a                       10.0                       6.0     1.0             31.0           2013.0   Feb,May,Aug,Nov  15.0    7.0  31.0        0.0     735810.0       7434.0       6395.0  10232.571429  9241.000000                 5.564520             1.0             0.0             0.0             0.0\n"
     ]
    }
   ]
  },
  {
   "cell_type": "markdown",
   "source": [
    "Удаление лишних столбцов"
   ],
   "metadata": {
    "collapsed": false
   }
  },
  {
   "cell_type": "code",
   "outputs": [],
   "source": [
    "#df = df.drop(columns=[\"Store\"])\n",
    "#df = df.drop(columns=['Customers'])\n",
    "#df = df.drop(columns=['Sales_Lag_1'])\n",
    "#df = df.drop(columns=['Sales_Lag_7'])\n",
    "#df = df.drop(columns=['Sales_MA_7'])\n",
    "#df = df.drop(columns=['Sales_MA_30'])\n",
    "#df = df.drop(columns=['Residual'])StoreType \n",
    "# Приведение всех столбцов к числовым значениям\n",
    "for col in df.columns:\n",
    "    df[col] = pd.to_numeric(df[col], errors='coerce')"
   ],
   "metadata": {
    "collapsed": false,
    "ExecuteTime": {
     "end_time": "2024-08-22T19:14:39.264316900Z",
     "start_time": "2024-08-22T19:14:37.491690Z"
    }
   },
   "execution_count": 277
  },
  {
   "cell_type": "code",
   "outputs": [
    {
     "name": "stdout",
     "output_type": "stream",
     "text": [
      "<bound method DataFrame.info of    Store DayOfWeek    Sales Customers Open Promo SchoolHoliday StoreType  \\\n",
      "29  30.0       4.0   4776.0     625.0  1.0   1.0           1.0         0   \n",
      "30  31.0       4.0   7248.0     645.0  1.0   1.0           1.0         0   \n",
      "31  32.0       4.0   6395.0     635.0  1.0   1.0           0.0         0   \n",
      "32  33.0       4.0  10789.0     915.0  1.0   1.0           1.0         0   \n",
      "33  34.0       4.0  11144.0    1162.0  1.0   1.0           1.0         0   \n",
      "..   ...       ...      ...       ...  ...   ...           ...       ...   \n",
      "24     0         0        0         0    0     0             0         0   \n",
      "25     0         0        0         0    0     0             0         0   \n",
      "26     0         0        0         0    0     0             0         0   \n",
      "27     0         0        0         0    0     0             0         0   \n",
      "28     0         0        0         0    0     0             0         0   \n",
      "\n",
      "   Assortment CompetitionOpenSinceMonth  ... DateOrdinal Sales_Lag_1  \\\n",
      "29          0                       2.0  ...    735810.0      9411.0   \n",
      "30          0                       7.0  ...    735810.0      4776.0   \n",
      "31          0                       8.0  ...    735810.0      7248.0   \n",
      "32          0                       5.0  ...    735810.0      6395.0   \n",
      "33          0                       9.0  ...    735810.0     10789.0   \n",
      "..        ...                       ...  ...         ...         ...   \n",
      "24          0                         0  ...           0           0   \n",
      "25          0                         0  ...           0           0   \n",
      "26          0                         0  ...           0           0   \n",
      "27          0                         0  ...           0           0   \n",
      "28          0                         0  ...           0           0   \n",
      "\n",
      "   Sales_Lag_7   Sales_MA_7  Sales_MA_30 CompetitionDistance_log  \\\n",
      "29      7273.0      10127.0  8948.966667                3.713572   \n",
      "30     14190.0  9135.285714  9015.133333                 9.19024   \n",
      "31     14180.0  8023.142857  9026.166667                7.976252   \n",
      "32      7818.0  8447.571429  9108.666667                7.186144   \n",
      "33     13213.0       8152.0  9013.633333                7.714677   \n",
      "..         ...          ...          ...                     ...   \n",
      "24           0            0            0                       0   \n",
      "25           0            0            0                       0   \n",
      "26           0            0            0                       0   \n",
      "27           0            0            0                       0   \n",
      "28           0            0            0                       0   \n",
      "\n",
      "   StateHoliday_0 StateHoliday_a StateHoliday_b StateHoliday_c  \n",
      "29            1.0            0.0            0.0            0.0  \n",
      "30            1.0            0.0            0.0            0.0  \n",
      "31            1.0            0.0            0.0            0.0  \n",
      "32            1.0            0.0            0.0            0.0  \n",
      "33            1.0            0.0            0.0            0.0  \n",
      "..            ...            ...            ...            ...  \n",
      "24            1.0            0.0            0.0            0.0  \n",
      "25            1.0            0.0            0.0            0.0  \n",
      "26            1.0            0.0            0.0            0.0  \n",
      "27            1.0            0.0            0.0            0.0  \n",
      "28            1.0            0.0            0.0            0.0  \n",
      "\n",
      "[1017209 rows x 29 columns]>\n"
     ]
    }
   ],
   "source": [
    "# Заменяем NaN на '0'\n",
    "df = df.fillna(\"0\")\n",
    "\n",
    "print(df.info)"
   ],
   "metadata": {
    "collapsed": false,
    "ExecuteTime": {
     "end_time": "2024-08-22T19:14:42.465790300Z",
     "start_time": "2024-08-22T19:14:39.266335800Z"
    }
   },
   "execution_count": 278
  },
  {
   "cell_type": "code",
   "outputs": [
    {
     "name": "stdout",
     "output_type": "stream",
     "text": [
      "Index(['Store', 'DayOfWeek', 'Customers', 'Open', 'Promo', 'SchoolHoliday',\n",
      "       'StoreType', 'Assortment', 'CompetitionOpenSinceMonth',\n",
      "       'CompetitionOpenSinceYear', 'Promo2', 'Promo2SinceWeek',\n",
      "       'Promo2SinceYear', 'PromoInterval', 'Year', 'Month', 'Day', 'IsWeekend',\n",
      "       'DateOrdinal', 'Sales_Lag_1', 'Sales_Lag_7', 'Sales_MA_7',\n",
      "       'Sales_MA_30', 'CompetitionDistance_log', 'StateHoliday_0',\n",
      "       'StateHoliday_a', 'StateHoliday_b', 'StateHoliday_c'],\n",
      "      dtype='object')\n",
      "981050     4848.0\n",
      "308864     3053.0\n",
      "395723    16795.0\n",
      "907627     7792.0\n",
      "773862     5654.0\n",
      "           ...   \n",
      "398146     7150.0\n",
      "849447     7679.0\n",
      "446168     7182.0\n",
      "138867        0.0\n",
      "754958     1963.0\n",
      "Name: Sales, Length: 813767, dtype: object\n"
     ]
    }
   ],
   "source": [
    "from sklearn.model_selection import train_test_split\n",
    "\n",
    "# Определяем целевую переменную (в данном случае, допустим, что 'Sales' - это целевая переменная)\n",
    "target = 'Sales'\n",
    "\n",
    "# Разделяем признаки (X) и целевую переменную (y)\n",
    "X = df.drop(columns=[target])\n",
    "Y = df[target]\n",
    "\n",
    "# Разделяем данные на тренировочный и тестовый наборы\n",
    "# Например, тестовый набор составит 20% от всех данных\n",
    "train_points, test_points, train_values, test_values = train_test_split(X, Y, test_size = 0.2)\n",
    "print(train_points.columns)\n",
    "print(train_values)"
   ],
   "metadata": {
    "collapsed": false,
    "ExecuteTime": {
     "end_time": "2024-08-22T19:14:44.820360Z",
     "start_time": "2024-08-22T19:14:42.462458300Z"
    }
   },
   "execution_count": 279
  },
  {
   "cell_type": "code",
   "outputs": [
    {
     "name": "stdout",
     "output_type": "stream",
     "text": [
      "Среднее абсолютное отклонение (MAE) на тестовых данных (RandomForest): 662.3765434777494\n",
      "Среднеквадратичная ошибка (MSE) на тестовых данных (RandomForest): 988922.5328695134\n",
      "Корень средней квадратичной ошибки (RMSE) на тестовых данных (RandomForest): 994.4458420997663\n",
      "Коэффициент детерминации (R^2) на тестовых данных (RandomForest): 0.9329034353047448\n"
     ]
    }
   ],
   "source": [
    "import pandas as pd\n",
    "from sklearn.model_selection import train_test_split\n",
    "from sklearn.ensemble import RandomForestRegressor\n",
    "from sklearn.metrics import mean_absolute_error, mean_squared_error, r2_score\n",
    "\n",
    "# Предположим, что ваши данные уже подготовлены и содержат колонки с лагами и скользящими средними\n",
    "# Например: df содержит 'Sales_Lag_1', 'Sales_Lag_7', 'Sales_MA_7', 'Sales_MA_30' и другие признаки\n",
    "\n",
    "\n",
    "    \n",
    "\n",
    "# Разделение на признаки (X) и целевую переменную (y)\n",
    "X = df.drop(columns=['Sales'])  # Все колонки кроме 'Sales' являются признаками\n",
    "y = df['Sales']\n",
    "\n",
    "# Разделение данных на обучающую и тестовую выборки\n",
    "X_train, X_test, y_train, y_test = train_test_split(X, y, test_size=0.2, random_state=42)\n",
    "\n",
    "\n",
    "# Создаем модель случайного леса с оптимизированными параметрами\n",
    "model = RandomForestRegressor(\n",
    "    n_estimators=50,  \n",
    "    max_depth=10,  # Ограничение глубины деревьев для ускорения обучения\n",
    "    n_jobs=-1,  # все доступные ядра процессора\n",
    "    random_state=42\n",
    ")\n",
    "\n",
    "# Обучение модели\n",
    "model.fit(X_train, y_train)\n",
    "\n",
    "# Прогнозирование\n",
    "y_pred = model.predict(X_test)\n",
    "\n",
    "# Вычисление метрик\n",
    "mae_rf = mean_absolute_error(y_test, y_pred)\n",
    "mse_rf = mean_squared_error(y_test, y_pred)\n",
    "rmse_rf = mse_rf ** 0.5\n",
    "r2_rf = r2_score(y_test, y_pred)\n",
    "\n",
    "# Вывод значений метрик\n",
    "print(f\"Среднее абсолютное отклонение (MAE) на тестовых данных (RandomForest): {mae_rf}\")\n",
    "print(f\"Среднеквадратичная ошибка (MSE) на тестовых данных (RandomForest): {mse_rf}\")\n",
    "print(f\"Корень средней квадратичной ошибки (RMSE) на тестовых данных (RandomForest): {rmse_rf}\")\n",
    "print(f\"Коэффициент детерминации (R^2) на тестовых данных (RandomForest): {r2_rf}\")\n"
   ],
   "metadata": {
    "collapsed": false,
    "ExecuteTime": {
     "end_time": "2024-08-22T19:16:02.222330Z",
     "start_time": "2024-08-22T19:14:44.824401200Z"
    }
   },
   "execution_count": 280
  },
  {
   "cell_type": "code",
   "outputs": [
    {
     "name": "stdout",
     "output_type": "stream",
     "text": [
      "Store                        float64\n",
      "DayOfWeek                    float64\n",
      "Customers                    float64\n",
      "Open                         float64\n",
      "Promo                        float64\n",
      "SchoolHoliday                float64\n",
      "StoreType                      int64\n",
      "Assortment                     int64\n",
      "CompetitionOpenSinceMonth    float64\n",
      "CompetitionOpenSinceYear     float64\n",
      "Promo2                       float64\n",
      "Promo2SinceWeek              float64\n",
      "Promo2SinceYear              float64\n",
      "PromoInterval                float64\n",
      "Year                         float64\n",
      "Month                        float64\n",
      "Day                          float64\n",
      "IsWeekend                    float64\n",
      "DateOrdinal                  float64\n",
      "Sales_Lag_1                  float64\n",
      "Sales_Lag_7                  float64\n",
      "Sales_MA_7                   float64\n",
      "Sales_MA_30                  float64\n",
      "CompetitionDistance_log      float64\n",
      "StateHoliday_0               float64\n",
      "StateHoliday_a               float64\n",
      "StateHoliday_b               float64\n",
      "StateHoliday_c               float64\n",
      "dtype: object\n",
      "Среднее абсолютное отклонение (MAE) на тестовых данных (RandomForest): 662.3765434777494\n",
      "Среднеквадратичная ошибка (MSE) на тестовых данных (RandomForest): 988922.5328695133\n",
      "Корень средней квадратичной ошибки (RMSE) на тестовых данных (RandomForest): 994.4458420997663\n",
      "Коэффициент детерминации (R^2) на тестовых данных (RandomForest): 0.9329034353047448\n"
     ]
    }
   ],
   "source": [
    "import pandas as pd\n",
    "from sklearn.model_selection import train_test_split\n",
    "from sklearn.ensemble import RandomForestRegressor\n",
    "from sklearn.metrics import mean_absolute_error, mean_squared_error, r2_score\n",
    "\n",
    "# Предположим, что ваши данные уже подготовлены и содержат колонки с лагами и скользящими средними\n",
    "# Например: df содержит 'Sales_Lag_1', 'Sales_Lag_7', 'Sales_MA_7', 'Sales_MA_30' и другие признаки\n",
    "\n",
    "\n",
    "# Приведение всех столбцов к числовым значениям\n",
    "for col in df.columns:\n",
    "    df[col] = pd.to_numeric(df[col], errors='coerce')\n",
    "    \n",
    "# Разделение на признаки (X) и целевую переменную (y)\n",
    "X = df.drop(columns=['Sales'])  # Все колонки кроме 'Sales' являются признаками\n",
    "y = df['Sales']\n",
    "print(X.dtypes)\n",
    "\n",
    "# Разделение данных на обучающую и тестовую выборки\n",
    "X_train, X_test, y_train, y_test = train_test_split(X, y, test_size=0.2, random_state=42)\n",
    "\n",
    "\n",
    "# Создаем модель случайного леса с оптимизированными параметрами\n",
    "model = RandomForestRegressor(\n",
    "    n_estimators=50,  \n",
    "    max_depth=10,  # Ограничение глубины деревьев для ускорения обучения\n",
    "    n_jobs=-1,  # все доступные ядра процессора\n",
    "    random_state=42\n",
    ")\n",
    "\n",
    "# Обучение модели\n",
    "model.fit(X_train, y_train)\n",
    "\n",
    "# Прогнозирование\n",
    "y_pred = model.predict(X_test)\n",
    "\n",
    "# Вычисление метрик\n",
    "mae_rf = mean_absolute_error(y_test, y_pred)\n",
    "mse_rf = mean_squared_error(y_test, y_pred)\n",
    "rmse_rf = mse_rf ** 0.5\n",
    "r2_rf = r2_score(y_test, y_pred)\n",
    "\n",
    "# Вывод значений метрик\n",
    "print(f\"Среднее абсолютное отклонение (MAE) на тестовых данных (RandomForest): {mae_rf}\")\n",
    "print(f\"Среднеквадратичная ошибка (MSE) на тестовых данных (RandomForest): {mse_rf}\")\n",
    "print(f\"Корень средней квадратичной ошибки (RMSE) на тестовых данных (RandomForest): {rmse_rf}\")\n",
    "print(f\"Коэффициент детерминации (R^2) на тестовых данных (RandomForest): {r2_rf}\")\n"
   ],
   "metadata": {
    "collapsed": false,
    "ExecuteTime": {
     "end_time": "2024-08-22T19:17:24.685623900Z",
     "start_time": "2024-08-22T19:16:02.221324900Z"
    }
   },
   "execution_count": 281
  },
  {
   "cell_type": "code",
   "outputs": [],
   "source": [],
   "metadata": {
    "collapsed": false,
    "ExecuteTime": {
     "end_time": "2024-08-22T19:17:24.689079Z",
     "start_time": "2024-08-22T19:17:24.687065900Z"
    }
   },
   "execution_count": 281
  }
 ]
}
