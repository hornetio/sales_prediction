{
 "cells": [
  {
   "cell_type": "code",
   "outputs": [
    {
     "name": "stdout",
     "output_type": "stream",
     "text": [
      "Index(['Store', 'DayOfWeek', 'Date', 'Sales', 'Customers', 'Open', 'Promo',\n",
      "       'StateHoliday', 'SchoolHoliday', 'StoreType', 'Assortment',\n",
      "       'CompetitionDistance', 'CompetitionOpenSinceMonth',\n",
      "       'CompetitionOpenSinceYear', 'Promo2', 'Promo2SinceWeek',\n",
      "       'Promo2SinceYear', 'PromoInterval'],\n",
      "      dtype='object')\n",
      "<bound method DataFrame.info of          Store  DayOfWeek       Date  Sales  Customers  Open  Promo  \\\n",
      "0            1          5 2015-07-31   5263        555     1      1   \n",
      "1            2          5 2015-07-31   6064        625     1      1   \n",
      "2            3          5 2015-07-31   8314        821     1      1   \n",
      "3            4          5 2015-07-31  13995       1498     1      1   \n",
      "4            5          5 2015-07-31   4822        559     1      1   \n",
      "...        ...        ...        ...    ...        ...   ...    ...   \n",
      "1017204   1111          2 2013-01-01      0          0     0      0   \n",
      "1017205   1112          2 2013-01-01      0          0     0      0   \n",
      "1017206   1113          2 2013-01-01      0          0     0      0   \n",
      "1017207   1114          2 2013-01-01      0          0     0      0   \n",
      "1017208   1115          2 2013-01-01      0          0     0      0   \n",
      "\n",
      "        StateHoliday  SchoolHoliday StoreType Assortment CompetitionDistance  \\\n",
      "0                  0              1         c          a              1270.0   \n",
      "1                  0              1         a          a               570.0   \n",
      "2                  0              1         a          a             14130.0   \n",
      "3                  0              1         c          c               620.0   \n",
      "4                  0              1         a          a             29910.0   \n",
      "...              ...            ...       ...        ...                 ...   \n",
      "1017204            a              1         a          a              1900.0   \n",
      "1017205            a              1         c          c              1880.0   \n",
      "1017206            a              1         a          c              9260.0   \n",
      "1017207            a              1         a          c               870.0   \n",
      "1017208            a              1         d          c              5350.0   \n",
      "\n",
      "        CompetitionOpenSinceMonth CompetitionOpenSinceYear  Promo2  \\\n",
      "0                             9.0                   2008.0       0   \n",
      "1                            11.0                   2007.0       1   \n",
      "2                            12.0                   2006.0       1   \n",
      "3                             9.0                   2009.0       0   \n",
      "4                             4.0                   2015.0       0   \n",
      "...                           ...                      ...     ...   \n",
      "1017204                       6.0                   2014.0       1   \n",
      "1017205                       4.0                   2006.0       0   \n",
      "1017206                         0                        0       0   \n",
      "1017207                         0                        0       0   \n",
      "1017208                         0                        0       1   \n",
      "\n",
      "        Promo2SinceWeek Promo2SinceYear     PromoInterval  \n",
      "0                     0               0                 0  \n",
      "1                  13.0          2010.0   Jan,Apr,Jul,Oct  \n",
      "2                  14.0          2011.0   Jan,Apr,Jul,Oct  \n",
      "3                     0               0                 0  \n",
      "4                     0               0                 0  \n",
      "...                 ...             ...               ...  \n",
      "1017204            31.0          2013.0   Jan,Apr,Jul,Oct  \n",
      "1017205               0               0                 0  \n",
      "1017206               0               0                 0  \n",
      "1017207               0               0                 0  \n",
      "1017208            22.0          2012.0  Mar,Jun,Sept,Dec  \n",
      "\n",
      "[1017209 rows x 18 columns]>\n"
     ]
    }
   ],
   "source": [
    "import pandas as pd\n",
    "import numpy as np\n",
    "from sklearn import ensemble\n",
    "from sklearn.ensemble import RandomForestRegressor\n",
    "from sklearn.metrics import mean_absolute_error\n",
    "from sklearn.model_selection import train_test_split\n",
    "from sklearn.preprocessing import OneHotEncoder\n",
    "from sklearn.ensemble import RandomForestClassifier\n",
    "\n",
    "from tensorflow.keras.models import Sequential\n",
    "from tensorflow.keras.layers import Dense\n",
    "\n",
    "import warnings\n",
    "warnings.simplefilter(action='ignore', category=FutureWarning)\n",
    "\n",
    "import numpy as np\n",
    "import pandas as pd\n",
    "\n",
    "test_data = pd.read_csv('D:/Valerian/Documents/OneDrive/Python/ДопОбр Анализ данных/Практика Нетодология/sales_prediction/Команда_11/test.csv', encoding='iso-8859-1',na_values=[''], keep_default_na=False)\n",
    "\n",
    "train_data = pd.read_csv('D:/Valerian/Documents/OneDrive/Python/ДопОбр Анализ данных/Практика Нетодология/sales_prediction/Команда_11/train.csv', parse_dates=['Date'], low_memory=False, na_values=[''], keep_default_na=False)\n",
    "\n",
    "# Загрузка данных из файла store.csv\n",
    "store_data = pd.read_csv('D:/Valerian/Documents/OneDrive/Python/ДопОбр Анализ данных/Практика Нетодология/sales_prediction/Команда_11/store.csv', encoding='iso-8859-1',na_values=[''], keep_default_na=False)\n",
    "\n",
    "\n",
    "# Заменяем NaN на '0'\n",
    "train_data = train_data.fillna(\"0\")\n",
    "test_data = test_data.fillna(\"0\")\n",
    "store_data = store_data.fillna(\"0\")\n",
    "df = pd.merge(train_data, store_data, on='Store')\n",
    "#df = df.drop('Store')\n",
    "print(df.columns)\n",
    "print(df.info)"
   ],
   "metadata": {
    "collapsed": false,
    "ExecuteTime": {
     "end_time": "2024-08-24T12:02:17.752582300Z",
     "start_time": "2024-08-24T12:02:16.688646Z"
    }
   },
   "id": "3a771acf775d665d",
   "execution_count": 44
  },
  {
   "cell_type": "markdown",
   "source": [
    "Удаление лишних столбцов"
   ],
   "metadata": {
    "collapsed": false
   },
   "id": "9e875e03b4af8d5"
  },
  {
   "cell_type": "code",
   "outputs": [
    {
     "data": {
      "text/plain": "<bound method DataFrame.info of          Store  DayOfWeek       Date  Sales  Customers  Open  Promo  \\\n0            1          5 2015-07-31   5263        555     1      1   \n1            2          5 2015-07-31   6064        625     1      1   \n2            3          5 2015-07-31   8314        821     1      1   \n3            4          5 2015-07-31  13995       1498     1      1   \n4            5          5 2015-07-31   4822        559     1      1   \n...        ...        ...        ...    ...        ...   ...    ...   \n1017204   1111          2 2013-01-01      0          0     0      0   \n1017205   1112          2 2013-01-01      0          0     0      0   \n1017206   1113          2 2013-01-01      0          0     0      0   \n1017207   1114          2 2013-01-01      0          0     0      0   \n1017208   1115          2 2013-01-01      0          0     0      0   \n\n        StateHoliday  SchoolHoliday StoreType Assortment CompetitionDistance  \\\n0                  0              1         c          a              1270.0   \n1                  0              1         a          a               570.0   \n2                  0              1         a          a             14130.0   \n3                  0              1         c          c               620.0   \n4                  0              1         a          a             29910.0   \n...              ...            ...       ...        ...                 ...   \n1017204            a              1         a          a              1900.0   \n1017205            a              1         c          c              1880.0   \n1017206            a              1         a          c              9260.0   \n1017207            a              1         a          c               870.0   \n1017208            a              1         d          c              5350.0   \n\n        CompetitionOpenSinceMonth CompetitionOpenSinceYear  Promo2  \\\n0                             9.0                   2008.0       0   \n1                            11.0                   2007.0       1   \n2                            12.0                   2006.0       1   \n3                             9.0                   2009.0       0   \n4                             4.0                   2015.0       0   \n...                           ...                      ...     ...   \n1017204                       6.0                   2014.0       1   \n1017205                       4.0                   2006.0       0   \n1017206                         0                        0       0   \n1017207                         0                        0       0   \n1017208                         0                        0       1   \n\n        Promo2SinceWeek Promo2SinceYear     PromoInterval  \n0                     0               0                 0  \n1                  13.0          2010.0   Jan,Apr,Jul,Oct  \n2                  14.0          2011.0   Jan,Apr,Jul,Oct  \n3                     0               0                 0  \n4                     0               0                 0  \n...                 ...             ...               ...  \n1017204            31.0          2013.0   Jan,Apr,Jul,Oct  \n1017205               0               0                 0  \n1017206               0               0                 0  \n1017207               0               0                 0  \n1017208            22.0          2012.0  Mar,Jun,Sept,Dec  \n\n[1017209 rows x 18 columns]>"
     },
     "execution_count": 45,
     "metadata": {},
     "output_type": "execute_result"
    }
   ],
   "source": [
    "df = df.copy()\n",
    "\n",
    "\n",
    "# Определение категориальных и числовых признаков\n",
    "categorical_column = ['StateHoliday', 'StoreType', 'Assortment', 'PromoInterval']\n",
    "num_column = ['Sales', 'Customers', 'Open', 'Promo', 'SchoolHoliday', \n",
    "                      'CompetitionDistance', 'CompetitionOpenSinceMonth', \n",
    "                      'Promo2', 'Promo2SinceWeek'\n",
    "                      ]\n",
    "\n",
    "date_column = ['Promo2SinceYear', 'CompetitionOpenSinceYear', \"Date\"]\n",
    "\n",
    "df.info"
   ],
   "metadata": {
    "collapsed": false,
    "ExecuteTime": {
     "end_time": "2024-08-24T12:02:17.959721300Z",
     "start_time": "2024-08-24T12:02:17.756587900Z"
    }
   },
   "id": "50b27ff7a7329de4",
   "execution_count": 45
  },
  {
   "cell_type": "markdown",
   "source": [
    "Форматирование данных"
   ],
   "metadata": {
    "collapsed": false
   },
   "id": "33f9d0e5a926a5"
  },
  {
   "cell_type": "code",
   "outputs": [
    {
     "name": "stdout",
     "output_type": "stream",
     "text": []
    }
   ],
   "source": [
    "df_form = df.copy()\n",
    "\n",
    "\n",
    "df_form.replace({' - ': np.nan, '\\\\N': np.nan, 'NaN': np.nan}, inplace=True)\n",
    "df_form = df_form.dropna()\n",
    "\n",
    "# Факторизация категориальных столбцов\n",
    "encoder = OneHotEncoder(sparse_output=False)\n",
    "encoded_df_list = []\n",
    "\n",
    "for name in categorical_column:\n",
    "    # Применение OneHotEncoder к целевому столбцу\n",
    "    encoded_columns = encoder.fit_transform(df_form[[name]])\n",
    "    # Преобразование закодированных данных в DataFrame\n",
    "    encoded_df = pd.DataFrame(encoded_columns, columns=encoder.get_feature_names_out([name]))\n",
    "    encoded_df_list.append(encoded_df)\n",
    "\n",
    "# Объединение закодированных столбцов с исходным DataFrame (удалив при этом исходные столбцы)\n",
    "df_form = df_form.drop(columns=categorical_column)\n",
    "df_form = pd.concat([df_form] + encoded_df_list, axis=1)\n",
    "\n",
    "df_form['Year'] = df_form['Date'].dt.year - 2000\n",
    "df_form['Month'] = df_form['Date'].dt.month\n",
    "df_form['Day'] = df_form['Date'].dt.day\n",
    "del df_form['Date']\n",
    "#Приведение всех числовых столбцов к типу int\n",
    "for column in df_form.columns :\n",
    "    df_form[column] = pd.to_numeric(df_form[column], errors='coerce')\n",
    "\n",
    "df_form = df_form.dropna()\n",
    "\n",
    "del df_form['Customers']\n",
    "df_form['CompetitionOpenSinceYear'] -= 2000\n",
    "df_form.loc[df_form['Promo2SinceYear'] > 2000, 'Promo2SinceYear'] -= 2000\n"
   ],
   "metadata": {
    "collapsed": false,
    "ExecuteTime": {
     "end_time": "2024-08-24T12:02:21.966529100Z",
     "start_time": "2024-08-24T12:02:17.961711400Z"
    }
   },
   "id": "f0382fe3dcfabd",
   "execution_count": 46
  },
  {
   "cell_type": "markdown",
   "source": [
    "Создание тестового и тренировочного датасетов\n"
   ],
   "metadata": {
    "collapsed": false
   },
   "id": "18a3a9fd4e7883d8"
  },
  {
   "cell_type": "code",
   "outputs": [
    {
     "name": "stdout",
     "output_type": "stream",
     "text": [
      "           Store  DayOfWeek      Open     Promo  SchoolHoliday  \\\n",
      "417683 -0.666120   1.502791 -2.210440 -0.785400      -0.466372   \n",
      "659402 -1.399248   1.502791 -2.210440 -0.785400      -0.466372   \n",
      "739873 -0.805911   0.501484  0.452399 -0.785400      -0.466372   \n",
      "109671 -0.485945   0.501484  0.452399 -0.785400      -0.466372   \n",
      "422541  0.570256  -0.499823  0.452399  1.273237      -0.466372   \n",
      "...          ...        ...       ...       ...            ...   \n",
      "259178 -0.411389   1.502791 -2.210440 -0.785400      -0.466372   \n",
      "365838 -0.150446   0.501484  0.452399 -0.785400       2.144211   \n",
      "131932 -0.607097   1.002138  0.452399 -0.785400      -0.466372   \n",
      "671155  0.473955   0.000831  0.452399  1.273237      -0.466372   \n",
      "121958 -0.417602  -1.501129  0.452399  1.273237      -0.466372   \n",
      "\n",
      "        CompetitionDistance  CompetitionOpenSinceMonth  \\\n",
      "417683            -0.663530                  -0.216381   \n",
      "659402            -0.418402                   0.950877   \n",
      "739873             4.307775                   0.950877   \n",
      "109671             0.053697                   0.950877   \n",
      "422541            -0.134364                  -1.150188   \n",
      "...                     ...                        ...   \n",
      "259178            -0.670015                  -1.150188   \n",
      "365838             0.368862                  -1.150188   \n",
      "131932            -0.670015                   0.950877   \n",
      "671155             1.516685                  -0.449833   \n",
      "121958            -0.540317                  -1.150188   \n",
      "\n",
      "        CompetitionOpenSinceYear    Promo2  Promo2SinceWeek  ...  \\\n",
      "417683                  0.685111  0.998873         0.153507  ...   \n",
      "659402                  0.676558 -1.001128        -0.760097  ...   \n",
      "739873                  0.686180 -1.001128        -0.760097  ...   \n",
      "109671                  0.685111  0.998873         0.088250  ...   \n",
      "422541                 -1.464856 -1.001128        -0.760097  ...   \n",
      "...                          ...       ...              ...  ...   \n",
      "259178                 -1.464856 -1.001128        -0.760097  ...   \n",
      "365838                 -1.464856 -1.001128        -0.760097  ...   \n",
      "131932                  0.682973 -1.001128        -0.760097  ...   \n",
      "671155                  0.680835  0.998873        -0.433810  ...   \n",
      "121958                 -1.464856  0.998873         1.850201  ...   \n",
      "\n",
      "        Assortment_a  Assortment_b  Assortment_c  PromoInterval_0  \\\n",
      "417683     -1.058408     -0.090668      1.075884        -0.998873   \n",
      "659402     -1.058408     -0.090668      1.075884         1.001128   \n",
      "739873     -1.058408     -0.090668      1.075884         1.001128   \n",
      "109671     -1.058408     -0.090668      1.075884        -0.998873   \n",
      "422541     -1.058408     -0.090668      1.075884         1.001128   \n",
      "...              ...           ...           ...              ...   \n",
      "259178      0.944815     -0.090668     -0.929468         1.001128   \n",
      "365838     -1.058408     -0.090668      1.075884         1.001128   \n",
      "131932      0.944815     -0.090668     -0.929468         1.001128   \n",
      "671155      0.944815     -0.090668     -0.929468        -0.998873   \n",
      "121958     -1.058408     -0.090668      1.075884        -0.998873   \n",
      "\n",
      "        PromoInterval_Feb,May,Aug,Nov  PromoInterval_Jan,Apr,Jul,Oct  \\\n",
      "417683                      -0.363286                       1.571705   \n",
      "659402                      -0.363286                      -0.636252   \n",
      "739873                      -0.363286                      -0.636252   \n",
      "109671                      -0.363286                       1.571705   \n",
      "422541                      -0.363286                      -0.636252   \n",
      "...                               ...                            ...   \n",
      "259178                      -0.363286                      -0.636252   \n",
      "365838                      -0.363286                      -0.636252   \n",
      "131932                      -0.363286                      -0.636252   \n",
      "671155                      -0.363286                       1.571705   \n",
      "121958                      -0.363286                       1.571705   \n",
      "\n",
      "        PromoInterval_Mar,Jun,Sept,Dec      Year     Month       Day  \n",
      "417683                       -0.325521  0.215730  0.046071  0.716599  \n",
      "659402                       -0.325521 -1.070616  1.549336  0.147618  \n",
      "739873                       -0.325521 -1.070616  0.948030 -1.104141  \n",
      "109671                       -0.325521  1.502077 -0.555234  0.944192  \n",
      "422541                       -0.325521  0.215730  0.046071  0.261414  \n",
      "...                                ...       ...       ...       ...  \n",
      "259178                       -0.325521  0.215730  1.849989 -0.990345  \n",
      "365838                       -0.325521  0.215730  0.647377 -0.079975  \n",
      "131932                       -0.325521  1.502077 -0.555234 -1.331734  \n",
      "671155                       -0.325521 -1.070616  1.549336 -0.990345  \n",
      "121958                       -0.325521  1.502077 -0.555234 -0.307567  \n",
      "\n",
      "[813767 rows x 29 columns]\n",
      "        Sales\n",
      "417683      0\n",
      "659402      0\n",
      "739873   6244\n",
      "109671   4055\n",
      "422541   9459\n",
      "...       ...\n",
      "259178      0\n",
      "365838   7820\n",
      "131932   8348\n",
      "671155   7968\n",
      "121958   9615\n",
      "\n",
      "[813767 rows x 1 columns]\n"
     ]
    }
   ],
   "source": [
    "import pandas as pd\n",
    "from sklearn.preprocessing import StandardScaler\n",
    "from sklearn.model_selection import train_test_split\n",
    "\n",
    "df_form = pd.DataFrame(df_form)\n",
    "\n",
    "# Определяем целевую переменную\n",
    "target = 'Sales'\n",
    "\n",
    "# Разделяем признаки (X) и целевую переменную (y)\n",
    "X = df_form.drop(columns=[target])\n",
    "Y = df_form[target]\n",
    "\n",
    "# Сохраняем имена колонок для последующего использования\n",
    "column_names = X.columns\n",
    "\n",
    "# Масштабируем данные\n",
    "scaler = StandardScaler()\n",
    "X_scaled = scaler.fit_transform(X)\n",
    "\n",
    "# Создаем новый DataFrame с масштабированными данными\n",
    "X_scaled_df = pd.DataFrame(X_scaled, columns=column_names)\n",
    "\n",
    "# Разделяем данные на тренировочный и тестовый наборы\n",
    "train_points, test_points, train_values, test_values = train_test_split(X_scaled_df, Y, test_size=0.2, random_state=42)\n",
    "\n",
    "train_points = pd.DataFrame(train_points)\n",
    "test_points = pd.DataFrame(test_points)\n",
    "train_values = pd.DataFrame(train_values)\n",
    "test_values = pd.DataFrame(test_values)\n",
    "\n",
    "\n",
    "# Выводим информацию\n",
    "print(train_points)\n",
    "print(train_values)\n"
   ],
   "metadata": {
    "collapsed": false,
    "ExecuteTime": {
     "end_time": "2024-08-24T12:02:23.366902300Z",
     "start_time": "2024-08-24T12:02:21.865460700Z"
    }
   },
   "id": "c9b24f63694603b7",
   "execution_count": 47
  },
  {
   "cell_type": "markdown",
   "source": [
    "Создание модели"
   ],
   "metadata": {
    "collapsed": false
   },
   "id": "e828332419ff092e"
  },
  {
   "cell_type": "code",
   "outputs": [
    {
     "name": "stderr",
     "output_type": "stream",
     "text": [
      "D:\\Valerian\\Documents\\OneDrive\\Python\\ДопОбр Анализ данных\\Практика Нетодология\\.venv\\Lib\\site-packages\\keras\\src\\layers\\core\\dense.py:87: UserWarning: Do not pass an `input_shape`/`input_dim` argument to a layer. When using Sequential models, prefer using an `Input(shape)` object as the first layer in the model instead.\n",
      "  super().__init__(activity_regularizer=activity_regularizer, **kwargs)\n"
     ]
    },
    {
     "ename": "ValueError",
     "evalue": "object __array__ method not producing an array",
     "output_type": "error",
     "traceback": [
      "\u001B[1;31m---------------------------------------------------------------------------\u001B[0m",
      "\u001B[1;31mValueError\u001B[0m                                Traceback (most recent call last)",
      "Cell \u001B[1;32mIn[48], line 16\u001B[0m\n\u001B[0;32m     13\u001B[0m nn_model\u001B[38;5;241m.\u001B[39mcompile(loss\u001B[38;5;241m=\u001B[39m\u001B[38;5;124m'\u001B[39m\u001B[38;5;124mmean_absolute_error\u001B[39m\u001B[38;5;124m'\u001B[39m, optimizer\u001B[38;5;241m=\u001B[39m\u001B[38;5;124m'\u001B[39m\u001B[38;5;124madam\u001B[39m\u001B[38;5;124m'\u001B[39m)\n\u001B[0;32m     15\u001B[0m \u001B[38;5;66;03m# Обучение модели\u001B[39;00m\n\u001B[1;32m---> 16\u001B[0m results \u001B[38;5;241m=\u001B[39m \u001B[43mnn_model\u001B[49m\u001B[38;5;241;43m.\u001B[39;49m\u001B[43mfit\u001B[49m\u001B[43m(\u001B[49m\n\u001B[0;32m     17\u001B[0m \u001B[43m    \u001B[49m\u001B[43mtrain_points\u001B[49m\u001B[43m,\u001B[49m\u001B[43m \u001B[49m\u001B[43mtrain_values\u001B[49m\u001B[43m,\u001B[49m\n\u001B[0;32m     18\u001B[0m \u001B[43m    \u001B[49m\u001B[43mepochs\u001B[49m\u001B[38;5;241;43m=\u001B[39;49m\u001B[38;5;241;43m5\u001B[39;49m\u001B[43m,\u001B[49m\n\u001B[0;32m     19\u001B[0m \u001B[43m    \u001B[49m\u001B[43mbatch_size\u001B[49m\u001B[38;5;241;43m=\u001B[39;49m\u001B[38;5;241;43m100\u001B[39;49m\u001B[43m,\u001B[49m\n\u001B[0;32m     20\u001B[0m \u001B[43m    \u001B[49m\u001B[43mvalidation_data\u001B[49m\u001B[38;5;241;43m=\u001B[39;49m\u001B[43m(\u001B[49m\u001B[43mtest_points\u001B[49m\u001B[43m,\u001B[49m\u001B[43m \u001B[49m\u001B[43mtest_values\u001B[49m\u001B[43m)\u001B[49m\n\u001B[0;32m     21\u001B[0m \u001B[43m)\u001B[49m\n\u001B[0;32m     23\u001B[0m \u001B[38;5;66;03m# Предсказание\u001B[39;00m\n\u001B[0;32m     24\u001B[0m nn_predict \u001B[38;5;241m=\u001B[39m nn_model\u001B[38;5;241m.\u001B[39mpredict(test_points)\u001B[38;5;241m.\u001B[39mflatten()\n",
      "File \u001B[1;32mD:\\Valerian\\Documents\\OneDrive\\Python\\ДопОбр Анализ данных\\Практика Нетодология\\.venv\\Lib\\site-packages\\keras\\src\\utils\\traceback_utils.py:122\u001B[0m, in \u001B[0;36mfilter_traceback.<locals>.error_handler\u001B[1;34m(*args, **kwargs)\u001B[0m\n\u001B[0;32m    119\u001B[0m     filtered_tb \u001B[38;5;241m=\u001B[39m _process_traceback_frames(e\u001B[38;5;241m.\u001B[39m__traceback__)\n\u001B[0;32m    120\u001B[0m     \u001B[38;5;66;03m# To get the full stack trace, call:\u001B[39;00m\n\u001B[0;32m    121\u001B[0m     \u001B[38;5;66;03m# `keras.config.disable_traceback_filtering()`\u001B[39;00m\n\u001B[1;32m--> 122\u001B[0m     \u001B[38;5;28;01mraise\u001B[39;00m e\u001B[38;5;241m.\u001B[39mwith_traceback(filtered_tb) \u001B[38;5;28;01mfrom\u001B[39;00m \u001B[38;5;28;01mNone\u001B[39;00m\n\u001B[0;32m    123\u001B[0m \u001B[38;5;28;01mfinally\u001B[39;00m:\n\u001B[0;32m    124\u001B[0m     \u001B[38;5;28;01mdel\u001B[39;00m filtered_tb\n",
      "File \u001B[1;32mD:\\Valerian\\Documents\\OneDrive\\Python\\ДопОбр Анализ данных\\Практика Нетодология\\.venv\\Lib\\site-packages\\tensorflow\\python\\framework\\constant_op.py:108\u001B[0m, in \u001B[0;36mconvert_to_eager_tensor\u001B[1;34m(value, ctx, dtype)\u001B[0m\n\u001B[0;32m    106\u001B[0m     dtype \u001B[38;5;241m=\u001B[39m dtypes\u001B[38;5;241m.\u001B[39mas_dtype(dtype)\u001B[38;5;241m.\u001B[39mas_datatype_enum\n\u001B[0;32m    107\u001B[0m ctx\u001B[38;5;241m.\u001B[39mensure_initialized()\n\u001B[1;32m--> 108\u001B[0m \u001B[38;5;28;01mreturn\u001B[39;00m \u001B[43mops\u001B[49m\u001B[38;5;241;43m.\u001B[39;49m\u001B[43mEagerTensor\u001B[49m\u001B[43m(\u001B[49m\u001B[43mvalue\u001B[49m\u001B[43m,\u001B[49m\u001B[43m \u001B[49m\u001B[43mctx\u001B[49m\u001B[38;5;241;43m.\u001B[39;49m\u001B[43mdevice_name\u001B[49m\u001B[43m,\u001B[49m\u001B[43m \u001B[49m\u001B[43mdtype\u001B[49m\u001B[43m)\u001B[49m\n",
      "\u001B[1;31mValueError\u001B[0m: object __array__ method not producing an array"
     ]
    }
   ],
   "source": [
    "import numpy as np\n",
    "from sklearn.metrics import mean_absolute_error, mean_squared_error, r2_score\n",
    "from tensorflow.keras.models import Sequential\n",
    "from tensorflow.keras.layers import Dense\n",
    "\n",
    "# Определение и компиляция модели\n",
    "nn_model = Sequential()\n",
    "nn_model.add(Dense(17, activation='relu', input_shape=(train_points.shape[1],)))\n",
    "nn_model.add(Dense(15, activation='relu'))\n",
    "nn_model.add(Dense(15, activation='relu'))\n",
    "nn_model.add(Dense(1))\n",
    "\n",
    "nn_model.compile(loss='mean_absolute_error', optimizer='adam')\n",
    "\n",
    "# Обучение модели\n",
    "results = nn_model.fit(\n",
    "    train_points, train_values,\n",
    "    epochs=5,\n",
    "    batch_size=100,\n",
    "    validation_data=(test_points, test_values)\n",
    ")\n",
    "\n",
    "# Предсказание\n",
    "nn_predict = nn_model.predict(test_points).flatten()\n",
    "\n",
    "# Удаление NaN и бесконечных значений перед расчетом mean_absolute_error\n",
    "valid_indices = ~np.isnan(nn_predict) & ~np.isinf(nn_predict)\n",
    "test_values_clean = test_values.values[valid_indices]\n",
    "nn_predict_clean = nn_predict[valid_indices]\n",
    "\n",
    "# Вычисление метрик\n",
    "mae_nn = mean_absolute_error(test_values_clean, nn_predict_clean)\n",
    "mse_nn = mean_squared_error(test_values_clean, nn_predict_clean)\n",
    "rmse_nn = mse_nn ** 0.5\n",
    "r2_nn = r2_score(test_values_clean, nn_predict_clean)\n",
    "\n",
    "# Вывод значений метрик\n",
    "print(f\"Среднее абсолютное отклонение (MAE) на тестовых данных (NN): {mae_nn}\")\n",
    "print(f\"Среднеквадратичная ошибка (MSE) на тестовых данных (NN): {mse_nn}\")\n",
    "print(f\"Корень средней квадратичной ошибки (RMSE) на тестовых данных (NN): {rmse_nn}\")\n",
    "print(f\"Коэффициент детерминации (R^2) на тестовых данных (NN): {r2_nn}\")\n"
   ],
   "metadata": {
    "collapsed": false,
    "ExecuteTime": {
     "end_time": "2024-08-24T12:02:23.714205Z",
     "start_time": "2024-08-24T12:02:23.380909500Z"
    }
   },
   "id": "8121d6b688326ca0",
   "execution_count": 48
  },
  {
   "cell_type": "code",
   "outputs": [
    {
     "name": "stdout",
     "output_type": "stream",
     "text": [
      "Среднее абсолютное отклонение (MAE) на тестовых данных (RandomForest): 1755.0767125167238\n",
      "Среднеквадратичная ошибка (MSE) на тестовых данных (RandomForest): 6332528.176861817\n",
      "Корень средней квадратичной ошибки (RMSE) на тестовых данных (RandomForest): 2516.451504969213\n",
      "Коэффициент детерминации (R^2) на тестовых данных (RandomForest): 0.5718023222952828\n"
     ]
    }
   ],
   "source": [
    "from sklearn.linear_model import LinearRegression\n",
    "model = LinearRegression()\n",
    "model.fit(train_points, train_values)\n",
    "y_predict = model.predict(test_points)\n",
    "# Вычисление метрик\n",
    "mae_rf = mean_absolute_error(test_values, y_predict)\n",
    "mse_rf = mean_squared_error(test_values, y_predict)\n",
    "rmse_rf = mse_rf ** 0.5\n",
    "r2_rf = r2_score(test_values, y_predict)\n",
    "\n",
    "# Вывод значений метрик\n",
    "print(f\"Среднее абсолютное отклонение (MAE) на тестовых данных (RandomForest): {mae_rf}\")\n",
    "print(f\"Среднеквадратичная ошибка (MSE) на тестовых данных (RandomForest): {mse_rf}\")\n",
    "print(f\"Корень средней квадратичной ошибки (RMSE) на тестовых данных (RandomForest): {rmse_rf}\")\n",
    "print(f\"Коэффициент детерминации (R^2) на тестовых данных (RandomForest): {r2_rf}\")"
   ],
   "metadata": {
    "collapsed": false,
    "ExecuteTime": {
     "end_time": "2024-08-24T12:02:44.493765500Z",
     "start_time": "2024-08-24T12:02:42.740483400Z"
    }
   },
   "id": "ff73b74bf29c0f77",
   "execution_count": 49
  },
  {
   "cell_type": "code",
   "outputs": [
    {
     "name": "stdout",
     "output_type": "stream",
     "text": [
      "Среднее абсолютное отклонение (MAE) на тестовых данных (RandomForest): 1414.1370390537918\n",
      "Среднеквадратичная ошибка (MSE) на тестовых данных (RandomForest): 4203710.860089935\n",
      "Корень средней квадратичной ошибки (RMSE) на тестовых данных (RandomForest): 2050.2953104589433\n",
      "Коэффициент детерминации (R^2) на тестовых данных (RandomForest): 0.7157503366470337\n"
     ]
    }
   ],
   "source": [
    "import xgboost as xgb\n",
    "xg_reg = xgb.XGBRegressor(objective = 'reg:squarederror', colsample_bytree = 0.3, learning_rate = 0.1,\n",
    "                max_depth = 5, alpha = 10, n_estimators = 100)\n",
    "xg_reg.fit(train_points, train_values)\n",
    "xgb_predict = xg_reg.predict(test_points)\n",
    "# Вычисление метрик\n",
    "mae_rf = mean_absolute_error(y_test, xgb_predict)\n",
    "mse_rf = mean_squared_error(y_test, xgb_predict)\n",
    "rmse_rf = mse_rf ** 0.5\n",
    "r2_rf = r2_score(y_test, xgb_predict)\n",
    "\n",
    "# Вывод значений метрик\n",
    "print(f\"Среднее абсолютное отклонение (MAE) на тестовых данных (RandomForest): {mae_rf}\")\n",
    "print(f\"Среднеквадратичная ошибка (MSE) на тестовых данных (RandomForest): {mse_rf}\")\n",
    "print(f\"Корень средней квадратичной ошибки (RMSE) на тестовых данных (RandomForest): {rmse_rf}\")\n",
    "print(f\"Коэффициент детерминации (R^2) на тестовых данных (RandomForest): {r2_rf}\")"
   ],
   "metadata": {
    "collapsed": false,
    "ExecuteTime": {
     "end_time": "2024-08-24T12:02:49.864799600Z",
     "start_time": "2024-08-24T12:02:45.457055100Z"
    }
   },
   "id": "bb9c63d45a7867f0",
   "execution_count": 50
  },
  {
   "cell_type": "code",
   "outputs": [
    {
     "name": "stdout",
     "output_type": "stream",
     "text": [
      "Среднее абсолютное отклонение (MAE) на тестовых данных (RandomForest): 1413.4045216952434\n",
      "Среднеквадратичная ошибка (MSE) на тестовых данных (RandomForest): 4446652.663817206\n",
      "Корень средней квадратичной ошибки (RMSE) на тестовых данных (RandomForest): 2108.7087669512844\n",
      "Коэффициент детерминации (R^2) на тестовых данных (RandomForest): 0.6993228784732227\n"
     ]
    }
   ],
   "source": [
    "import pandas as pd\n",
    "from sklearn.model_selection import train_test_split\n",
    "from sklearn.ensemble import RandomForestRegressor\n",
    "from sklearn.metrics import mean_absolute_error, mean_squared_error, r2_score\n",
    "\n",
    "# Предположим, что ваши данные уже подготовлены и содержат колонки с лагами и скользящими средними\n",
    "# Например: df содержит 'Sales_Lag_1', 'Sales_Lag_7', 'Sales_MA_7', 'Sales_MA_30' и другие признаки\n",
    "\n",
    "\n",
    "    \n",
    "\n",
    "# Разделение на признаки (X) и целевую переменную (y)\n",
    "X = df_form.drop(columns=['Sales'])  # Все колонки кроме 'Sales' являются признаками\n",
    "y = df_form['Sales']\n",
    "\n",
    "# Разделение данных на обучающую и тестовую выборки\n",
    "X_train, X_test, y_train, y_test = train_test_split(X, y, test_size=0.2, random_state=42)\n",
    "\n",
    "\n",
    "# Создаем модель случайного леса с оптимизированными параметрами\n",
    "model = RandomForestRegressor(\n",
    "    n_estimators=50,  \n",
    "    max_depth=10,  # Ограничение глубины деревьев для ускорения обучения\n",
    "    n_jobs=-1,  # все доступные ядра процессора\n",
    "    random_state=42\n",
    ")\n",
    "\n",
    "# Обучение модели\n",
    "model.fit(X_train, y_train)\n",
    "\n",
    "# Прогнозирование\n",
    "y_pred = model.predict(X_test)\n",
    "\n",
    "# Вычисление метрик\n",
    "mae_rf = mean_absolute_error(y_test, y_pred)\n",
    "mse_rf = mean_squared_error(y_test, y_pred)\n",
    "rmse_rf = mse_rf ** 0.5\n",
    "r2_rf = r2_score(y_test, y_pred)\n",
    "\n",
    "# Вывод значений метрик\n",
    "print(f\"Среднее абсолютное отклонение (MAE) на тестовых данных (RandomForest): {mae_rf}\")\n",
    "print(f\"Среднеквадратичная ошибка (MSE) на тестовых данных (RandomForest): {mse_rf}\")\n",
    "print(f\"Корень средней квадратичной ошибки (RMSE) на тестовых данных (RandomForest): {rmse_rf}\")\n",
    "print(f\"Коэффициент детерминации (R^2) на тестовых данных (RandomForest): {r2_rf}\")\n"
   ],
   "metadata": {
    "collapsed": false,
    "ExecuteTime": {
     "end_time": "2024-08-24T12:03:52.003938900Z",
     "start_time": "2024-08-24T12:02:56.271446400Z"
    }
   },
   "id": "52d3c61085ccdec5",
   "execution_count": 51
  },
  {
   "cell_type": "code",
   "outputs": [],
   "source": [
    "import pickle\n",
    "\n",
    "# Сохраните модель в файл\n",
    "with open('model.pkl', 'wb') as file:\n",
    "    pickle.dump(model, file)"
   ],
   "metadata": {
    "collapsed": false,
    "ExecuteTime": {
     "end_time": "2024-08-24T12:05:19.221011800Z",
     "start_time": "2024-08-24T12:05:19.202556800Z"
    }
   },
   "id": "a5fafe8fd2f32a80",
   "execution_count": 52
  },
  {
   "cell_type": "code",
   "outputs": [],
   "source": [],
   "metadata": {
    "collapsed": false,
    "ExecuteTime": {
     "start_time": "2024-08-24T12:02:23.724200800Z"
    }
   },
   "id": "df2eb94fd85fa5e6"
  }
 ],
 "metadata": {
  "kernelspec": {
   "display_name": "Python 3",
   "language": "python",
   "name": "python3"
  },
  "language_info": {
   "codemirror_mode": {
    "name": "ipython",
    "version": 2
   },
   "file_extension": ".py",
   "mimetype": "text/x-python",
   "name": "python",
   "nbconvert_exporter": "python",
   "pygments_lexer": "ipython2",
   "version": "2.7.6"
  }
 },
 "nbformat": 4,
 "nbformat_minor": 5
}
