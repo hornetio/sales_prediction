{
 "cells": [
  {
   "cell_type": "code",
   "outputs": [],
   "source": [
    "import pandas as pd\n",
    "import numpy as np\n",
    "from sklearn import ensemble\n",
    "from sklearn.ensemble import RandomForestRegressor\n",
    "from sklearn.metrics import mean_absolute_error\n",
    "from sklearn.model_selection import train_test_split\n",
    "from sklearn.preprocessing import OneHotEncoder\n",
    "from sklearn.ensemble import RandomForestClassifier\n",
    "\n",
    "from tensorflow.keras.models import Sequential\n",
    "from tensorflow.keras.layers import Dense\n",
    "\n",
    "import warnings\n",
    "warnings.simplefilter(action='ignore', category=FutureWarning)\n",
    "\n",
    "import numpy as np\n",
    "import pandas as pd\n",
    "\n",
    "test_data = pd.read_csv('D:/Valerian/Documents/OneDrive/Python/ДопОбр Анализ данных/Практика Нетодология/sales_prediction/Команда_11/test.csv', encoding='iso-8859-1',na_values=[''], keep_default_na=False)\n",
    "\n",
    "train_data = pd.read_csv('D:/Valerian/Documents/OneDrive/Python/ДопОбр Анализ данных/Практика Нетодология/sales_prediction/Команда_11/train.csv', parse_dates=['Date'], low_memory=False, na_values=[''], keep_default_na=False)\n",
    "\n",
    "# Загрузка данных из файла store.csv\n",
    "store_data = pd.read_csv('D:/Valerian/Documents/OneDrive/Python/ДопОбр Анализ данных/Практика Нетодология/sales_prediction/Команда_11/store.csv', encoding='iso-8859-1',na_values=[''], keep_default_na=False)\n",
    "\n",
    "\n",
    "# Заменяем NaN на '0'\n",
    "train_data = train_data.fillna(\"0\")\n",
    "test_data = test_data.fillna(\"0\")\n",
    "store_data = store_data.fillna(\"0\")\n",
    "df = pd.merge(train_data, store_data, on='Store')\n",
    "#df = df.drop('Store')\n",
    "print(df.columns)\n",
    "print(df.info)"
   ],
   "metadata": {
    "collapsed": false
   },
   "id": "3a771acf775d665d",
   "execution_count": null
  },
  {
   "cell_type": "markdown",
   "source": [
    "Удаление лишних столбцов"
   ],
   "metadata": {
    "collapsed": false
   },
   "id": "9e875e03b4af8d5"
  },
  {
   "cell_type": "code",
   "outputs": [],
   "source": [
    "df = df.copy()\n",
    "\n",
    "\n",
    "# Определение категориальных и числовых признаков\n",
    "categorical_column = ['StateHoliday', 'StoreType', 'Assortment', 'PromoInterval']\n",
    "num_column = ['Sales', 'Customers', 'Open', 'Promo', 'SchoolHoliday', \n",
    "                      'CompetitionDistance', 'CompetitionOpenSinceMonth', \n",
    "                      'Promo2', 'Promo2SinceWeek'\n",
    "                      ]\n",
    "\n",
    "date_column = ['Promo2SinceYear', 'CompetitionOpenSinceYear', \"Date\"]\n",
    "\n",
    "df.info"
   ],
   "metadata": {
    "collapsed": false
   },
   "id": "50b27ff7a7329de4",
   "execution_count": null
  },
  {
   "cell_type": "markdown",
   "source": [
    "Форматирование данных"
   ],
   "metadata": {
    "collapsed": false
   },
   "id": "33f9d0e5a926a5"
  },
  {
   "cell_type": "code",
   "outputs": [],
   "source": [
    "df_form = df.copy()\n",
    "\n",
    "\n",
    "df_form.replace({' - ': np.nan, '\\\\N': np.nan, 'NaN': np.nan}, inplace=True)\n",
    "df_form = df_form.dropna()\n",
    "\n",
    "# Факторизация категориальных столбцов\n",
    "encoder = OneHotEncoder(sparse_output=False)\n",
    "encoded_df_list = []\n",
    "\n",
    "for name in categorical_column:\n",
    "    # Применение OneHotEncoder к целевому столбцу\n",
    "    encoded_columns = encoder.fit_transform(df_form[[name]])\n",
    "    # Преобразование закодированных данных в DataFrame\n",
    "    encoded_df = pd.DataFrame(encoded_columns, columns=encoder.get_feature_names_out([name]))\n",
    "    encoded_df_list.append(encoded_df)\n",
    "\n",
    "# Объединение закодированных столбцов с исходным DataFrame (удалив при этом исходные столбцы)\n",
    "df_form = df_form.drop(columns=categorical_column)\n",
    "df_form = pd.concat([df_form] + encoded_df_list, axis=1)\n",
    "\n",
    "df_form['Year'] = df_form['Date'].dt.year - 2000\n",
    "df_form['Month'] = df_form['Date'].dt.month\n",
    "df_form['Day'] = df_form['Date'].dt.day\n",
    "del df_form['Date']\n",
    "#Приведение всех числовых столбцов к типу int\n",
    "for column in df_form.columns :\n",
    "    df_form[column] = pd.to_numeric(df_form[column], errors='coerce')\n",
    "\n",
    "df_form = df_form.dropna()\n",
    "\n",
    "\n",
    "df_form['CompetitionOpenSinceYear'] -= 2000\n",
    "df_form.loc[df_form['Promo2SinceYear'] > 2000, 'Promo2SinceYear'] -= 2000\n",
    "print()"
   ],
   "metadata": {
    "collapsed": false
   },
   "id": "f0382fe3dcfabd",
   "execution_count": null
  },
  {
   "cell_type": "markdown",
   "source": [
    "Создание тестового и тренировочного датасетов\n"
   ],
   "metadata": {
    "collapsed": false
   },
   "id": "18a3a9fd4e7883d8"
  },
  {
   "cell_type": "code",
   "outputs": [],
   "source": [
    "import pandas as pd\n",
    "from sklearn.preprocessing import StandardScaler\n",
    "from sklearn.model_selection import train_test_split\n",
    "\n",
    "df_form = pd.DataFrame(df_form)\n",
    "\n",
    "# Определяем целевую переменную\n",
    "target = 'Sales'\n",
    "\n",
    "# Разделяем признаки (X) и целевую переменную (y)\n",
    "X = df_form.drop(columns=[target])\n",
    "Y = df_form[target]\n",
    "\n",
    "# Сохраняем имена колонок для последующего использования\n",
    "column_names = X.columns\n",
    "\n",
    "# Масштабируем данные\n",
    "scaler = StandardScaler()\n",
    "X_scaled = scaler.fit_transform(X)\n",
    "\n",
    "# Создаем новый DataFrame с масштабированными данными\n",
    "X_scaled_df = pd.DataFrame(X_scaled, columns=column_names)\n",
    "\n",
    "# Разделяем данные на тренировочный и тестовый наборы\n",
    "train_points, test_points, train_values, test_values = train_test_split(X_scaled_df, Y, test_size=0.2, random_state=42)\n",
    "\n",
    "train_points = pd.DataFrame(train_points)\n",
    "test_points = pd.DataFrame(test_points)\n",
    "train_values = pd.DataFrame(train_values)\n",
    "test_values = pd.DataFrame(test_values)\n",
    "\n",
    "\n",
    "# Выводим информацию\n",
    "print(train_points)\n",
    "print(train_values)\n"
   ],
   "metadata": {
    "collapsed": false
   },
   "id": "c9b24f63694603b7",
   "execution_count": null
  },
  {
   "cell_type": "markdown",
   "source": [
    "Создание модели"
   ],
   "metadata": {
    "collapsed": false
   },
   "id": "e828332419ff092e"
  },
  {
   "cell_type": "code",
   "outputs": [],
   "source": [
    "import numpy as np\n",
    "from sklearn.metrics import mean_absolute_error, mean_squared_error, r2_score\n",
    "from tensorflow.keras.models import Sequential\n",
    "from tensorflow.keras.layers import Dense\n",
    "\n",
    "# Определение и компиляция модели\n",
    "nn_model = Sequential()\n",
    "nn_model.add(Dense(17, activation='relu', input_shape=(train_points.shape[1],)))\n",
    "nn_model.add(Dense(15, activation='relu'))\n",
    "nn_model.add(Dense(15, activation='relu'))\n",
    "nn_model.add(Dense(1))\n",
    "\n",
    "nn_model.compile(loss='mean_absolute_error', optimizer='adam')\n",
    "\n",
    "# Обучение модели\n",
    "results = nn_model.fit(\n",
    "    train_points, train_values,\n",
    "    epochs=5,\n",
    "    batch_size=100,\n",
    "    validation_data=(test_points, test_values)\n",
    ")\n",
    "\n",
    "# Предсказание\n",
    "nn_predict = nn_model.predict(test_points).flatten()\n",
    "\n",
    "# Удаление NaN и бесконечных значений перед расчетом mean_absolute_error\n",
    "valid_indices = ~np.isnan(nn_predict) & ~np.isinf(nn_predict)\n",
    "test_values_clean = test_values.values[valid_indices]\n",
    "nn_predict_clean = nn_predict[valid_indices]\n",
    "\n",
    "# Вычисление метрик\n",
    "mae_nn = mean_absolute_error(test_values_clean, nn_predict_clean)\n",
    "mse_nn = mean_squared_error(test_values_clean, nn_predict_clean)\n",
    "rmse_nn = mse_nn ** 0.5\n",
    "r2_nn = r2_score(test_values_clean, nn_predict_clean)\n",
    "\n",
    "# Вывод значений метрик\n",
    "print(f\"Среднее абсолютное отклонение (MAE) на тестовых данных (NN): {mae_nn}\")\n",
    "print(f\"Среднеквадратичная ошибка (MSE) на тестовых данных (NN): {mse_nn}\")\n",
    "print(f\"Корень средней квадратичной ошибки (RMSE) на тестовых данных (NN): {rmse_nn}\")\n",
    "print(f\"Коэффициент детерминации (R^2) на тестовых данных (NN): {r2_nn}\")\n"
   ],
   "metadata": {
    "collapsed": false
   },
   "id": "8121d6b688326ca0",
   "execution_count": null
  },
  {
   "cell_type": "code",
   "outputs": [],
   "source": [
    "from sklearn.linear_model import LinearRegression\n",
    "model = LinearRegression()\n",
    "model.fit(train_points, train_values)\n",
    "y_predict = model.predict(test_points)\n",
    "# Вычисление метрик\n",
    "mae_rf = mean_absolute_error(test_values, y_predict)\n",
    "mse_rf = mean_squared_error(test_values, y_predict)\n",
    "rmse_rf = mse_rf ** 0.5\n",
    "r2_rf = r2_score(test_values, y_predict)\n",
    "\n",
    "# Вывод значений метрик\n",
    "print(f\"Среднее абсолютное отклонение (MAE) на тестовых данных (RandomForest): {mae_rf}\")\n",
    "print(f\"Среднеквадратичная ошибка (MSE) на тестовых данных (RandomForest): {mse_rf}\")\n",
    "print(f\"Корень средней квадратичной ошибки (RMSE) на тестовых данных (RandomForest): {rmse_rf}\")\n",
    "print(f\"Коэффициент детерминации (R^2) на тестовых данных (RandomForest): {r2_rf}\")"
   ],
   "metadata": {
    "collapsed": false
   },
   "id": "ff73b74bf29c0f77",
   "execution_count": null
  },
  {
   "cell_type": "code",
   "outputs": [],
   "source": [
    "import xgboost as xgb\n",
    "xg_reg = xgb.XGBRegressor(objective = 'reg:squarederror', colsample_bytree = 0.3, learning_rate = 0.1,\n",
    "                max_depth = 5, alpha = 10, n_estimators = 100)\n",
    "xg_reg.fit(train_points, train_values)\n",
    "xgb_predict = xg_reg.predict(test_points)\n",
    "# Вычисление метрик\n",
    "mae_rf = mean_absolute_error(y_test, xgb_predict)\n",
    "mse_rf = mean_squared_error(y_test, xgb_predict)\n",
    "rmse_rf = mse_rf ** 0.5\n",
    "r2_rf = r2_score(y_test, xgb_predict)\n",
    "\n",
    "# Вывод значений метрик\n",
    "print(f\"Среднее абсолютное отклонение (MAE) на тестовых данных (RandomForest): {mae_rf}\")\n",
    "print(f\"Среднеквадратичная ошибка (MSE) на тестовых данных (RandomForest): {mse_rf}\")\n",
    "print(f\"Корень средней квадратичной ошибки (RMSE) на тестовых данных (RandomForest): {rmse_rf}\")\n",
    "print(f\"Коэффициент детерминации (R^2) на тестовых данных (RandomForest): {r2_rf}\")"
   ],
   "metadata": {
    "collapsed": false
   },
   "id": "bb9c63d45a7867f0",
   "execution_count": null
  },
  {
   "cell_type": "code",
   "outputs": [],
   "source": [
    "import pandas as pd\n",
    "from sklearn.model_selection import train_test_split\n",
    "from sklearn.ensemble import RandomForestRegressor\n",
    "from sklearn.metrics import mean_absolute_error, mean_squared_error, r2_score\n",
    "\n",
    "# Предположим, что ваши данные уже подготовлены и содержат колонки с лагами и скользящими средними\n",
    "# Например: df содержит 'Sales_Lag_1', 'Sales_Lag_7', 'Sales_MA_7', 'Sales_MA_30' и другие признаки\n",
    "\n",
    "\n",
    "    \n",
    "\n",
    "# Разделение на признаки (X) и целевую переменную (y)\n",
    "X = df_form.drop(columns=['Sales'])  # Все колонки кроме 'Sales' являются признаками\n",
    "y = df_form['Sales']\n",
    "\n",
    "# Разделение данных на обучающую и тестовую выборки\n",
    "X_train, X_test, y_train, y_test = train_test_split(X, y, test_size=0.2, random_state=42)\n",
    "\n",
    "\n",
    "# Создаем модель случайного леса с оптимизированными параметрами\n",
    "model = RandomForestRegressor(\n",
    "    n_estimators=50,  \n",
    "    max_depth=10,  # Ограничение глубины деревьев для ускорения обучения\n",
    "    n_jobs=-1,  # все доступные ядра процессора\n",
    "    random_state=42\n",
    ")\n",
    "\n",
    "# Обучение модели\n",
    "model.fit(X_train, y_train)\n",
    "\n",
    "# Прогнозирование\n",
    "y_pred = model.predict(X_test)\n",
    "\n",
    "# Вычисление метрик\n",
    "mae_rf = mean_absolute_error(y_test, y_pred)\n",
    "mse_rf = mean_squared_error(y_test, y_pred)\n",
    "rmse_rf = mse_rf ** 0.5\n",
    "r2_rf = r2_score(y_test, y_pred)\n",
    "\n",
    "# Вывод значений метрик\n",
    "print(f\"Среднее абсолютное отклонение (MAE) на тестовых данных (RandomForest): {mae_rf}\")\n",
    "print(f\"Среднеквадратичная ошибка (MSE) на тестовых данных (RandomForest): {mse_rf}\")\n",
    "print(f\"Корень средней квадратичной ошибки (RMSE) на тестовых данных (RandomForest): {rmse_rf}\")\n",
    "print(f\"Коэффициент детерминации (R^2) на тестовых данных (RandomForest): {r2_rf}\")\n"
   ],
   "metadata": {
    "collapsed": false
   },
   "id": "52d3c61085ccdec5",
   "execution_count": null
  },
  {
   "cell_type": "code",
   "outputs": [],
   "source": [
    "import pickle\n",
    "\n",
    "# Сохраните модель в файл\n",
    "with open('model.pkl', 'wb') as file:\n",
    "    pickle.dump(model, file)"
   ],
   "metadata": {
    "collapsed": false
   },
   "id": "a5fafe8fd2f32a80",
   "execution_count": null
  },
  {
   "cell_type": "code",
   "outputs": [],
   "source": [],
   "metadata": {
    "collapsed": false
   },
   "id": "df2eb94fd85fa5e6"
  }
 ],
 "metadata": {
  "kernelspec": {
   "display_name": "Python 3",
   "language": "python",
   "name": "python3"
  },
  "language_info": {
   "codemirror_mode": {
    "name": "ipython",
    "version": 2
   },
   "file_extension": ".py",
   "mimetype": "text/x-python",
   "name": "python",
   "nbconvert_exporter": "python",
   "pygments_lexer": "ipython2",
   "version": "2.7.6"
  }
 },
 "nbformat": 4,
 "nbformat_minor": 5
}
